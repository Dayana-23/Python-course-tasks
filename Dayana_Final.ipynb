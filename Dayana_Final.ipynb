{
  "cells": [
    {
      "cell_type": "markdown",
      "metadata": {
        "id": "PVffMoeoISHM"
      },
      "source": [
        "# PDS2: Final exam\n",
        "\n",
        "### Date: June 18\n",
        "\n",
        "### Time: 10:00 - 13:00\n",
        "\n",
        "\n",
        "**Instructions:** \n",
        "* All answers should be filled in the notebook and then submitted to Moodle;\n",
        "* For theoretical question you can use markdown and LaTeX;\n",
        "* Save number of cells used for compilation;\n",
        "* In order to get max scores, please write explanations and comments for each step. In addition, try to comment your code pieces.\n",
        "* **Plagiarism will result in FAIL. For example, two students having identical code for solution, then both will get 0 mark for the exam.**\n",
        "\n",
        "\n",
        "GOOD LUCK!"
      ],
      "id": "PVffMoeoISHM"
    },
    {
      "cell_type": "code",
      "execution_count": null,
      "metadata": {
        "id": "vPeCvRQTISHR"
      },
      "outputs": [],
      "source": [
        "import numpy as np\n",
        "import pandas as pd\n",
        "import matplotlib.pyplot as plt\n",
        "import seaborn as sns\n",
        "# Scaling\n",
        "from sklearn import preprocessing\n",
        "from sklearn.preprocessing import LabelEncoder\n",
        "from sklearn.preprocessing import StandardScaler\n",
        "from sklearn.model_selection import train_test_split\n",
        "\n",
        "# Models Needed\n",
        "from sklearn.feature_selection import SelectKBest\n",
        "from sklearn.feature_selection import f_classif\n",
        "\n",
        "from sklearn.linear_model import LinearRegression\n",
        "from sklearn.linear_model import LogisticRegression\n",
        "from sklearn.tree import DecisionTreeClassifier\n",
        "from sklearn.neighbors import KNeighborsClassifier\n",
        "\n",
        "from sklearn.linear_model import Ridge, Lasso , RidgeCV, LassoCV\n",
        "from sklearn.decomposition import PCA\n",
        "\n",
        "# ML- model Evaluation\n",
        "from sklearn import metrics\n",
        "from sklearn.metrics import mean_squared_error,r2_score\n",
        "from sklearn.metrics import classification_report,confusion_matrix,roc_auc_score ,roc_curve,auc\n",
        "from sklearn.metrics import accuracy_score, recall_score, precision_score, f1_score\n",
        "from sklearn.model_selection import KFold, cross_val_score\n",
        "from sklearn.model_selection import GridSearchCV\n",
        "\n",
        "import warnings  # do not show matching warnings\n",
        "warnings.filterwarnings('ignore')"
      ],
      "id": "vPeCvRQTISHR"
    },
    {
      "cell_type": "markdown",
      "metadata": {
        "id": "WmKPVKXXISHT"
      },
      "source": [
        "## Task 1 - Classification (25%)\n",
        "\n",
        "Steps to do:\n",
        "\n",
        "0. Read data from task_1_dataset.xlsx.\n",
        "1. Find highly correlated features and remove one of them.\n",
        "2. Split data into train and test (test size is 0.3).\n",
        "3. Apply some feature selection technique.\n",
        "4. Fit train dataset with several models of your choice (at least 3 different algorithms).\n",
        "5. Think which models and what hyperparemeters should be tuned. Tune appropriate model with GridSearchCV or RandomSearchCV. Tune at least 2 hyperparameters.\n",
        "6. Find AUC for train and test sets for all three models. Save results in data frame format. Show results.\n",
        "7. Write some conclusion about model performances"
      ],
      "id": "WmKPVKXXISHT"
    },
    {
      "cell_type": "code",
      "execution_count": null,
      "metadata": {
        "id": "q7BNmznmISHT",
        "outputId": "c83f3914-c6d8-4e03-e06c-a32d2c0248fa"
      },
      "outputs": [
        {
          "data": {
            "text/html": [
              "<div>\n",
              "<style scoped>\n",
              "    .dataframe tbody tr th:only-of-type {\n",
              "        vertical-align: middle;\n",
              "    }\n",
              "\n",
              "    .dataframe tbody tr th {\n",
              "        vertical-align: top;\n",
              "    }\n",
              "\n",
              "    .dataframe thead th {\n",
              "        text-align: right;\n",
              "    }\n",
              "</style>\n",
              "<table border=\"1\" class=\"dataframe\">\n",
              "  <thead>\n",
              "    <tr style=\"text-align: right;\">\n",
              "      <th></th>\n",
              "      <th>var1</th>\n",
              "      <th>var2</th>\n",
              "      <th>var3</th>\n",
              "      <th>var4</th>\n",
              "      <th>var5</th>\n",
              "      <th>var6</th>\n",
              "      <th>var7</th>\n",
              "      <th>var8</th>\n",
              "      <th>var9</th>\n",
              "      <th>var10</th>\n",
              "      <th>...</th>\n",
              "      <th>var22</th>\n",
              "      <th>var23</th>\n",
              "      <th>var24</th>\n",
              "      <th>var25</th>\n",
              "      <th>var26</th>\n",
              "      <th>var27</th>\n",
              "      <th>var28</th>\n",
              "      <th>var29</th>\n",
              "      <th>var30</th>\n",
              "      <th>target</th>\n",
              "    </tr>\n",
              "  </thead>\n",
              "  <tbody>\n",
              "    <tr>\n",
              "      <th>0</th>\n",
              "      <td>-2.177011</td>\n",
              "      <td>-6.226248</td>\n",
              "      <td>-4.180724</td>\n",
              "      <td>-0.301575</td>\n",
              "      <td>0.312956</td>\n",
              "      <td>2.072484</td>\n",
              "      <td>-0.431621</td>\n",
              "      <td>11.231389</td>\n",
              "      <td>2.647677</td>\n",
              "      <td>-1.255365</td>\n",
              "      <td>...</td>\n",
              "      <td>-2.177011</td>\n",
              "      <td>7.461246</td>\n",
              "      <td>2.547404</td>\n",
              "      <td>-4.967362</td>\n",
              "      <td>1.907483</td>\n",
              "      <td>1.692546</td>\n",
              "      <td>-3.468058</td>\n",
              "      <td>-8.705446</td>\n",
              "      <td>-1.128374</td>\n",
              "      <td>0</td>\n",
              "    </tr>\n",
              "    <tr>\n",
              "      <th>1</th>\n",
              "      <td>-2.091911</td>\n",
              "      <td>-6.166519</td>\n",
              "      <td>2.630665</td>\n",
              "      <td>-2.710098</td>\n",
              "      <td>-6.709456</td>\n",
              "      <td>-9.957898</td>\n",
              "      <td>1.572536</td>\n",
              "      <td>-3.160593</td>\n",
              "      <td>0.800949</td>\n",
              "      <td>-1.731416</td>\n",
              "      <td>...</td>\n",
              "      <td>-2.091911</td>\n",
              "      <td>-1.825861</td>\n",
              "      <td>-1.357695</td>\n",
              "      <td>3.462102</td>\n",
              "      <td>-0.292048</td>\n",
              "      <td>-1.820714</td>\n",
              "      <td>-4.606010</td>\n",
              "      <td>8.642310</td>\n",
              "      <td>-1.561423</td>\n",
              "      <td>1</td>\n",
              "    </tr>\n",
              "    <tr>\n",
              "      <th>2</th>\n",
              "      <td>2.371305</td>\n",
              "      <td>17.347923</td>\n",
              "      <td>-1.361822</td>\n",
              "      <td>0.129764</td>\n",
              "      <td>0.006112</td>\n",
              "      <td>3.565529</td>\n",
              "      <td>-0.048206</td>\n",
              "      <td>1.842185</td>\n",
              "      <td>-2.963972</td>\n",
              "      <td>0.629045</td>\n",
              "      <td>...</td>\n",
              "      <td>2.371305</td>\n",
              "      <td>-4.719132</td>\n",
              "      <td>-1.798156</td>\n",
              "      <td>-0.254512</td>\n",
              "      <td>-7.593664</td>\n",
              "      <td>0.170942</td>\n",
              "      <td>-1.080999</td>\n",
              "      <td>1.496065</td>\n",
              "      <td>2.593735</td>\n",
              "      <td>0</td>\n",
              "    </tr>\n",
              "    <tr>\n",
              "      <th>3</th>\n",
              "      <td>0.190427</td>\n",
              "      <td>-3.864422</td>\n",
              "      <td>-1.502271</td>\n",
              "      <td>0.523183</td>\n",
              "      <td>-1.767517</td>\n",
              "      <td>-2.963652</td>\n",
              "      <td>1.307273</td>\n",
              "      <td>3.199642</td>\n",
              "      <td>0.182576</td>\n",
              "      <td>-1.424840</td>\n",
              "      <td>...</td>\n",
              "      <td>0.190427</td>\n",
              "      <td>1.670265</td>\n",
              "      <td>0.115206</td>\n",
              "      <td>-1.048627</td>\n",
              "      <td>-4.164541</td>\n",
              "      <td>-0.088675</td>\n",
              "      <td>-3.645926</td>\n",
              "      <td>-2.236702</td>\n",
              "      <td>1.605658</td>\n",
              "      <td>0</td>\n",
              "    </tr>\n",
              "    <tr>\n",
              "      <th>4</th>\n",
              "      <td>-1.137822</td>\n",
              "      <td>6.357994</td>\n",
              "      <td>1.355599</td>\n",
              "      <td>6.443955</td>\n",
              "      <td>0.199483</td>\n",
              "      <td>-1.264720</td>\n",
              "      <td>0.093690</td>\n",
              "      <td>-2.481635</td>\n",
              "      <td>-0.559349</td>\n",
              "      <td>4.330649</td>\n",
              "      <td>...</td>\n",
              "      <td>-1.137822</td>\n",
              "      <td>-0.805009</td>\n",
              "      <td>-0.307193</td>\n",
              "      <td>1.307138</td>\n",
              "      <td>-1.717511</td>\n",
              "      <td>-2.829551</td>\n",
              "      <td>3.006860</td>\n",
              "      <td>2.654826</td>\n",
              "      <td>1.541139</td>\n",
              "      <td>0</td>\n",
              "    </tr>\n",
              "  </tbody>\n",
              "</table>\n",
              "<p>5 rows × 31 columns</p>\n",
              "</div>"
            ],
            "text/plain": [
              "       var1       var2      var3      var4      var5      var6      var7  \\\n",
              "0 -2.177011  -6.226248 -4.180724 -0.301575  0.312956  2.072484 -0.431621   \n",
              "1 -2.091911  -6.166519  2.630665 -2.710098 -6.709456 -9.957898  1.572536   \n",
              "2  2.371305  17.347923 -1.361822  0.129764  0.006112  3.565529 -0.048206   \n",
              "3  0.190427  -3.864422 -1.502271  0.523183 -1.767517 -2.963652  1.307273   \n",
              "4 -1.137822   6.357994  1.355599  6.443955  0.199483 -1.264720  0.093690   \n",
              "\n",
              "        var8      var9     var10  ...     var22     var23     var24     var25  \\\n",
              "0  11.231389  2.647677 -1.255365  ... -2.177011  7.461246  2.547404 -4.967362   \n",
              "1  -3.160593  0.800949 -1.731416  ... -2.091911 -1.825861 -1.357695  3.462102   \n",
              "2   1.842185 -2.963972  0.629045  ...  2.371305 -4.719132 -1.798156 -0.254512   \n",
              "3   3.199642  0.182576 -1.424840  ...  0.190427  1.670265  0.115206 -1.048627   \n",
              "4  -2.481635 -0.559349  4.330649  ... -1.137822 -0.805009 -0.307193  1.307138   \n",
              "\n",
              "      var26     var27     var28     var29     var30  target  \n",
              "0  1.907483  1.692546 -3.468058 -8.705446 -1.128374       0  \n",
              "1 -0.292048 -1.820714 -4.606010  8.642310 -1.561423       1  \n",
              "2 -7.593664  0.170942 -1.080999  1.496065  2.593735       0  \n",
              "3 -4.164541 -0.088675 -3.645926 -2.236702  1.605658       0  \n",
              "4 -1.717511 -2.829551  3.006860  2.654826  1.541139       0  \n",
              "\n",
              "[5 rows x 31 columns]"
            ]
          },
          "execution_count": 85,
          "metadata": {},
          "output_type": "execute_result"
        }
      ],
      "source": [
        "# reading the excel file\n",
        "df1 = pd.read_excel('task_1_dataset.xlsx')\n",
        "df1.head()"
      ],
      "id": "q7BNmznmISHT"
    },
    {
      "cell_type": "code",
      "execution_count": null,
      "metadata": {
        "id": "8aZ9DL9FISHU",
        "outputId": "3a252698-672c-4dc6-da14-8ffa3fcbbc45"
      },
      "outputs": [
        {
          "data": {
            "text/plain": [
              "(10000, 31)"
            ]
          },
          "execution_count": 86,
          "metadata": {},
          "output_type": "execute_result"
        }
      ],
      "source": [
        "df1.shape"
      ],
      "id": "8aZ9DL9FISHU"
    },
    {
      "cell_type": "code",
      "execution_count": null,
      "metadata": {
        "id": "su0IA6MFISHV",
        "outputId": "e848e210-c3ea-458c-a894-536c691f4930"
      },
      "outputs": [
        {
          "data": {
            "text/html": [
              "<div>\n",
              "<style scoped>\n",
              "    .dataframe tbody tr th:only-of-type {\n",
              "        vertical-align: middle;\n",
              "    }\n",
              "\n",
              "    .dataframe tbody tr th {\n",
              "        vertical-align: top;\n",
              "    }\n",
              "\n",
              "    .dataframe thead th {\n",
              "        text-align: right;\n",
              "    }\n",
              "</style>\n",
              "<table border=\"1\" class=\"dataframe\">\n",
              "  <thead>\n",
              "    <tr style=\"text-align: right;\">\n",
              "      <th></th>\n",
              "      <th>Correlation</th>\n",
              "    </tr>\n",
              "  </thead>\n",
              "  <tbody>\n",
              "    <tr>\n",
              "      <th>target</th>\n",
              "      <td>1.000000</td>\n",
              "    </tr>\n",
              "    <tr>\n",
              "      <th>var15</th>\n",
              "      <td>0.178073</td>\n",
              "    </tr>\n",
              "    <tr>\n",
              "      <th>var30</th>\n",
              "      <td>0.177587</td>\n",
              "    </tr>\n",
              "    <tr>\n",
              "      <th>var6</th>\n",
              "      <td>0.176325</td>\n",
              "    </tr>\n",
              "    <tr>\n",
              "      <th>var26</th>\n",
              "      <td>0.174867</td>\n",
              "    </tr>\n",
              "    <tr>\n",
              "      <th>var3</th>\n",
              "      <td>0.174021</td>\n",
              "    </tr>\n",
              "    <tr>\n",
              "      <th>var16</th>\n",
              "      <td>0.172952</td>\n",
              "    </tr>\n",
              "    <tr>\n",
              "      <th>var14</th>\n",
              "      <td>0.171773</td>\n",
              "    </tr>\n",
              "    <tr>\n",
              "      <th>var18</th>\n",
              "      <td>0.166787</td>\n",
              "    </tr>\n",
              "    <tr>\n",
              "      <th>var28</th>\n",
              "      <td>0.163760</td>\n",
              "    </tr>\n",
              "    <tr>\n",
              "      <th>var2</th>\n",
              "      <td>0.158862</td>\n",
              "    </tr>\n",
              "    <tr>\n",
              "      <th>var10</th>\n",
              "      <td>0.156960</td>\n",
              "    </tr>\n",
              "    <tr>\n",
              "      <th>var12</th>\n",
              "      <td>0.153202</td>\n",
              "    </tr>\n",
              "    <tr>\n",
              "      <th>var29</th>\n",
              "      <td>0.015140</td>\n",
              "    </tr>\n",
              "    <tr>\n",
              "      <th>var19</th>\n",
              "      <td>0.015140</td>\n",
              "    </tr>\n",
              "    <tr>\n",
              "      <th>var8</th>\n",
              "      <td>0.014572</td>\n",
              "    </tr>\n",
              "    <tr>\n",
              "      <th>var5</th>\n",
              "      <td>0.014396</td>\n",
              "    </tr>\n",
              "    <tr>\n",
              "      <th>var7</th>\n",
              "      <td>0.011458</td>\n",
              "    </tr>\n",
              "    <tr>\n",
              "      <th>var9</th>\n",
              "      <td>0.011009</td>\n",
              "    </tr>\n",
              "    <tr>\n",
              "      <th>var20</th>\n",
              "      <td>0.002259</td>\n",
              "    </tr>\n",
              "    <tr>\n",
              "      <th>var21</th>\n",
              "      <td>0.000843</td>\n",
              "    </tr>\n",
              "    <tr>\n",
              "      <th>var11</th>\n",
              "      <td>0.000843</td>\n",
              "    </tr>\n",
              "    <tr>\n",
              "      <th>var23</th>\n",
              "      <td>-0.003609</td>\n",
              "    </tr>\n",
              "    <tr>\n",
              "      <th>var25</th>\n",
              "      <td>-0.007769</td>\n",
              "    </tr>\n",
              "    <tr>\n",
              "      <th>var4</th>\n",
              "      <td>-0.008289</td>\n",
              "    </tr>\n",
              "    <tr>\n",
              "      <th>var24</th>\n",
              "      <td>-0.015443</td>\n",
              "    </tr>\n",
              "    <tr>\n",
              "      <th>var22</th>\n",
              "      <td>-0.160303</td>\n",
              "    </tr>\n",
              "    <tr>\n",
              "      <th>var1</th>\n",
              "      <td>-0.160303</td>\n",
              "    </tr>\n",
              "    <tr>\n",
              "      <th>var27</th>\n",
              "      <td>-0.165280</td>\n",
              "    </tr>\n",
              "    <tr>\n",
              "      <th>var13</th>\n",
              "      <td>-0.165878</td>\n",
              "    </tr>\n",
              "    <tr>\n",
              "      <th>var17</th>\n",
              "      <td>-0.309898</td>\n",
              "    </tr>\n",
              "  </tbody>\n",
              "</table>\n",
              "</div>"
            ],
            "text/plain": [
              "        Correlation\n",
              "target     1.000000\n",
              "var15      0.178073\n",
              "var30      0.177587\n",
              "var6       0.176325\n",
              "var26      0.174867\n",
              "var3       0.174021\n",
              "var16      0.172952\n",
              "var14      0.171773\n",
              "var18      0.166787\n",
              "var28      0.163760\n",
              "var2       0.158862\n",
              "var10      0.156960\n",
              "var12      0.153202\n",
              "var29      0.015140\n",
              "var19      0.015140\n",
              "var8       0.014572\n",
              "var5       0.014396\n",
              "var7       0.011458\n",
              "var9       0.011009\n",
              "var20      0.002259\n",
              "var21      0.000843\n",
              "var11      0.000843\n",
              "var23     -0.003609\n",
              "var25     -0.007769\n",
              "var4      -0.008289\n",
              "var24     -0.015443\n",
              "var22     -0.160303\n",
              "var1      -0.160303\n",
              "var27     -0.165280\n",
              "var13     -0.165878\n",
              "var17     -0.309898"
            ]
          },
          "execution_count": 87,
          "metadata": {},
          "output_type": "execute_result"
        }
      ],
      "source": [
        "# convert series to dataframe so it can be sorted\n",
        "correlation = df1.corr()['target']\n",
        "correlation_df = pd.DataFrame(correlation)\n",
        "# correct column label from Balance to correlation\n",
        "correlation_df.columns = [\"Correlation\"]\n",
        "# sort correlation\n",
        "corr_sorted = correlation_df.sort_values(by=['Correlation'], ascending=False)\n",
        "corr_sorted"
      ],
      "id": "su0IA6MFISHV"
    },
    {
      "cell_type": "code",
      "execution_count": null,
      "metadata": {
        "id": "B8gMrtffISHV"
      },
      "outputs": [],
      "source": [
        "df1 = df1.drop(\"var15\", axis = 1) \n",
        "df1 = df1.drop(\"var22\", axis = 1) "
      ],
      "id": "B8gMrtffISHV"
    },
    {
      "cell_type": "code",
      "execution_count": null,
      "metadata": {
        "id": "yv9Yd6_nISHV",
        "outputId": "b4406f80-f0b2-4b04-e0ca-3412ccc5ffe2"
      },
      "outputs": [
        {
          "name": "stdout",
          "output_type": "stream",
          "text": [
            "(7000, 28)\n",
            "(7000,)\n",
            "(3000, 28)\n",
            "(3000,)\n"
          ]
        }
      ],
      "source": [
        "# X and y arrays:\n",
        "X = df1.drop(\"target\", axis = 1) # All columns except this column.\n",
        "y = df1[\"target\"] # Only this column\n",
        "\n",
        "# splitting data into training and test data\n",
        "X_train, X_test, y_train, y_test = train_test_split(X, y, test_size = 0.3, random_state=2021) \n",
        "# 70% training and 30% test\n",
        "print(X_train.shape)\n",
        "print(y_train.shape)\n",
        "print(X_test.shape)\n",
        "print(y_test.shape)"
      ],
      "id": "yv9Yd6_nISHV"
    },
    {
      "cell_type": "code",
      "execution_count": null,
      "metadata": {
        "id": "GzZVjIBLISHW",
        "outputId": "2e2662b2-cb8a-4094-d64e-f79a248af233"
      },
      "outputs": [
        {
          "name": "stdout",
          "output_type": "stream",
          "text": [
            "(10000, 5)\n"
          ]
        }
      ],
      "source": [
        "#  feature selection\n",
        "fs = SelectKBest(score_func=f_classif, k=5)\n",
        "# apply feature selection\n",
        "X_selected = fs.fit_transform(X, y)\n",
        "print(X_selected.shape)"
      ],
      "id": "GzZVjIBLISHW"
    },
    {
      "cell_type": "code",
      "execution_count": null,
      "metadata": {
        "id": "cczXW2X0ISHW",
        "outputId": "02d3fb16-fb9f-4c5e-eb34-4d29afd37f86"
      },
      "outputs": [
        {
          "data": {
            "text/html": [
              "<div>\n",
              "<style scoped>\n",
              "    .dataframe tbody tr th:only-of-type {\n",
              "        vertical-align: middle;\n",
              "    }\n",
              "\n",
              "    .dataframe tbody tr th {\n",
              "        vertical-align: top;\n",
              "    }\n",
              "\n",
              "    .dataframe thead th {\n",
              "        text-align: right;\n",
              "    }\n",
              "</style>\n",
              "<table border=\"1\" class=\"dataframe\">\n",
              "  <thead>\n",
              "    <tr style=\"text-align: right;\">\n",
              "      <th></th>\n",
              "      <th>Names</th>\n",
              "      <th>F_score</th>\n",
              "    </tr>\n",
              "  </thead>\n",
              "  <tbody>\n",
              "    <tr>\n",
              "      <th>15</th>\n",
              "      <td>var17</td>\n",
              "      <td>1062.187276</td>\n",
              "    </tr>\n",
              "    <tr>\n",
              "      <th>27</th>\n",
              "      <td>var30</td>\n",
              "      <td>325.575862</td>\n",
              "    </tr>\n",
              "    <tr>\n",
              "      <th>5</th>\n",
              "      <td>var6</td>\n",
              "      <td>320.816390</td>\n",
              "    </tr>\n",
              "    <tr>\n",
              "      <th>23</th>\n",
              "      <td>var26</td>\n",
              "      <td>315.367389</td>\n",
              "    </tr>\n",
              "    <tr>\n",
              "      <th>2</th>\n",
              "      <td>var3</td>\n",
              "      <td>312.227497</td>\n",
              "    </tr>\n",
              "    <tr>\n",
              "      <th>14</th>\n",
              "      <td>var16</td>\n",
              "      <td>308.285634</td>\n",
              "    </tr>\n",
              "    <tr>\n",
              "      <th>13</th>\n",
              "      <td>var14</td>\n",
              "      <td>303.968486</td>\n",
              "    </tr>\n",
              "    <tr>\n",
              "      <th>16</th>\n",
              "      <td>var18</td>\n",
              "      <td>286.082996</td>\n",
              "    </tr>\n",
              "    <tr>\n",
              "      <th>12</th>\n",
              "      <td>var13</td>\n",
              "      <td>282.883578</td>\n",
              "    </tr>\n",
              "    <tr>\n",
              "      <th>24</th>\n",
              "      <td>var27</td>\n",
              "      <td>280.792141</td>\n",
              "    </tr>\n",
              "    <tr>\n",
              "      <th>25</th>\n",
              "      <td>var28</td>\n",
              "      <td>275.507713</td>\n",
              "    </tr>\n",
              "    <tr>\n",
              "      <th>0</th>\n",
              "      <td>var1</td>\n",
              "      <td>263.693915</td>\n",
              "    </tr>\n",
              "    <tr>\n",
              "      <th>1</th>\n",
              "      <td>var2</td>\n",
              "      <td>258.852304</td>\n",
              "    </tr>\n",
              "    <tr>\n",
              "      <th>9</th>\n",
              "      <td>var10</td>\n",
              "      <td>252.536278</td>\n",
              "    </tr>\n",
              "    <tr>\n",
              "      <th>11</th>\n",
              "      <td>var12</td>\n",
              "      <td>240.302260</td>\n",
              "    </tr>\n",
              "    <tr>\n",
              "      <th>21</th>\n",
              "      <td>var24</td>\n",
              "      <td>2.384961</td>\n",
              "    </tr>\n",
              "  </tbody>\n",
              "</table>\n",
              "</div>"
            ],
            "text/plain": [
              "    Names      F_score\n",
              "15  var17  1062.187276\n",
              "27  var30   325.575862\n",
              "5    var6   320.816390\n",
              "23  var26   315.367389\n",
              "2    var3   312.227497\n",
              "14  var16   308.285634\n",
              "13  var14   303.968486\n",
              "16  var18   286.082996\n",
              "12  var13   282.883578\n",
              "24  var27   280.792141\n",
              "25  var28   275.507713\n",
              "0    var1   263.693915\n",
              "1    var2   258.852304\n",
              "9   var10   252.536278\n",
              "11  var12   240.302260\n",
              "21  var24     2.384961"
            ]
          },
          "execution_count": 91,
          "metadata": {},
          "output_type": "execute_result"
        }
      ],
      "source": [
        "# Collecting into 1 df all f_scores:\n",
        "df_cols = pd.DataFrame(X.columns)\n",
        "df_score = pd.DataFrame(fs.scores_)\n",
        "all_fscorr = pd.concat([df_cols,df_score],axis=1)\n",
        "all_fscorr.columns = ['Names','F_score']\n",
        "all_fscorr.nlargest(16,'F_score')"
      ],
      "id": "cczXW2X0ISHW"
    },
    {
      "cell_type": "code",
      "execution_count": null,
      "metadata": {
        "id": "KnEOhXANISHX",
        "outputId": "de9adc5c-b240-45a5-a784-95c9abd13926"
      },
      "outputs": [
        {
          "data": {
            "text/plain": [
              "['var1',\n",
              " 'var2',\n",
              " 'var3',\n",
              " 'var6',\n",
              " 'var10',\n",
              " 'var12',\n",
              " 'var13',\n",
              " 'var14',\n",
              " 'var16',\n",
              " 'var17',\n",
              " 'var18',\n",
              " 'var26',\n",
              " 'var27',\n",
              " 'var28',\n",
              " 'var30']"
            ]
          },
          "execution_count": 92,
          "metadata": {},
          "output_type": "execute_result"
        }
      ],
      "source": [
        "chosen_cols = all_fscorr[all_fscorr.F_score>240]['Names'].to_list()\n",
        "chosen_cols"
      ],
      "id": "KnEOhXANISHX"
    },
    {
      "cell_type": "code",
      "execution_count": null,
      "metadata": {
        "id": "qgi1pfkqISHX"
      },
      "outputs": [],
      "source": [
        "X = df1[['var1','var2','var3','var6','var10','var12','var13','var14','var16','var17','var18','var26','var27','var28','var30']]\n",
        "y = df1['target']\n",
        "\n",
        "X_train, X_test, y_train, y_test = train_test_split(X, y, test_size = 0.3, random_state=2021) "
      ],
      "id": "qgi1pfkqISHX"
    },
    {
      "cell_type": "code",
      "execution_count": null,
      "metadata": {
        "id": "P4POBp2kISHX",
        "outputId": "355274ab-0cce-471e-9bee-0614b76caa32"
      },
      "outputs": [
        {
          "name": "stdout",
          "output_type": "stream",
          "text": [
            "AUC on test set 0.839\n",
            "AUC on train set 0.849\n"
          ]
        }
      ],
      "source": [
        "from sklearn.naive_bayes import GaussianNB\n",
        "NaiveBayse_model = GaussianNB()\n",
        "# Fit the model using train sets\n",
        "NaiveBayse_model.fit(X_train, y_train)\n",
        "\n",
        "NB_probs_train = NaiveBayse_model.predict_proba(X_train)\n",
        "NB_probs_train = NB_probs_train[:, 1]\n",
        "NB_probs_test = NaiveBayse_model.predict_proba(X_test)\n",
        "NB_probs_test = NB_probs_test[:, 1]\n",
        "\n",
        "fpr_train, tpr_train, thresholds_train = roc_curve(y_train, NB_probs_train)\n",
        "fpr_test, tpr_test, thresholds_test = roc_curve(y_test, NB_probs_test)\n",
        "\n",
        "auc_NaiveBayse_test = round(auc(fpr_test, tpr_test),3)\n",
        "print('AUC on test set',auc_NaiveBayse_test)\n",
        "\n",
        "auc_NaiveBayse_train = round(auc(fpr_train, tpr_train),3)\n",
        "print('AUC on train set',auc_NaiveBayse_train)"
      ],
      "id": "P4POBp2kISHX"
    },
    {
      "cell_type": "code",
      "execution_count": null,
      "metadata": {
        "id": "07oK8a82ISHY",
        "outputId": "a560a95d-c915-4ea0-bf8d-837a305107d2"
      },
      "outputs": [
        {
          "name": "stdout",
          "output_type": "stream",
          "text": [
            "AUC on test set 0.852\n",
            "AUC on train set 0.864\n"
          ]
        }
      ],
      "source": [
        "log_model = LogisticRegression()\n",
        "log_model.fit(X_train,y_train)\n",
        "\n",
        "Log_probs_train = log_model.predict_proba(X_train)\n",
        "Log_probs_train = Log_probs_train[:, 1]\n",
        "Log_probs_test = log_model.predict_proba(X_test)\n",
        "Log_probs_test = Log_probs_test[:, 1]\n",
        "\n",
        "fpr_train, tpr_train, thresholds_train = roc_curve(y_train, Log_probs_train)\n",
        "fpr_test, tpr_test, thresholds_test = roc_curve(y_test, Log_probs_test)\n",
        "\n",
        "log_auc_ts = round(auc(fpr_test, tpr_test),3)\n",
        "print('AUC on test set',log_auc_ts)\n",
        "\n",
        "log_auc_tr = round(auc(fpr_train, tpr_train),3)\n",
        "print('AUC on train set',log_auc_tr)"
      ],
      "id": "07oK8a82ISHY"
    },
    {
      "cell_type": "code",
      "execution_count": null,
      "metadata": {
        "id": "L0aNcRv5ISHY",
        "outputId": "ab89d786-33f4-45fc-d910-352f6edc5c6e"
      },
      "outputs": [
        {
          "name": "stdout",
          "output_type": "stream",
          "text": [
            "AUC on test set 0.78\n",
            "AUC on train set 1.0\n"
          ]
        }
      ],
      "source": [
        "from sklearn.tree import DecisionTreeClassifier\n",
        "\n",
        "DTree_model = DecisionTreeClassifier()\n",
        "\n",
        "DTree_model.fit(X_train,y_train)\n",
        "\n",
        "# probability\n",
        "probs_train = DTree_model.predict_proba(X_train)\n",
        "probs_train = probs_train[:, 1]\n",
        "probs_test = DTree_model.predict_proba(X_test)\n",
        "probs_test = probs_test[:, 1]\n",
        "\n",
        "fpr_train, tpr_train, thresholds_train = roc_curve(y_train, probs_train)\n",
        "fpr_test, tpr_test, thresholds_test = roc_curve(y_test, probs_test)\n",
        "\n",
        "Dectr_auc_ts = round(auc(fpr_test, tpr_test),3)\n",
        "print('AUC on test set',Dectr_auc_ts)\n",
        "\n",
        "Dectr_auc_tr = round(auc(fpr_train, tpr_train),3)\n",
        "print('AUC on train set',Dectr_auc_tr)"
      ],
      "id": "L0aNcRv5ISHY"
    },
    {
      "cell_type": "code",
      "execution_count": null,
      "metadata": {
        "id": "1VW7gcBdISHY",
        "outputId": "7990e02e-3069-466d-feb8-63bc8f2b2124"
      },
      "outputs": [
        {
          "data": {
            "text/html": [
              "<div>\n",
              "<style scoped>\n",
              "    .dataframe tbody tr th:only-of-type {\n",
              "        vertical-align: middle;\n",
              "    }\n",
              "\n",
              "    .dataframe tbody tr th {\n",
              "        vertical-align: top;\n",
              "    }\n",
              "\n",
              "    .dataframe thead th {\n",
              "        text-align: right;\n",
              "    }\n",
              "</style>\n",
              "<table border=\"1\" class=\"dataframe\">\n",
              "  <thead>\n",
              "    <tr style=\"text-align: right;\">\n",
              "      <th></th>\n",
              "      <th>AUC_score_TRAIN</th>\n",
              "      <th>AUC_score-TEST</th>\n",
              "    </tr>\n",
              "  </thead>\n",
              "  <tbody>\n",
              "    <tr>\n",
              "      <th>NaiveBayes</th>\n",
              "      <td>0.849</td>\n",
              "      <td>0.839</td>\n",
              "    </tr>\n",
              "    <tr>\n",
              "      <th>Logistic</th>\n",
              "      <td>0.864</td>\n",
              "      <td>0.852</td>\n",
              "    </tr>\n",
              "    <tr>\n",
              "      <th>Decision Tree</th>\n",
              "      <td>1.000</td>\n",
              "      <td>0.780</td>\n",
              "    </tr>\n",
              "  </tbody>\n",
              "</table>\n",
              "</div>"
            ],
            "text/plain": [
              "               AUC_score_TRAIN  AUC_score-TEST\n",
              "NaiveBayes               0.849           0.839\n",
              " Logistic                0.864           0.852\n",
              "Decision Tree            1.000           0.780"
            ]
          },
          "execution_count": 105,
          "metadata": {},
          "output_type": "execute_result"
        }
      ],
      "source": [
        "# collecting into 1 Dataframe\n",
        "\n",
        "all_Auc_tr = [auc_NaiveBayse_train, log_auc_tr, Dectr_auc_tr ]\n",
        "all_Auc_ts = [auc_NaiveBayse_test, log_auc_ts, Dectr_auc_ts ]\n",
        "\n",
        "#columns:\n",
        "columns={'AUC_score_TRAIN':all_Auc_tr,'AUC_score-TEST':all_Auc_ts}\n",
        "\n",
        "models=['NaiveBayes ', ' Logistic', 'Decision Tree']\n",
        "result = pd.DataFrame(data = columns,index = models)\n",
        "result"
      ],
      "id": "1VW7gcBdISHY"
    },
    {
      "cell_type": "markdown",
      "metadata": {
        "id": "KIRk6ZtpISHZ"
      },
      "source": [
        "## We can see that Desiion tree showed good results on Train=100 and not for test-78%.\n",
        "+ NaiveBayes.On test score were higher than others.\n",
        "+ I need a  littlit bit time for GridCV for my model."
      ],
      "id": "KIRk6ZtpISHZ"
    },
    {
      "cell_type": "markdown",
      "metadata": {
        "id": "qlvqAea9ISHZ"
      },
      "source": [
        "## Task 2 - Clustering (25%)\n",
        "\n",
        "Steps to do:\n",
        "\n",
        "0. Read data from task_2_dataset.xlsx.\n",
        "1. Fit KMEans 8 times with values of K from 1 to 8.\n",
        "2. Save square root of _inertia__ attribute into list and plot those values with corresponding K's.\n",
        "3. Using 'elbow' rule, find out how many clusters we have in our dataset.\n",
        "4. Create KMeans with selected values of K from the previous step.\n",
        "5. Save labels for each observation into _labels_ array.\n",
        "6. Apply PCA to reduce dimension of your data, use n_components as 2.\n",
        "7. Plot scatterplot of 2 components with different colors from _labels_ array.\n",
        "8. Comment your findings."
      ],
      "id": "qlvqAea9ISHZ"
    },
    {
      "cell_type": "code",
      "execution_count": null,
      "metadata": {
        "id": "z1r6O81QISHZ",
        "outputId": "04f8fecc-9192-41e3-d2eb-6e0d64a4562b"
      },
      "outputs": [
        {
          "data": {
            "text/html": [
              "<div>\n",
              "<style scoped>\n",
              "    .dataframe tbody tr th:only-of-type {\n",
              "        vertical-align: middle;\n",
              "    }\n",
              "\n",
              "    .dataframe tbody tr th {\n",
              "        vertical-align: top;\n",
              "    }\n",
              "\n",
              "    .dataframe thead th {\n",
              "        text-align: right;\n",
              "    }\n",
              "</style>\n",
              "<table border=\"1\" class=\"dataframe\">\n",
              "  <thead>\n",
              "    <tr style=\"text-align: right;\">\n",
              "      <th></th>\n",
              "      <th>var1</th>\n",
              "      <th>var2</th>\n",
              "      <th>var3</th>\n",
              "      <th>var4</th>\n",
              "      <th>var5</th>\n",
              "      <th>var6</th>\n",
              "      <th>var7</th>\n",
              "      <th>var8</th>\n",
              "      <th>var9</th>\n",
              "      <th>var10</th>\n",
              "    </tr>\n",
              "  </thead>\n",
              "  <tbody>\n",
              "    <tr>\n",
              "      <th>0</th>\n",
              "      <td>-0.501163</td>\n",
              "      <td>-7.255475</td>\n",
              "      <td>-5.572167</td>\n",
              "      <td>-1.805756</td>\n",
              "      <td>-1.591788</td>\n",
              "      <td>7.309525</td>\n",
              "      <td>-6.865964</td>\n",
              "      <td>0.689374</td>\n",
              "      <td>1.059544</td>\n",
              "      <td>-9.284560</td>\n",
              "    </tr>\n",
              "    <tr>\n",
              "      <th>1</th>\n",
              "      <td>2.129898</td>\n",
              "      <td>-6.030686</td>\n",
              "      <td>-4.523330</td>\n",
              "      <td>-3.016737</td>\n",
              "      <td>-1.476348</td>\n",
              "      <td>4.291699</td>\n",
              "      <td>-6.780570</td>\n",
              "      <td>0.334200</td>\n",
              "      <td>2.054573</td>\n",
              "      <td>-9.941892</td>\n",
              "    </tr>\n",
              "    <tr>\n",
              "      <th>2</th>\n",
              "      <td>-2.173184</td>\n",
              "      <td>9.295427</td>\n",
              "      <td>5.713340</td>\n",
              "      <td>0.841088</td>\n",
              "      <td>-6.221385</td>\n",
              "      <td>-6.348730</td>\n",
              "      <td>-8.966260</td>\n",
              "      <td>7.628342</td>\n",
              "      <td>2.948812</td>\n",
              "      <td>4.946535</td>\n",
              "    </tr>\n",
              "    <tr>\n",
              "      <th>3</th>\n",
              "      <td>-9.149524</td>\n",
              "      <td>9.426631</td>\n",
              "      <td>6.372079</td>\n",
              "      <td>-5.774996</td>\n",
              "      <td>-5.671090</td>\n",
              "      <td>-6.380030</td>\n",
              "      <td>-4.059996</td>\n",
              "      <td>0.283833</td>\n",
              "      <td>-2.255232</td>\n",
              "      <td>-3.239336</td>\n",
              "    </tr>\n",
              "    <tr>\n",
              "      <th>4</th>\n",
              "      <td>3.177287</td>\n",
              "      <td>-5.794053</td>\n",
              "      <td>-3.438450</td>\n",
              "      <td>-0.885736</td>\n",
              "      <td>-0.407087</td>\n",
              "      <td>4.826428</td>\n",
              "      <td>-7.255387</td>\n",
              "      <td>-0.543231</td>\n",
              "      <td>1.440112</td>\n",
              "      <td>-9.680664</td>\n",
              "    </tr>\n",
              "  </tbody>\n",
              "</table>\n",
              "</div>"
            ],
            "text/plain": [
              "       var1      var2      var3      var4      var5      var6      var7  \\\n",
              "0 -0.501163 -7.255475 -5.572167 -1.805756 -1.591788  7.309525 -6.865964   \n",
              "1  2.129898 -6.030686 -4.523330 -3.016737 -1.476348  4.291699 -6.780570   \n",
              "2 -2.173184  9.295427  5.713340  0.841088 -6.221385 -6.348730 -8.966260   \n",
              "3 -9.149524  9.426631  6.372079 -5.774996 -5.671090 -6.380030 -4.059996   \n",
              "4  3.177287 -5.794053 -3.438450 -0.885736 -0.407087  4.826428 -7.255387   \n",
              "\n",
              "       var8      var9     var10  \n",
              "0  0.689374  1.059544 -9.284560  \n",
              "1  0.334200  2.054573 -9.941892  \n",
              "2  7.628342  2.948812  4.946535  \n",
              "3  0.283833 -2.255232 -3.239336  \n",
              "4 -0.543231  1.440112 -9.680664  "
            ]
          },
          "execution_count": 33,
          "metadata": {},
          "output_type": "execute_result"
        }
      ],
      "source": [
        "# reading the excel file\n",
        "df2 = pd.read_excel('task_2_dataset.xlsx')\n",
        "df2.head()"
      ],
      "id": "z1r6O81QISHZ"
    },
    {
      "cell_type": "code",
      "execution_count": null,
      "metadata": {
        "id": "HD7lEm7wISHa"
      },
      "outputs": [],
      "source": [
        "from sklearn.cluster import KMeans"
      ],
      "id": "HD7lEm7wISHa"
    },
    {
      "cell_type": "code",
      "execution_count": null,
      "metadata": {
        "id": "LfG3bFWMISHa"
      },
      "outputs": [],
      "source": [
        "inertia = []\n",
        "for k in range(1, 8):\n",
        "    kmeans = KMeans(n_clusters=k, random_state=1).fit(df2)\n",
        "    inertia.append(np.sqrt(kmeans.inertia_))"
      ],
      "id": "LfG3bFWMISHa"
    },
    {
      "cell_type": "code",
      "execution_count": null,
      "metadata": {
        "id": "1TilhskVISHb",
        "outputId": "22108040-ea84-4c72-e93d-0efcb411fb59"
      },
      "outputs": [
        {
          "data": {
            "image/png": "[encoded data removed]",
            "text/plain": [
              "<Figure size 432x288 with 1 Axes>"
            ]
          },
          "metadata": {
            "needs_background": "light"
          },
          "output_type": "display_data"
        }
      ],
      "source": [
        "plt.plot(range(1, 8), inertia, marker=\"s\")\n",
        "plt.xlabel(\"$k$\")\n",
        "plt.ylabel(\"$J(C_k)$\");"
      ],
      "id": "1TilhskVISHb"
    },
    {
      "cell_type": "markdown",
      "metadata": {
        "id": "EYYpyr3HISHc"
      },
      "source": [
        "### 3. We see that  𝐽(𝐶𝑘)  decreases significantly until the number of clusters is 4 and then does not change as much anymore. This means that the optimal number of clusters is 4."
      ],
      "id": "EYYpyr3HISHc"
    },
    {
      "cell_type": "code",
      "execution_count": null,
      "metadata": {
        "id": "IFAiBHuLISHd",
        "outputId": "935f8f97-f9c1-4d00-e2de-3fa7fbdccbe1"
      },
      "outputs": [
        {
          "data": {
            "text/plain": [
              "KMeans(n_clusters=4, random_state=2021)"
            ]
          },
          "execution_count": 39,
          "metadata": {},
          "output_type": "execute_result"
        }
      ],
      "source": [
        "# Create KMeans with selected values of K from the previous step.\n",
        "\n",
        "kmeans = KMeans(n_clusters=4, random_state=2021)\n",
        "kmeans.fit(df2)"
      ],
      "id": "IFAiBHuLISHd"
    },
    {
      "cell_type": "code",
      "execution_count": null,
      "metadata": {
        "id": "o7I4QQ0rISHe",
        "outputId": "7e361cd4-cab3-4f25-93b2-f17ff0b64702"
      },
      "outputs": [
        {
          "data": {
            "text/plain": [
              "[array([1, 1, 0, ..., 1, 2, 2])]"
            ]
          },
          "execution_count": 41,
          "metadata": {},
          "output_type": "execute_result"
        }
      ],
      "source": [
        "# Save labels for each observation into labels array.\n",
        "klabels = []\n",
        "klabels.append(kmeans.labels_)\n",
        "klabels"
      ],
      "id": "o7I4QQ0rISHe"
    },
    {
      "cell_type": "code",
      "execution_count": null,
      "metadata": {
        "id": "VPr9ll_kISHe",
        "outputId": "399aea42-d619-4054-b9fa-8d0c5262e17c"
      },
      "outputs": [
        {
          "data": {
            "text/plain": [
              "array([[ 16.68229476,  -2.78985108],\n",
              "       [ 15.33504184,  -2.634441  ],\n",
              "       [ -7.73258591,  12.81723594],\n",
              "       ...,\n",
              "       [ 16.68105337,  -3.22729345],\n",
              "       [ -9.46395413,  -3.72459506],\n",
              "       [-10.88203157,  -3.08514505]])"
            ]
          },
          "execution_count": 55,
          "metadata": {},
          "output_type": "execute_result"
        }
      ],
      "source": [
        "# Apply PCA to reduce dimension of your data, use n_components as 2.\n",
        "\n",
        "pca = PCA(n_components=2)\n",
        "pc_labels = pca.fit_transform(df2)\n",
        "# pc_labels.reshape(1,-1)\n",
        "pc_labels"
      ],
      "id": "VPr9ll_kISHe"
    },
    {
      "cell_type": "code",
      "execution_count": null,
      "metadata": {
        "id": "PT-8L57BISHf"
      },
      "outputs": [],
      "source": [
        "# Plot scatterplot of 2 components with different colors from labels array.\n",
        "\n",
        "# df2.plot.scatter(x=pc_labels[:,0],y=pc_labels[:,1],color='r')\n",
        "\n",
        "#plt.scatter(klabels, pc_labels)\n",
        "# plt.show()"
      ],
      "id": "PT-8L57BISHf"
    },
    {
      "cell_type": "code",
      "execution_count": null,
      "metadata": {
        "id": "9uWFSZ7cISHf"
      },
      "outputs": [],
      "source": [],
      "id": "9uWFSZ7cISHf"
    },
    {
      "cell_type": "markdown",
      "metadata": {
        "id": "jlYMEwRRISHf"
      },
      "source": [
        "# Comment your findings.\n",
        "+ Little troubles with scatter plot()\n",
        "+ \n",
        "+\n",
        "+\n",
        "+"
      ],
      "id": "jlYMEwRRISHf"
    },
    {
      "cell_type": "markdown",
      "metadata": {
        "id": "Ur-c2H6qISHg"
      },
      "source": [
        "## Task 3 - Regression (25%)\n",
        "\n",
        "Steps to do:\n",
        "\n",
        "0. Read data from task_3_dataset.xlsx.\n",
        "1. Check basic info about dataset.\n",
        "2. Perform some EDA with visualisation.\n",
        "3. Split data into train and test (test size 0.3).\n",
        "4. Fit a linear regression model.\n",
        "5. Find $R^2$ on train and test datasets. Save results into dataframe.\n",
        "6. Plot scatterplot of actual target vs. predicted on test dataset.\n",
        "7. Fit any regularized linear regression model.\n",
        "8. Using CV find optimal alpha.\n",
        "9. For model with optimal alpha find $R^2$ on train and test datasets. Save results into dataframe.\n",
        "10. Compare performance of the models. Write some conclusions."
      ],
      "id": "Ur-c2H6qISHg"
    },
    {
      "cell_type": "code",
      "execution_count": null,
      "metadata": {
        "id": "ZCWPVP-3ISHg",
        "outputId": "a15ac663-d2d4-492a-ee5c-1de861ac26d6"
      },
      "outputs": [
        {
          "data": {
            "text/html": [
              "<div>\n",
              "<style scoped>\n",
              "    .dataframe tbody tr th:only-of-type {\n",
              "        vertical-align: middle;\n",
              "    }\n",
              "\n",
              "    .dataframe tbody tr th {\n",
              "        vertical-align: top;\n",
              "    }\n",
              "\n",
              "    .dataframe thead th {\n",
              "        text-align: right;\n",
              "    }\n",
              "</style>\n",
              "<table border=\"1\" class=\"dataframe\">\n",
              "  <thead>\n",
              "    <tr style=\"text-align: right;\">\n",
              "      <th></th>\n",
              "      <th>var1</th>\n",
              "      <th>var2</th>\n",
              "      <th>var3</th>\n",
              "      <th>var4</th>\n",
              "      <th>var5</th>\n",
              "      <th>var6</th>\n",
              "      <th>var7</th>\n",
              "      <th>var8</th>\n",
              "      <th>var9</th>\n",
              "      <th>var10</th>\n",
              "      <th>...</th>\n",
              "      <th>var42</th>\n",
              "      <th>var43</th>\n",
              "      <th>var44</th>\n",
              "      <th>var45</th>\n",
              "      <th>var46</th>\n",
              "      <th>var47</th>\n",
              "      <th>var48</th>\n",
              "      <th>var49</th>\n",
              "      <th>var50</th>\n",
              "      <th>target</th>\n",
              "    </tr>\n",
              "  </thead>\n",
              "  <tbody>\n",
              "    <tr>\n",
              "      <th>0</th>\n",
              "      <td>-0.552089</td>\n",
              "      <td>-1.145582</td>\n",
              "      <td>-0.931693</td>\n",
              "      <td>0.714074</td>\n",
              "      <td>1.535745</td>\n",
              "      <td>0.267954</td>\n",
              "      <td>0.541724</td>\n",
              "      <td>1.532839</td>\n",
              "      <td>0.731628</td>\n",
              "      <td>-0.455638</td>\n",
              "      <td>...</td>\n",
              "      <td>-0.681037</td>\n",
              "      <td>0.391393</td>\n",
              "      <td>-0.143473</td>\n",
              "      <td>-0.383202</td>\n",
              "      <td>0.699552</td>\n",
              "      <td>-0.590929</td>\n",
              "      <td>-0.698003</td>\n",
              "      <td>0.269960</td>\n",
              "      <td>1.695117</td>\n",
              "      <td>84.079638</td>\n",
              "    </tr>\n",
              "    <tr>\n",
              "      <th>1</th>\n",
              "      <td>-0.045569</td>\n",
              "      <td>-0.649839</td>\n",
              "      <td>0.112068</td>\n",
              "      <td>-0.311601</td>\n",
              "      <td>1.080510</td>\n",
              "      <td>0.994413</td>\n",
              "      <td>-0.210373</td>\n",
              "      <td>-1.681002</td>\n",
              "      <td>1.154218</td>\n",
              "      <td>1.136129</td>\n",
              "      <td>...</td>\n",
              "      <td>1.442451</td>\n",
              "      <td>0.250696</td>\n",
              "      <td>0.552947</td>\n",
              "      <td>-1.188570</td>\n",
              "      <td>-0.777756</td>\n",
              "      <td>-0.565737</td>\n",
              "      <td>1.722244</td>\n",
              "      <td>-0.461826</td>\n",
              "      <td>0.587752</td>\n",
              "      <td>30.657333</td>\n",
              "    </tr>\n",
              "    <tr>\n",
              "      <th>2</th>\n",
              "      <td>-0.986841</td>\n",
              "      <td>0.231556</td>\n",
              "      <td>-0.657143</td>\n",
              "      <td>-1.008164</td>\n",
              "      <td>-0.471398</td>\n",
              "      <td>-1.404933</td>\n",
              "      <td>-0.509124</td>\n",
              "      <td>0.925725</td>\n",
              "      <td>0.049995</td>\n",
              "      <td>1.393613</td>\n",
              "      <td>...</td>\n",
              "      <td>0.932760</td>\n",
              "      <td>-1.479063</td>\n",
              "      <td>0.678840</td>\n",
              "      <td>-1.538005</td>\n",
              "      <td>-0.267960</td>\n",
              "      <td>0.648383</td>\n",
              "      <td>1.317819</td>\n",
              "      <td>0.606854</td>\n",
              "      <td>-0.061530</td>\n",
              "      <td>-334.801479</td>\n",
              "    </tr>\n",
              "    <tr>\n",
              "      <th>3</th>\n",
              "      <td>-1.336637</td>\n",
              "      <td>-1.189614</td>\n",
              "      <td>0.763404</td>\n",
              "      <td>-0.963962</td>\n",
              "      <td>1.130956</td>\n",
              "      <td>-0.932618</td>\n",
              "      <td>2.108902</td>\n",
              "      <td>0.215339</td>\n",
              "      <td>0.296754</td>\n",
              "      <td>-1.063522</td>\n",
              "      <td>...</td>\n",
              "      <td>0.791164</td>\n",
              "      <td>-0.510876</td>\n",
              "      <td>-0.054669</td>\n",
              "      <td>1.499147</td>\n",
              "      <td>0.734234</td>\n",
              "      <td>1.570248</td>\n",
              "      <td>1.914833</td>\n",
              "      <td>-0.974446</td>\n",
              "      <td>-1.786229</td>\n",
              "      <td>-284.953354</td>\n",
              "    </tr>\n",
              "    <tr>\n",
              "      <th>4</th>\n",
              "      <td>-0.523307</td>\n",
              "      <td>-1.293480</td>\n",
              "      <td>-0.084331</td>\n",
              "      <td>0.596403</td>\n",
              "      <td>-1.643833</td>\n",
              "      <td>-0.796517</td>\n",
              "      <td>1.719972</td>\n",
              "      <td>-0.548076</td>\n",
              "      <td>0.531256</td>\n",
              "      <td>-0.482633</td>\n",
              "      <td>...</td>\n",
              "      <td>-1.591038</td>\n",
              "      <td>0.577650</td>\n",
              "      <td>0.058708</td>\n",
              "      <td>0.507060</td>\n",
              "      <td>0.280299</td>\n",
              "      <td>1.427768</td>\n",
              "      <td>-0.343348</td>\n",
              "      <td>-0.724645</td>\n",
              "      <td>1.119481</td>\n",
              "      <td>89.542225</td>\n",
              "    </tr>\n",
              "  </tbody>\n",
              "</table>\n",
              "<p>5 rows × 51 columns</p>\n",
              "</div>"
            ],
            "text/plain": [
              "       var1      var2      var3      var4      var5      var6      var7  \\\n",
              "0 -0.552089 -1.145582 -0.931693  0.714074  1.535745  0.267954  0.541724   \n",
              "1 -0.045569 -0.649839  0.112068 -0.311601  1.080510  0.994413 -0.210373   \n",
              "2 -0.986841  0.231556 -0.657143 -1.008164 -0.471398 -1.404933 -0.509124   \n",
              "3 -1.336637 -1.189614  0.763404 -0.963962  1.130956 -0.932618  2.108902   \n",
              "4 -0.523307 -1.293480 -0.084331  0.596403 -1.643833 -0.796517  1.719972   \n",
              "\n",
              "       var8      var9     var10  ...     var42     var43     var44     var45  \\\n",
              "0  1.532839  0.731628 -0.455638  ... -0.681037  0.391393 -0.143473 -0.383202   \n",
              "1 -1.681002  1.154218  1.136129  ...  1.442451  0.250696  0.552947 -1.188570   \n",
              "2  0.925725  0.049995  1.393613  ...  0.932760 -1.479063  0.678840 -1.538005   \n",
              "3  0.215339  0.296754 -1.063522  ...  0.791164 -0.510876 -0.054669  1.499147   \n",
              "4 -0.548076  0.531256 -0.482633  ... -1.591038  0.577650  0.058708  0.507060   \n",
              "\n",
              "      var46     var47     var48     var49     var50      target  \n",
              "0  0.699552 -0.590929 -0.698003  0.269960  1.695117   84.079638  \n",
              "1 -0.777756 -0.565737  1.722244 -0.461826  0.587752   30.657333  \n",
              "2 -0.267960  0.648383  1.317819  0.606854 -0.061530 -334.801479  \n",
              "3  0.734234  1.570248  1.914833 -0.974446 -1.786229 -284.953354  \n",
              "4  0.280299  1.427768 -0.343348 -0.724645  1.119481   89.542225  \n",
              "\n",
              "[5 rows x 51 columns]"
            ]
          },
          "execution_count": 13,
          "metadata": {},
          "output_type": "execute_result"
        }
      ],
      "source": [
        "# reading the excel file\n",
        "df3 = pd.read_excel('task_3_dataset.xlsx')\n",
        "df3.head()"
      ],
      "id": "ZCWPVP-3ISHg"
    },
    {
      "cell_type": "code",
      "execution_count": null,
      "metadata": {
        "id": "MdjomyYxISHh",
        "outputId": "39b072ea-5d63-4be5-cd59-b26f8961890f"
      },
      "outputs": [
        {
          "data": {
            "text/plain": [
              "(10000, 51)"
            ]
          },
          "execution_count": 14,
          "metadata": {},
          "output_type": "execute_result"
        }
      ],
      "source": [
        "df3.shape"
      ],
      "id": "MdjomyYxISHh"
    },
    {
      "cell_type": "code",
      "execution_count": null,
      "metadata": {
        "id": "Kz9n6N1oISH0",
        "outputId": "90ad99dd-4b3c-4a93-b3a7-e6ee1b7a6142"
      },
      "outputs": [
        {
          "name": "stdout",
          "output_type": "stream",
          "text": [
            "<class 'pandas.core.frame.DataFrame'>\n",
            "RangeIndex: 10000 entries, 0 to 9999\n",
            "Data columns (total 51 columns):\n",
            " #   Column  Non-Null Count  Dtype  \n",
            "---  ------  --------------  -----  \n",
            " 0   var1    10000 non-null  float64\n",
            " 1   var2    10000 non-null  float64\n",
            " 2   var3    10000 non-null  float64\n",
            " 3   var4    10000 non-null  float64\n",
            " 4   var5    10000 non-null  float64\n",
            " 5   var6    10000 non-null  float64\n",
            " 6   var7    10000 non-null  float64\n",
            " 7   var8    10000 non-null  float64\n",
            " 8   var9    10000 non-null  float64\n",
            " 9   var10   10000 non-null  float64\n",
            " 10  var11   10000 non-null  float64\n",
            " 11  var12   10000 non-null  float64\n",
            " 12  var13   10000 non-null  float64\n",
            " 13  var14   10000 non-null  float64\n",
            " 14  var15   10000 non-null  float64\n",
            " 15  var16   10000 non-null  float64\n",
            " 16  var17   10000 non-null  float64\n",
            " 17  var18   10000 non-null  float64\n",
            " 18  var19   10000 non-null  float64\n",
            " 19  var20   10000 non-null  float64\n",
            " 20  var21   10000 non-null  float64\n",
            " 21  var22   10000 non-null  float64\n",
            " 22  var23   10000 non-null  float64\n",
            " 23  var24   10000 non-null  float64\n",
            " 24  var25   10000 non-null  float64\n",
            " 25  var26   10000 non-null  float64\n",
            " 26  var27   10000 non-null  float64\n",
            " 27  var28   10000 non-null  float64\n",
            " 28  var29   10000 non-null  float64\n",
            " 29  var30   10000 non-null  float64\n",
            " 30  var31   10000 non-null  float64\n",
            " 31  var32   10000 non-null  float64\n",
            " 32  var33   10000 non-null  float64\n",
            " 33  var34   10000 non-null  float64\n",
            " 34  var35   10000 non-null  float64\n",
            " 35  var36   10000 non-null  float64\n",
            " 36  var37   10000 non-null  float64\n",
            " 37  var38   10000 non-null  float64\n",
            " 38  var39   10000 non-null  float64\n",
            " 39  var40   10000 non-null  float64\n",
            " 40  var41   10000 non-null  float64\n",
            " 41  var42   10000 non-null  float64\n",
            " 42  var43   10000 non-null  float64\n",
            " 43  var44   10000 non-null  float64\n",
            " 44  var45   10000 non-null  float64\n",
            " 45  var46   10000 non-null  float64\n",
            " 46  var47   10000 non-null  float64\n",
            " 47  var48   10000 non-null  float64\n",
            " 48  var49   10000 non-null  float64\n",
            " 49  var50   10000 non-null  float64\n",
            " 50  target  10000 non-null  float64\n",
            "dtypes: float64(51)\n",
            "memory usage: 3.9 MB\n"
          ]
        }
      ],
      "source": [
        "df3.info()"
      ],
      "id": "Kz9n6N1oISH0"
    },
    {
      "cell_type": "code",
      "execution_count": null,
      "metadata": {
        "id": "gdUYyUyEISH1",
        "outputId": "ea07268d-e431-472d-b9b1-92ca6947cfc8"
      },
      "outputs": [
        {
          "data": {
            "text/html": [
              "<div>\n",
              "<style scoped>\n",
              "    .dataframe tbody tr th:only-of-type {\n",
              "        vertical-align: middle;\n",
              "    }\n",
              "\n",
              "    .dataframe tbody tr th {\n",
              "        vertical-align: top;\n",
              "    }\n",
              "\n",
              "    .dataframe thead th {\n",
              "        text-align: right;\n",
              "    }\n",
              "</style>\n",
              "<table border=\"1\" class=\"dataframe\">\n",
              "  <thead>\n",
              "    <tr style=\"text-align: right;\">\n",
              "      <th></th>\n",
              "      <th>var1</th>\n",
              "      <th>var2</th>\n",
              "      <th>var3</th>\n",
              "      <th>var4</th>\n",
              "      <th>var5</th>\n",
              "      <th>var6</th>\n",
              "      <th>var7</th>\n",
              "      <th>var8</th>\n",
              "      <th>var9</th>\n",
              "      <th>var10</th>\n",
              "      <th>...</th>\n",
              "      <th>var42</th>\n",
              "      <th>var43</th>\n",
              "      <th>var44</th>\n",
              "      <th>var45</th>\n",
              "      <th>var46</th>\n",
              "      <th>var47</th>\n",
              "      <th>var48</th>\n",
              "      <th>var49</th>\n",
              "      <th>var50</th>\n",
              "      <th>target</th>\n",
              "    </tr>\n",
              "  </thead>\n",
              "  <tbody>\n",
              "    <tr>\n",
              "      <th>count</th>\n",
              "      <td>10000.000000</td>\n",
              "      <td>10000.000000</td>\n",
              "      <td>10000.000000</td>\n",
              "      <td>10000.000000</td>\n",
              "      <td>10000.000000</td>\n",
              "      <td>10000.000000</td>\n",
              "      <td>10000.000000</td>\n",
              "      <td>10000.000000</td>\n",
              "      <td>10000.000000</td>\n",
              "      <td>10000.000000</td>\n",
              "      <td>...</td>\n",
              "      <td>10000.000000</td>\n",
              "      <td>10000.000000</td>\n",
              "      <td>10000.000000</td>\n",
              "      <td>10000.000000</td>\n",
              "      <td>10000.000000</td>\n",
              "      <td>10000.000000</td>\n",
              "      <td>10000.000000</td>\n",
              "      <td>10000.000000</td>\n",
              "      <td>10000.000000</td>\n",
              "      <td>10000.000000</td>\n",
              "    </tr>\n",
              "    <tr>\n",
              "      <th>mean</th>\n",
              "      <td>0.004011</td>\n",
              "      <td>-0.001200</td>\n",
              "      <td>-0.002679</td>\n",
              "      <td>-0.012580</td>\n",
              "      <td>0.014144</td>\n",
              "      <td>0.000326</td>\n",
              "      <td>-0.020309</td>\n",
              "      <td>0.001541</td>\n",
              "      <td>0.000659</td>\n",
              "      <td>0.008903</td>\n",
              "      <td>...</td>\n",
              "      <td>0.001879</td>\n",
              "      <td>-0.018041</td>\n",
              "      <td>-0.001796</td>\n",
              "      <td>-0.013135</td>\n",
              "      <td>0.005035</td>\n",
              "      <td>0.020945</td>\n",
              "      <td>-0.012692</td>\n",
              "      <td>0.003702</td>\n",
              "      <td>0.008312</td>\n",
              "      <td>-0.611116</td>\n",
              "    </tr>\n",
              "    <tr>\n",
              "      <th>std</th>\n",
              "      <td>1.004097</td>\n",
              "      <td>1.000336</td>\n",
              "      <td>0.990558</td>\n",
              "      <td>0.995950</td>\n",
              "      <td>0.996275</td>\n",
              "      <td>0.985418</td>\n",
              "      <td>1.006413</td>\n",
              "      <td>1.015812</td>\n",
              "      <td>0.998513</td>\n",
              "      <td>0.989999</td>\n",
              "      <td>...</td>\n",
              "      <td>0.993579</td>\n",
              "      <td>1.010828</td>\n",
              "      <td>1.016529</td>\n",
              "      <td>1.003854</td>\n",
              "      <td>1.002887</td>\n",
              "      <td>0.997885</td>\n",
              "      <td>0.994347</td>\n",
              "      <td>0.988654</td>\n",
              "      <td>1.001970</td>\n",
              "      <td>268.270480</td>\n",
              "    </tr>\n",
              "    <tr>\n",
              "      <th>min</th>\n",
              "      <td>-3.578297</td>\n",
              "      <td>-4.026679</td>\n",
              "      <td>-3.430437</td>\n",
              "      <td>-3.975072</td>\n",
              "      <td>-3.692551</td>\n",
              "      <td>-4.500813</td>\n",
              "      <td>-3.682940</td>\n",
              "      <td>-3.904860</td>\n",
              "      <td>-3.704877</td>\n",
              "      <td>-3.518435</td>\n",
              "      <td>...</td>\n",
              "      <td>-3.829719</td>\n",
              "      <td>-3.952121</td>\n",
              "      <td>-4.143642</td>\n",
              "      <td>-3.760710</td>\n",
              "      <td>-3.874490</td>\n",
              "      <td>-4.495762</td>\n",
              "      <td>-5.103320</td>\n",
              "      <td>-3.847644</td>\n",
              "      <td>-4.073785</td>\n",
              "      <td>-913.142267</td>\n",
              "    </tr>\n",
              "    <tr>\n",
              "      <th>25%</th>\n",
              "      <td>-0.660830</td>\n",
              "      <td>-0.676835</td>\n",
              "      <td>-0.666858</td>\n",
              "      <td>-0.686459</td>\n",
              "      <td>-0.670067</td>\n",
              "      <td>-0.649232</td>\n",
              "      <td>-0.692736</td>\n",
              "      <td>-0.689795</td>\n",
              "      <td>-0.669276</td>\n",
              "      <td>-0.658779</td>\n",
              "      <td>...</td>\n",
              "      <td>-0.677228</td>\n",
              "      <td>-0.685432</td>\n",
              "      <td>-0.685251</td>\n",
              "      <td>-0.679675</td>\n",
              "      <td>-0.683241</td>\n",
              "      <td>-0.661028</td>\n",
              "      <td>-0.687426</td>\n",
              "      <td>-0.654810</td>\n",
              "      <td>-0.667382</td>\n",
              "      <td>-179.924619</td>\n",
              "    </tr>\n",
              "    <tr>\n",
              "      <th>50%</th>\n",
              "      <td>0.014161</td>\n",
              "      <td>0.003254</td>\n",
              "      <td>0.005065</td>\n",
              "      <td>-0.004457</td>\n",
              "      <td>0.014334</td>\n",
              "      <td>-0.001578</td>\n",
              "      <td>-0.017748</td>\n",
              "      <td>0.002245</td>\n",
              "      <td>0.011996</td>\n",
              "      <td>0.000424</td>\n",
              "      <td>...</td>\n",
              "      <td>0.017460</td>\n",
              "      <td>-0.009779</td>\n",
              "      <td>-0.003993</td>\n",
              "      <td>-0.009065</td>\n",
              "      <td>0.010001</td>\n",
              "      <td>0.030801</td>\n",
              "      <td>-0.012339</td>\n",
              "      <td>-0.006079</td>\n",
              "      <td>0.012634</td>\n",
              "      <td>-2.862369</td>\n",
              "    </tr>\n",
              "    <tr>\n",
              "      <th>75%</th>\n",
              "      <td>0.670767</td>\n",
              "      <td>0.674785</td>\n",
              "      <td>0.670572</td>\n",
              "      <td>0.658110</td>\n",
              "      <td>0.688902</td>\n",
              "      <td>0.653439</td>\n",
              "      <td>0.653044</td>\n",
              "      <td>0.685312</td>\n",
              "      <td>0.673148</td>\n",
              "      <td>0.661298</td>\n",
              "      <td>...</td>\n",
              "      <td>0.674650</td>\n",
              "      <td>0.653006</td>\n",
              "      <td>0.675370</td>\n",
              "      <td>0.642489</td>\n",
              "      <td>0.677199</td>\n",
              "      <td>0.707252</td>\n",
              "      <td>0.669283</td>\n",
              "      <td>0.686885</td>\n",
              "      <td>0.681461</td>\n",
              "      <td>179.792238</td>\n",
              "    </tr>\n",
              "    <tr>\n",
              "      <th>max</th>\n",
              "      <td>3.980403</td>\n",
              "      <td>3.546467</td>\n",
              "      <td>4.030870</td>\n",
              "      <td>3.807020</td>\n",
              "      <td>3.450334</td>\n",
              "      <td>3.814196</td>\n",
              "      <td>4.482454</td>\n",
              "      <td>4.238484</td>\n",
              "      <td>3.645326</td>\n",
              "      <td>3.983850</td>\n",
              "      <td>...</td>\n",
              "      <td>3.995849</td>\n",
              "      <td>3.877645</td>\n",
              "      <td>4.030577</td>\n",
              "      <td>3.619090</td>\n",
              "      <td>3.653071</td>\n",
              "      <td>4.318137</td>\n",
              "      <td>3.443685</td>\n",
              "      <td>3.897299</td>\n",
              "      <td>3.891586</td>\n",
              "      <td>1271.612272</td>\n",
              "    </tr>\n",
              "  </tbody>\n",
              "</table>\n",
              "<p>8 rows × 51 columns</p>\n",
              "</div>"
            ],
            "text/plain": [
              "               var1          var2          var3          var4          var5  \\\n",
              "count  10000.000000  10000.000000  10000.000000  10000.000000  10000.000000   \n",
              "mean       0.004011     -0.001200     -0.002679     -0.012580      0.014144   \n",
              "std        1.004097      1.000336      0.990558      0.995950      0.996275   \n",
              "min       -3.578297     -4.026679     -3.430437     -3.975072     -3.692551   \n",
              "25%       -0.660830     -0.676835     -0.666858     -0.686459     -0.670067   \n",
              "50%        0.014161      0.003254      0.005065     -0.004457      0.014334   \n",
              "75%        0.670767      0.674785      0.670572      0.658110      0.688902   \n",
              "max        3.980403      3.546467      4.030870      3.807020      3.450334   \n",
              "\n",
              "               var6          var7          var8          var9         var10  \\\n",
              "count  10000.000000  10000.000000  10000.000000  10000.000000  10000.000000   \n",
              "mean       0.000326     -0.020309      0.001541      0.000659      0.008903   \n",
              "std        0.985418      1.006413      1.015812      0.998513      0.989999   \n",
              "min       -4.500813     -3.682940     -3.904860     -3.704877     -3.518435   \n",
              "25%       -0.649232     -0.692736     -0.689795     -0.669276     -0.658779   \n",
              "50%       -0.001578     -0.017748      0.002245      0.011996      0.000424   \n",
              "75%        0.653439      0.653044      0.685312      0.673148      0.661298   \n",
              "max        3.814196      4.482454      4.238484      3.645326      3.983850   \n",
              "\n",
              "       ...         var42         var43         var44         var45  \\\n",
              "count  ...  10000.000000  10000.000000  10000.000000  10000.000000   \n",
              "mean   ...      0.001879     -0.018041     -0.001796     -0.013135   \n",
              "std    ...      0.993579      1.010828      1.016529      1.003854   \n",
              "min    ...     -3.829719     -3.952121     -4.143642     -3.760710   \n",
              "25%    ...     -0.677228     -0.685432     -0.685251     -0.679675   \n",
              "50%    ...      0.017460     -0.009779     -0.003993     -0.009065   \n",
              "75%    ...      0.674650      0.653006      0.675370      0.642489   \n",
              "max    ...      3.995849      3.877645      4.030577      3.619090   \n",
              "\n",
              "              var46         var47         var48         var49         var50  \\\n",
              "count  10000.000000  10000.000000  10000.000000  10000.000000  10000.000000   \n",
              "mean       0.005035      0.020945     -0.012692      0.003702      0.008312   \n",
              "std        1.002887      0.997885      0.994347      0.988654      1.001970   \n",
              "min       -3.874490     -4.495762     -5.103320     -3.847644     -4.073785   \n",
              "25%       -0.683241     -0.661028     -0.687426     -0.654810     -0.667382   \n",
              "50%        0.010001      0.030801     -0.012339     -0.006079      0.012634   \n",
              "75%        0.677199      0.707252      0.669283      0.686885      0.681461   \n",
              "max        3.653071      4.318137      3.443685      3.897299      3.891586   \n",
              "\n",
              "             target  \n",
              "count  10000.000000  \n",
              "mean      -0.611116  \n",
              "std      268.270480  \n",
              "min     -913.142267  \n",
              "25%     -179.924619  \n",
              "50%       -2.862369  \n",
              "75%      179.792238  \n",
              "max     1271.612272  \n",
              "\n",
              "[8 rows x 51 columns]"
            ]
          },
          "execution_count": 16,
          "metadata": {},
          "output_type": "execute_result"
        }
      ],
      "source": [
        "df3.describe()"
      ],
      "id": "gdUYyUyEISH1"
    },
    {
      "cell_type": "code",
      "execution_count": null,
      "metadata": {
        "id": "uPY_ykzxISH1",
        "outputId": "e5c5c134-b9c4-49a4-a1ee-41dde730f76e"
      },
      "outputs": [
        {
          "data": {
            "image/png": "[encoded data removed]",
            "text/plain": [
              "<Figure size 1440x1152 with 2 Axes>"
            ]
          },
          "metadata": {
            "needs_background": "light"
          },
          "output_type": "display_data"
        }
      ],
      "source": [
        "# PLOTTIG GRAPHS\n",
        "f, (ax) = plt.subplots(1, 1, figsize=(20,16))\n",
        "sub_sample_corr = df3.corr()\n",
        "sns.heatmap(sub_sample_corr, annot_kws={'size':16}, ax=ax)\n",
        "ax.set_title('Correlation Matrix', fontsize=25)\n",
        "plt.show()"
      ],
      "id": "uPY_ykzxISH1"
    },
    {
      "cell_type": "code",
      "execution_count": null,
      "metadata": {
        "id": "dlLKBmaXISH1",
        "outputId": "365bb4ea-5aa0-47c4-aadb-6c59872956d6"
      },
      "outputs": [
        {
          "data": {
            "text/plain": [
              "<AxesSubplot:xlabel='target', ylabel='var16'>"
            ]
          },
          "execution_count": 19,
          "metadata": {},
          "output_type": "execute_result"
        },
        {
          "data": {
            "image/png": "[encoded data removed]",
            "text/plain": [
              "<Figure size 432x288 with 1 Axes>"
            ]
          },
          "metadata": {
            "needs_background": "light"
          },
          "output_type": "display_data"
        },
        {
          "data": {
            "image/png": "[encoded data removed]",
            "text/plain": [
              "<Figure size 432x288 with 1 Axes>"
            ]
          },
          "metadata": {
            "needs_background": "light"
          },
          "output_type": "display_data"
        },
        {
          "data": {
            "image/png": "[encoded data removed]",
            "text/plain": [
              "<Figure size 432x288 with 1 Axes>"
            ]
          },
          "metadata": {
            "needs_background": "light"
          },
          "output_type": "display_data"
        },
        {
          "data": {
            "image/png": "[encoded data removed]",
            "text/plain": [
              "<Figure size 432x288 with 1 Axes>"
            ]
          },
          "metadata": {
            "needs_background": "light"
          },
          "output_type": "display_data"
        }
      ],
      "source": [
        "# PLOTTING SCATTER PLOTS TO SEE RANGES\n",
        "df3.plot.scatter(x='target',y=\"var4\",color='r')\n",
        "df3.plot.scatter(x='target',y=\"var6\",color='r')\n",
        "df3.plot.scatter(x='target',y=\"var13\",color='r')\n",
        "df3.plot.scatter(x='target',y=\"var16\",color='r')"
      ],
      "id": "dlLKBmaXISH1"
    },
    {
      "cell_type": "code",
      "execution_count": null,
      "metadata": {
        "id": "Zg7e9-GNISH2",
        "outputId": "2df5e621-a113-43a4-f5eb-7f05362b06c9"
      },
      "outputs": [
        {
          "name": "stdout",
          "output_type": "stream",
          "text": [
            "(7000, 50)\n",
            "(7000,)\n",
            "(3000, 50)\n",
            "(3000,)\n"
          ]
        }
      ],
      "source": [
        "# X and y arrays:\n",
        "X = df3.drop(\"target\", axis = 1) # All columns except this column.\n",
        "y = df3[\"target\"] # Only this column\n",
        "\n",
        "# splitting data into training and test data\n",
        "X_train, X_test, y_train, y_test = train_test_split(X, y, test_size = 0.3, random_state=2021) \n",
        "# 70% training and 30% test\n",
        "print(X_train.shape)\n",
        "print(y_train.shape)\n",
        "print(X_test.shape)\n",
        "print(y_test.shape)"
      ],
      "id": "Zg7e9-GNISH2"
    },
    {
      "cell_type": "code",
      "execution_count": null,
      "metadata": {
        "id": "1b1Ln1P2ISH2",
        "outputId": "1b7c2668-5cd1-4675-baf6-3a4d16753ae4"
      },
      "outputs": [
        {
          "name": "stdout",
          "output_type": "stream",
          "text": [
            "R2_score on Train set> 1.0\n",
            "R2_score on Test set>  1.0\n"
          ]
        }
      ],
      "source": [
        "lin_reg = LinearRegression()\n",
        "lin_reg.fit(X_train, y_train)\n",
        "\n",
        "# Evaluating on Train set\n",
        "lin_r2_tr = round(r2_score(y_train,lin_reg.predict(X_train)),3)\n",
        "print('R2_score on Train set>',lin_r2_tr)\n",
        "\n",
        "# Evaluating on Test set\n",
        "lin_r2_ts = round(r2_score(y_test,lin_reg.predict(X_test)),3)\n",
        "print('R2_score on Test set> ',lin_r2_ts)"
      ],
      "id": "1b1Ln1P2ISH2"
    },
    {
      "cell_type": "code",
      "execution_count": null,
      "metadata": {
        "id": "RJdwnEpAISH3",
        "outputId": "de3060b8-c1af-4062-d50b-80ad0af68aa0"
      },
      "outputs": [
        {
          "data": {
            "text/html": [
              "<div>\n",
              "<style scoped>\n",
              "    .dataframe tbody tr th:only-of-type {\n",
              "        vertical-align: middle;\n",
              "    }\n",
              "\n",
              "    .dataframe tbody tr th {\n",
              "        vertical-align: top;\n",
              "    }\n",
              "\n",
              "    .dataframe thead th {\n",
              "        text-align: right;\n",
              "    }\n",
              "</style>\n",
              "<table border=\"1\" class=\"dataframe\">\n",
              "  <thead>\n",
              "    <tr style=\"text-align: right;\">\n",
              "      <th></th>\n",
              "      <th>Train_R2</th>\n",
              "      <th>Test_R2</th>\n",
              "    </tr>\n",
              "  </thead>\n",
              "  <tbody>\n",
              "    <tr>\n",
              "      <th>Linear Regresion</th>\n",
              "      <td>1.0</td>\n",
              "      <td>1.0</td>\n",
              "    </tr>\n",
              "  </tbody>\n",
              "</table>\n",
              "</div>"
            ],
            "text/plain": [
              "                  Train_R2  Test_R2\n",
              "Linear Regresion       1.0      1.0"
            ]
          },
          "execution_count": 22,
          "metadata": {},
          "output_type": "execute_result"
        }
      ],
      "source": [
        "# collecting into 1 Dataframe\n",
        "all_train_r2 = [lin_r2_tr]\n",
        "all_test_r2 = [lin_r2_ts]\n",
        "#columns:\n",
        "columns={'Train_R2':all_train_r2,'Test_R2':all_test_r2}\n",
        "models=['Linear Regresion']\n",
        "result = pd.DataFrame(data = columns,index = models)\n",
        "result"
      ],
      "id": "RJdwnEpAISH3"
    },
    {
      "cell_type": "code",
      "execution_count": null,
      "metadata": {
        "id": "G11VPjE6ISIT",
        "outputId": "e39ed2d9-d2d1-47e7-95d9-243ff7abd627"
      },
      "outputs": [
        {
          "data": {
            "image/png": "[encoded data removed]",
            "text/plain": [
              "<Figure size 432x288 with 1 Axes>"
            ]
          },
          "metadata": {
            "needs_background": "light"
          },
          "output_type": "display_data"
        }
      ],
      "source": [
        "y_predict= lin_reg.predict(X_test)\n",
        "\n",
        "plt.scatter(y_test, y_predict)\n",
        "plt.plot(range(20000), range(20000))\n",
        "\n",
        "plt.xlabel(\"Target\")\n",
        "plt.ylabel(\"Predicted data\")\n",
        "plt.title(\"Actual Data -VS- Predicted Data\")\n",
        "plt.show()"
      ],
      "id": "G11VPjE6ISIT"
    },
    {
      "cell_type": "code",
      "execution_count": null,
      "metadata": {
        "id": "s8npi7asISIU",
        "outputId": "00e9d74b-8225-47b7-da38-523d069a6291"
      },
      "outputs": [
        {
          "name": "stdout",
          "output_type": "stream",
          "text": [
            "Alpha: 0\t  MSE_score: 7.283697448233043e-26\t  \n",
            "Alpha: 1e-08\t  MSE_score: 2.273965146971361e-19\t  \n",
            "Alpha: 0.0001\t  MSE_score: 2.2736487184292052e-11\t  \n",
            "Alpha: 0.01\t  MSE_score: 2.2736405821342752e-07\t  \n",
            "Alpha: 1.0\t  MSE_score: 0.0022728311844003044\t  \n",
            "Alpha: 5.0\t  MSE_score: 0.05673913341071157\t  \n",
            "Alpha: 10\t  MSE_score: 0.2265493022680683\t  \n",
            "Alpha: 100\t  MSE_score: 21.940455999786415\t  \n",
            "Alpha: 1000\t  MSE_score: 1634.5535600204646\t  \n"
          ]
        }
      ],
      "source": [
        "from numpy import absolute\n",
        "# creating Ridge and applying CV on it:\n",
        "for cur_alpha in [0,1e-8, 1e-4, 1e-2, 1.0, 5.0, 10, 100, 1000]:\n",
        "    lr_object =  Ridge(alpha=cur_alpha)\n",
        "    scores = cross_val_score(lr_object, X_train, y_train, scoring='neg_mean_squared_error')\n",
        "    print(\"Alpha: {0}\\t  MSE_score: {1}\\t  \".format(cur_alpha, absolute(np.mean(scores))))"
      ],
      "id": "s8npi7asISIU"
    },
    {
      "cell_type": "code",
      "execution_count": null,
      "metadata": {
        "id": "OzsHG5tCISIV",
        "outputId": "21681ad4-f5de-4a11-fabb-33f553286642"
      },
      "outputs": [
        {
          "name": "stdout",
          "output_type": "stream",
          "text": [
            "R^2 on Train set> 0.756\n",
            "R^2 on test set> 0.754\n"
          ]
        }
      ],
      "source": [
        "# WHEN ALPHA IS 1.0- MSE IS LOW:\n",
        "# Let's also check very lARGE VALUE IS -> Infinity is approx= 10^308.9\n",
        "ridge = Ridge(alpha=1.0,normalize = True)\n",
        "ridge.fit(X_train, y_train)\n",
        "\n",
        "ridge_r2_tr = round(r2_score(y_train, ridge.predict(X_train)),3)\n",
        "print('R^2 on Train set>',ridge_r2_tr)\n",
        "# Evaluating on TEST set:\n",
        "ridge_r2_ts = round(r2_score(y_test, ridge.predict(X_test)),3)\n",
        "print('R^2 on test set>',ridge_r2_ts)"
      ],
      "id": "OzsHG5tCISIV"
    },
    {
      "cell_type": "code",
      "execution_count": null,
      "metadata": {
        "id": "XmeTpsR1ISIV",
        "outputId": "d0d79a95-932b-4ec9-ff94-7df48a4b77d3"
      },
      "outputs": [
        {
          "data": {
            "text/html": [
              "<div>\n",
              "<style scoped>\n",
              "    .dataframe tbody tr th:only-of-type {\n",
              "        vertical-align: middle;\n",
              "    }\n",
              "\n",
              "    .dataframe tbody tr th {\n",
              "        vertical-align: top;\n",
              "    }\n",
              "\n",
              "    .dataframe thead th {\n",
              "        text-align: right;\n",
              "    }\n",
              "</style>\n",
              "<table border=\"1\" class=\"dataframe\">\n",
              "  <thead>\n",
              "    <tr style=\"text-align: right;\">\n",
              "      <th></th>\n",
              "      <th>Train_R2</th>\n",
              "      <th>Test_R2</th>\n",
              "    </tr>\n",
              "  </thead>\n",
              "  <tbody>\n",
              "    <tr>\n",
              "      <th>Ridge Regresion with CV on it</th>\n",
              "      <td>0.756</td>\n",
              "      <td>0.754</td>\n",
              "    </tr>\n",
              "  </tbody>\n",
              "</table>\n",
              "</div>"
            ],
            "text/plain": [
              "                                Train_R2  Test_R2\n",
              "Ridge Regresion with CV on it      0.756    0.754"
            ]
          },
          "execution_count": 32,
          "metadata": {},
          "output_type": "execute_result"
        }
      ],
      "source": [
        "# collecting into 1 Dataframe\n",
        "all_train_r2 = [ridge_r2_tr]\n",
        "all_test_r2 = [ridge_r2_ts]\n",
        "#columns:\n",
        "columns={'Train_R2':all_train_r2,'Test_R2':all_test_r2}\n",
        "models=['Ridge Regresion with CV on it ']\n",
        "result2 = pd.DataFrame(data = columns,index = models)\n",
        "result2"
      ],
      "id": "XmeTpsR1ISIV"
    },
    {
      "cell_type": "markdown",
      "metadata": {
        "id": "CdlYgzvSISIW"
      },
      "source": [
        "### Compare performance of the models. Write some conclusions.\n",
        "\n",
        "+ Firstly, I created a Linear Regression mODEL, as usual, and find out R2 score on both train and test.\n",
        "+ And resilts were equal, to 1.0, it means that **100 %** fitted model.\n",
        "+ But I suppose, it is a little bit strange.Maybe overfitting data. As we have seen before, from Scatter plot, to actual and predicted data.\n",
        "+ After that I created Ridge Regression, and with th help of loop, I checked Small MSE through different alphas.\n",
        "+ A nd find out that when alpha is 0.1, MSE is very small.\n",
        "+ That's why I choose it, and scores for R2-score were releatively good, for **75 %** fitted model, and I suppose, that It looks more realistic prediction."
      ],
      "id": "CdlYgzvSISIW"
    },
    {
      "cell_type": "markdown",
      "metadata": {
        "id": "0JWrDAVrISIW"
      },
      "source": [
        "## Task 4 - Theory (25%)\n",
        "On your own words answer any **THREE** questions from below:\n",
        "1. What metrics you would use in case of imbalanced dataset in classification problem? Explain each metrics and why you would use it. (8%).\n",
        "2. Explain Bias-Variance Tradeoff principle. (8%)\n",
        "3. Describe how regularized linear regression models work. (8%)\n",
        "4. Explain advantage of using Random Forest model over Decision Tree model. (8%)\n",
        "5. What is the difference between KNN and K-means models? Explain each model briefly. (8%)"
      ],
      "id": "0JWrDAVrISIW"
    },
    {
      "cell_type": "markdown",
      "metadata": {
        "id": "TFijuzv8ISIX"
      },
      "source": [
        "+ Thank you for choice.\n",
        "+ 1.\n",
        "+ In capstone project, we have dealt with inbalanced data, and as I remember we used for classification task, metrics such as **classification matrix**, to understand whether a positive or negative prediction, and from formulas we know that it helped to find : **Precision,Recall,F1_score**.\n",
        "    + So, Recall shows us how well the positive class was predicted, while precision shows as positive a sample that is negative. Together combining them, we can see the balance between them by **F1**. In all cases, it if range close ot 0 is worst, if to 1. it is best case was."
      ],
      "id": "TFijuzv8ISIX"
    },
    {
      "cell_type": "markdown",
      "metadata": {
        "id": "rF9LRp74ISIX"
      },
      "source": [
        "+ 3.\n",
        "+ Here, when we use regularised models, they are more flexible, so it avoids the risk of overfitting.\n",
        "+ Moreover, we use λ - tuning parameter, which shows how much we want to penalize the flexibility of our model.\n",
        "+ From lectures, I remember that when we use regularization, it significantly reduces  variance of  model, without substantial increase in its bias. Also, all coefficients estimates are closer to zero.\n",
        "+ To summarise, I want to say that it is  useful technique, that can help in improving the accuracy of our models."
      ],
      "id": "rF9LRp74ISIX"
    },
    {
      "cell_type": "markdown",
      "metadata": {
        "id": "p3NgYT7lISIY"
      },
      "source": [
        "+ 4\n",
        "+ Firstly, 2 models are connected, because RandomForest is collection of Decision trees.\n",
        "+ It means that,it contains many decision trees, when model created it randomly selects features to input data, and then makes a tree with each node and best splits at each step like a tree.\n",
        "+ Which helps to predict strong and high results of the model.\n",
        "+ Also, when we used RandomForest and Decision in 3 hw, then RandomForest Regressor model showed better results than others.\n",
        "+ Because, it minimizes overfitting risk by analysing a random sub-samples of dataset and it tends to be more accurate."
      ],
      "id": "p3NgYT7lISIY"
    },
    {
      "cell_type": "markdown",
      "metadata": {
        "id": "LKBlEzEwISIY"
      },
      "source": [
        "---\n",
        "\n",
        "### Evaluatian form (Keep it)\n",
        "\n",
        "| Question | Mark  | Comnent   \n",
        "|:-------:|:--------:|:----------------------\n",
        "| 1       |   20/25    | Tuning is not performed. Corr is not properly done.\n",
        "| 2       |   19/25    | No scatterplot. No comments and conclusion.\n",
        "| 3       |   21/25    | Scaling is not applied.\n",
        "| 4       |   25/25    | \n",
        "|**Total**|**85/100**  | \n"
      ],
      "id": "LKBlEzEwISIY"
    }
  ],
  "metadata": {
    "kernelspec": {
      "display_name": "Python 3",
      "language": "python",
      "name": "python3"
    },
    "language_info": {
      "codemirror_mode": {
        "name": "ipython",
        "version": 3
      },
      "file_extension": ".py",
      "mimetype": "text/x-python",
      "name": "python",
      "nbconvert_exporter": "python",
      "pygments_lexer": "ipython3",
      "version": "3.8.5"
    },
    "colab": {
      "provenance": []
    }
  },
  "nbformat": 4,
  "nbformat_minor": 5
}