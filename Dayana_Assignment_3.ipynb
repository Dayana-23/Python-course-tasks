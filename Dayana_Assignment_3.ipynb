{
  "cells": [
    {
      "cell_type": "markdown",
      "metadata": {
        "id": "nN2is5FJF3Sj"
      },
      "source": [
        "# PDS: Assignment 3\n",
        "## For 10 points (not 5 points as usual)\n",
        "\n",
        "### Deadline: June 1 (until 23:59)\n",
        "\n",
        "\n",
        "**Instructions:** All answers should be filled in the notebook and then submitted to Moodle. For theoretical question you can use markdown and LaTeX. Name of notebook should be in following format:\n",
        " - Name_group_Assignment_3.ipynb (ex. Elon_Musk_1929_Assignment_3.ipynb)\n",
        " - Try to use fewer cells for compilation (for example, you can use print for several answers, instead of printing each answer on a separate cell)\n",
        " - **PLEASE:** submit only one jupyter notebook (no zip or csv files) and with your names as in the instruction. Ohterwise, there will be punishment for 2 points."
      ],
      "id": "nN2is5FJF3Sj"
    },
    {
      "cell_type": "markdown",
      "metadata": {
        "id": "PcQCAhJVF3Sm"
      },
      "source": [
        "## ✤ *Importing needed libraries:*"
      ],
      "id": "PcQCAhJVF3Sm"
    },
    {
      "cell_type": "code",
      "execution_count": null,
      "metadata": {
        "id": "tkEZ-EfFF3Sn"
      },
      "outputs": [],
      "source": [
        "import pandas as pd\n",
        "import numpy as np\n",
        "\n",
        "import matplotlib.pyplot as plt\n",
        "import seaborn as sns\n",
        "\n",
        "\n",
        "from sklearn import preprocessing\n",
        "from sklearn.preprocessing import LabelEncoder\n",
        "from sklearn.preprocessing import StandardScaler\n",
        "from sklearn.model_selection import train_test_split\n",
        "\n",
        "from sklearn import metrics\n",
        "from sklearn.metrics import accuracy_score,mean_squared_error,r2_score\n",
        "\n",
        "from sklearn.neighbors import KNeighborsClassifier\n",
        "from sklearn.linear_model import Ridge, Lasso , RidgeCV, LassoCV\n",
        "from sklearn.tree import DecisionTreeRegressor\n",
        "from sklearn.ensemble import BaggingRegressor\n",
        "from sklearn.ensemble import RandomForestRegressor\n",
        "\n",
        "from sklearn.model_selection import KFold, cross_val_score\n",
        "from sklearn.model_selection import GridSearchCV\n",
        "\n",
        "import warnings  # do not show matching warnings\n",
        "warnings.filterwarnings('ignore')"
      ],
      "id": "tkEZ-EfFF3Sn"
    },
    {
      "cell_type": "markdown",
      "metadata": {
        "id": "s_eZbBxIF3Sp"
      },
      "source": [
        "## Q1 (30%)\n",
        "Use Credit.csv dataset. Do the following tasks:\n",
        "1. Split your dataset to train and test sets (20% for testing) with random state equal to 2021. Imagine that you can use test set only for evaluation at the end.\n",
        "2. Using any model of your choice, predict Balance. To evaluate performance of the trained model, obtain MSE of training set, 5-fold CV, 10-fold CV, and test set. Present all results in the form of tables (dataframes).\n",
        "3. Instead of using CV, using any random split obtain validation set of the same size as the test set. Train the model on training part, and evaluate performance of the trained model on training, validation and test sets. Present all results in the form of tables (dataframes).\n",
        "4. Now, repeat the step above 5 times with 5 different random splits. You can save results in five different dataframes. \n",
        "5. Comment the results obtained using CV and validation sets.\n",
        "\n",
        "\n",
        "*Note: You are allowed to use sklearn, but not statsmodels.*\n",
        "\n",
        "*Hint: To get validation set, you can use train_test_split function two times (if you use it properly).*"
      ],
      "id": "s_eZbBxIF3Sp"
    },
    {
      "cell_type": "code",
      "execution_count": null,
      "metadata": {
        "id": "4P9gCz6iF3Sq",
        "outputId": "f58c4f52-9a2d-4073-fb89-f7a94cdcc8b8"
      },
      "outputs": [
        {
          "data": {
            "text/html": [
              "<div>\n",
              "<style scoped>\n",
              "    .dataframe tbody tr th:only-of-type {\n",
              "        vertical-align: middle;\n",
              "    }\n",
              "\n",
              "    .dataframe tbody tr th {\n",
              "        vertical-align: top;\n",
              "    }\n",
              "\n",
              "    .dataframe thead th {\n",
              "        text-align: right;\n",
              "    }\n",
              "</style>\n",
              "<table border=\"1\" class=\"dataframe\">\n",
              "  <thead>\n",
              "    <tr style=\"text-align: right;\">\n",
              "      <th></th>\n",
              "      <th>Income</th>\n",
              "      <th>Limit</th>\n",
              "      <th>Rating</th>\n",
              "      <th>Cards</th>\n",
              "      <th>Age</th>\n",
              "      <th>Education</th>\n",
              "      <th>Gender</th>\n",
              "      <th>Student</th>\n",
              "      <th>Married</th>\n",
              "      <th>Ethnicity</th>\n",
              "      <th>Balance</th>\n",
              "    </tr>\n",
              "  </thead>\n",
              "  <tbody>\n",
              "    <tr>\n",
              "      <th>0</th>\n",
              "      <td>14.891</td>\n",
              "      <td>3606</td>\n",
              "      <td>283</td>\n",
              "      <td>2</td>\n",
              "      <td>34</td>\n",
              "      <td>11</td>\n",
              "      <td>Male</td>\n",
              "      <td>No</td>\n",
              "      <td>Yes</td>\n",
              "      <td>Caucasian</td>\n",
              "      <td>333</td>\n",
              "    </tr>\n",
              "    <tr>\n",
              "      <th>1</th>\n",
              "      <td>106.025</td>\n",
              "      <td>6645</td>\n",
              "      <td>483</td>\n",
              "      <td>3</td>\n",
              "      <td>82</td>\n",
              "      <td>15</td>\n",
              "      <td>Female</td>\n",
              "      <td>Yes</td>\n",
              "      <td>Yes</td>\n",
              "      <td>Asian</td>\n",
              "      <td>903</td>\n",
              "    </tr>\n",
              "    <tr>\n",
              "      <th>2</th>\n",
              "      <td>104.593</td>\n",
              "      <td>7075</td>\n",
              "      <td>514</td>\n",
              "      <td>4</td>\n",
              "      <td>71</td>\n",
              "      <td>11</td>\n",
              "      <td>Male</td>\n",
              "      <td>No</td>\n",
              "      <td>No</td>\n",
              "      <td>Asian</td>\n",
              "      <td>580</td>\n",
              "    </tr>\n",
              "    <tr>\n",
              "      <th>3</th>\n",
              "      <td>148.924</td>\n",
              "      <td>9504</td>\n",
              "      <td>681</td>\n",
              "      <td>3</td>\n",
              "      <td>36</td>\n",
              "      <td>11</td>\n",
              "      <td>Female</td>\n",
              "      <td>No</td>\n",
              "      <td>No</td>\n",
              "      <td>Asian</td>\n",
              "      <td>964</td>\n",
              "    </tr>\n",
              "    <tr>\n",
              "      <th>4</th>\n",
              "      <td>55.882</td>\n",
              "      <td>4897</td>\n",
              "      <td>357</td>\n",
              "      <td>2</td>\n",
              "      <td>68</td>\n",
              "      <td>16</td>\n",
              "      <td>Male</td>\n",
              "      <td>No</td>\n",
              "      <td>Yes</td>\n",
              "      <td>Caucasian</td>\n",
              "      <td>331</td>\n",
              "    </tr>\n",
              "  </tbody>\n",
              "</table>\n",
              "</div>"
            ],
            "text/plain": [
              "    Income  Limit  Rating  Cards  Age  Education  Gender Student Married  \\\n",
              "0   14.891   3606     283      2   34         11    Male      No     Yes   \n",
              "1  106.025   6645     483      3   82         15  Female     Yes     Yes   \n",
              "2  104.593   7075     514      4   71         11    Male      No      No   \n",
              "3  148.924   9504     681      3   36         11  Female      No      No   \n",
              "4   55.882   4897     357      2   68         16    Male      No     Yes   \n",
              "\n",
              "   Ethnicity  Balance  \n",
              "0  Caucasian      333  \n",
              "1      Asian      903  \n",
              "2      Asian      580  \n",
              "3      Asian      964  \n",
              "4  Caucasian      331  "
            ]
          },
          "execution_count": 2,
          "metadata": {},
          "output_type": "execute_result"
        }
      ],
      "source": [
        "df1 = pd.read_csv('data/Credit.csv')\n",
        "df1.head()"
      ],
      "id": "4P9gCz6iF3Sq"
    },
    {
      "cell_type": "code",
      "execution_count": null,
      "metadata": {
        "id": "KnAcvKE0F3Sr",
        "outputId": "c247acc8-625b-4fa8-8b40-43ca133b05b9"
      },
      "outputs": [
        {
          "name": "stdout",
          "output_type": "stream",
          "text": [
            "<class 'pandas.core.frame.DataFrame'>\n",
            "RangeIndex: 400 entries, 0 to 399\n",
            "Data columns (total 11 columns):\n",
            " #   Column     Non-Null Count  Dtype  \n",
            "---  ------     --------------  -----  \n",
            " 0   Income     400 non-null    float64\n",
            " 1   Limit      400 non-null    int64  \n",
            " 2   Rating     400 non-null    int64  \n",
            " 3   Cards      400 non-null    int64  \n",
            " 4   Age        400 non-null    int64  \n",
            " 5   Education  400 non-null    int64  \n",
            " 6   Gender     400 non-null    object \n",
            " 7   Student    400 non-null    object \n",
            " 8   Married    400 non-null    object \n",
            " 9   Ethnicity  400 non-null    object \n",
            " 10  Balance    400 non-null    int64  \n",
            "dtypes: float64(1), int64(6), object(4)\n",
            "memory usage: 34.5+ KB\n"
          ]
        }
      ],
      "source": [
        "df1.info()"
      ],
      "id": "KnAcvKE0F3Sr"
    },
    {
      "cell_type": "code",
      "execution_count": null,
      "metadata": {
        "id": "uTZp5G68F3Sr",
        "outputId": "7045432c-d2c1-4399-e18b-aed998d7d104"
      },
      "outputs": [
        {
          "data": {
            "text/html": [
              "<div>\n",
              "<style scoped>\n",
              "    .dataframe tbody tr th:only-of-type {\n",
              "        vertical-align: middle;\n",
              "    }\n",
              "\n",
              "    .dataframe tbody tr th {\n",
              "        vertical-align: top;\n",
              "    }\n",
              "\n",
              "    .dataframe thead th {\n",
              "        text-align: right;\n",
              "    }\n",
              "</style>\n",
              "<table border=\"1\" class=\"dataframe\">\n",
              "  <thead>\n",
              "    <tr style=\"text-align: right;\">\n",
              "      <th></th>\n",
              "      <th>Income</th>\n",
              "      <th>Limit</th>\n",
              "      <th>Rating</th>\n",
              "      <th>Cards</th>\n",
              "      <th>Age</th>\n",
              "      <th>Education</th>\n",
              "      <th>Gender</th>\n",
              "      <th>Student</th>\n",
              "      <th>Married</th>\n",
              "      <th>Ethnicity</th>\n",
              "      <th>Balance</th>\n",
              "    </tr>\n",
              "  </thead>\n",
              "  <tbody>\n",
              "    <tr>\n",
              "      <th>0</th>\n",
              "      <td>14.891</td>\n",
              "      <td>3606</td>\n",
              "      <td>283</td>\n",
              "      <td>2</td>\n",
              "      <td>34</td>\n",
              "      <td>11</td>\n",
              "      <td>0</td>\n",
              "      <td>0</td>\n",
              "      <td>1</td>\n",
              "      <td>2</td>\n",
              "      <td>333</td>\n",
              "    </tr>\n",
              "    <tr>\n",
              "      <th>1</th>\n",
              "      <td>106.025</td>\n",
              "      <td>6645</td>\n",
              "      <td>483</td>\n",
              "      <td>3</td>\n",
              "      <td>82</td>\n",
              "      <td>15</td>\n",
              "      <td>1</td>\n",
              "      <td>1</td>\n",
              "      <td>1</td>\n",
              "      <td>1</td>\n",
              "      <td>903</td>\n",
              "    </tr>\n",
              "    <tr>\n",
              "      <th>2</th>\n",
              "      <td>104.593</td>\n",
              "      <td>7075</td>\n",
              "      <td>514</td>\n",
              "      <td>4</td>\n",
              "      <td>71</td>\n",
              "      <td>11</td>\n",
              "      <td>0</td>\n",
              "      <td>0</td>\n",
              "      <td>0</td>\n",
              "      <td>1</td>\n",
              "      <td>580</td>\n",
              "    </tr>\n",
              "    <tr>\n",
              "      <th>3</th>\n",
              "      <td>148.924</td>\n",
              "      <td>9504</td>\n",
              "      <td>681</td>\n",
              "      <td>3</td>\n",
              "      <td>36</td>\n",
              "      <td>11</td>\n",
              "      <td>1</td>\n",
              "      <td>0</td>\n",
              "      <td>0</td>\n",
              "      <td>1</td>\n",
              "      <td>964</td>\n",
              "    </tr>\n",
              "    <tr>\n",
              "      <th>4</th>\n",
              "      <td>55.882</td>\n",
              "      <td>4897</td>\n",
              "      <td>357</td>\n",
              "      <td>2</td>\n",
              "      <td>68</td>\n",
              "      <td>16</td>\n",
              "      <td>0</td>\n",
              "      <td>0</td>\n",
              "      <td>1</td>\n",
              "      <td>2</td>\n",
              "      <td>331</td>\n",
              "    </tr>\n",
              "  </tbody>\n",
              "</table>\n",
              "</div>"
            ],
            "text/plain": [
              "    Income  Limit  Rating  Cards  Age  Education  Gender  Student  Married  \\\n",
              "0   14.891   3606     283      2   34         11       0        0        1   \n",
              "1  106.025   6645     483      3   82         15       1        1        1   \n",
              "2  104.593   7075     514      4   71         11       0        0        0   \n",
              "3  148.924   9504     681      3   36         11       1        0        0   \n",
              "4   55.882   4897     357      2   68         16       0        0        1   \n",
              "\n",
              "   Ethnicity  Balance  \n",
              "0          2      333  \n",
              "1          1      903  \n",
              "2          1      580  \n",
              "3          1      964  \n",
              "4          2      331  "
            ]
          },
          "execution_count": 4,
          "metadata": {},
          "output_type": "execute_result"
        }
      ],
      "source": [
        "# ENCODING CATEGORICAL VALUES:\n",
        "label_en = LabelEncoder()\n",
        "\n",
        "df1['Gender'] = label_en.fit_transform(df1['Gender'].astype(str))\n",
        "df1['Student'] = label_en.fit_transform(df1['Student'].astype(str))\n",
        "df1['Married'] = label_en.fit_transform(df1['Married'].astype(str))\n",
        "df1['Ethnicity'] = label_en.fit_transform(df1['Ethnicity'].astype(str))\n",
        "\n",
        "df1.head()"
      ],
      "id": "uTZp5G68F3Sr"
    },
    {
      "cell_type": "markdown",
      "metadata": {
        "id": "RB3XOmLrF3Ss"
      },
      "source": [
        "**From previous assignment, I know that these 4 columns are higly correlated with our Target Balance:**"
      ],
      "id": "RB3XOmLrF3Ss"
    },
    {
      "cell_type": "code",
      "execution_count": null,
      "metadata": {
        "id": "j8M3LPKKF3St",
        "outputId": "29346c6f-db14-4779-d496-a63db492368d"
      },
      "outputs": [
        {
          "name": "stdout",
          "output_type": "stream",
          "text": [
            "(320, 4)\n",
            "(80, 4)\n"
          ]
        }
      ],
      "source": [
        "# STEP-1:\n",
        "X = df1[['Rating','Limit','Income','Student']] # All highly correlated cols.\n",
        "y = df1[\"Balance\"] # Only this column\n",
        "\n",
        "X_train, X_test, y_train, y_test = train_test_split(X, y, test_size=0.2, random_state=2021)\n",
        "\n",
        "print(X_train.shape)\n",
        "print(X_test.shape)"
      ],
      "id": "j8M3LPKKF3St"
    },
    {
      "cell_type": "code",
      "execution_count": null,
      "metadata": {
        "id": "zgiF51IsF3St",
        "outputId": "3fdab0e2-38a7-47fe-8d3f-94228f7acbfa"
      },
      "outputs": [
        {
          "name": "stdout",
          "output_type": "stream",
          "text": [
            "MSE on Train set> 24854.838\n",
            "MSE on Test set>  21133.575\n"
          ]
        }
      ],
      "source": [
        "# STEP-2:\n",
        "# Standartisation:\n",
        "scaler = preprocessing.StandardScaler().fit(X_train)\n",
        "X_train = scaler.transform(X_train)\n",
        "X_test = scaler.transform(X_test)\n",
        "# KNN:\n",
        "knn_model = KNeighborsClassifier()\n",
        "knn_model.fit(X_train, y_train)\n",
        "\n",
        "# Evaluating on Train set\n",
        "knn_pred_test1 = knn_model.predict(X_train)\n",
        "tr_mse_knn1 = round(mean_squared_error(y_train, knn_pred_test1),3)\n",
        "print('MSE on Train set>',tr_mse_knn1)\n",
        "\n",
        "# Evaluating on Test set\n",
        "knn_pred_test2 = knn_model.predict(X_test)\n",
        "tst_mse_knn2 = round(mean_squared_error(y_test, knn_pred_test2),3)\n",
        "print('MSE on Test set> ',tst_mse_knn2)"
      ],
      "id": "zgiF51IsF3St"
    },
    {
      "cell_type": "code",
      "execution_count": null,
      "metadata": {
        "id": "jP6kpjSXF3Su",
        "outputId": "bcfee484-fe51-4a56-b681-6240a527915d"
      },
      "outputs": [
        {
          "name": "stdout",
          "output_type": "stream",
          "text": [
            "MSE of 5-fold CV on Train Set : 33499.478 (4663.877)\n",
            "MSE of 5-fold CV on Test Set:  121329.700 (69407.137)\n"
          ]
        }
      ],
      "source": [
        "# WHEN CV=5:\n",
        "\n",
        "# Simple CV with cross_val_score:\n",
        "scores_tr = abs(cross_val_score(knn_model, X_train, y_train, scoring='neg_mean_squared_error', cv=5))\n",
        "scores_ts = abs(cross_val_score(knn_model, X_test, y_test, scoring='neg_mean_squared_error', cv=5))\n",
        "\n",
        "mse_cv5_tr = np.mean(scores_tr)\n",
        "mse_cv5_ts = np.mean(scores_ts)\n",
        "\n",
        "print('MSE of 5-fold CV on Train Set : %.3f (%.3f)' % (mse_cv5_tr, np.std(scores_tr)))\n",
        "print('MSE of 5-fold CV on Test Set:  %.3f (%.3f)' % (mse_cv5_ts, np.std(scores_ts)))"
      ],
      "id": "jP6kpjSXF3Su"
    },
    {
      "cell_type": "code",
      "execution_count": null,
      "metadata": {
        "id": "YXf4jFhSF3Sv",
        "outputId": "35006f17-4733-4780-b435-805dce145cc7"
      },
      "outputs": [
        {
          "name": "stdout",
          "output_type": "stream",
          "text": [
            "MSE of 10-fold CV on Train Set : 33768.641 (9765.518)\n",
            "MSE of 10-fold CV on Test Set:  104325.650 (76084.924)\n"
          ]
        }
      ],
      "source": [
        "# WHEN CV= 10:\n",
        "\n",
        "# Simple CV with cross_val_score:\n",
        "scores_tr = abs(cross_val_score(knn_model, X_train, y_train, scoring='neg_mean_squared_error', cv=10))\n",
        "scores_ts = abs(cross_val_score(knn_model, X_test, y_test, scoring='neg_mean_squared_error', cv=10))\n",
        "\n",
        "mse_cv10_tr = np.mean(scores_tr)\n",
        "mse_cv10_ts = np.mean(scores_ts)\n",
        "\n",
        "print('MSE of 10-fold CV on Train Set : %.3f (%.3f)' % (mse_cv10_tr, np.std(scores_tr)))\n",
        "print('MSE of 10-fold CV on Test Set:  %.3f (%.3f)' % (mse_cv10_ts, np.std(scores_ts)))"
      ],
      "id": "YXf4jFhSF3Sv"
    },
    {
      "cell_type": "code",
      "execution_count": null,
      "metadata": {
        "id": "y-lVMU-MF3Sv",
        "outputId": "226e1d80-cf91-4fdb-d045-64a921fc3d69"
      },
      "outputs": [
        {
          "data": {
            "text/html": [
              "<div>\n",
              "<style scoped>\n",
              "    .dataframe tbody tr th:only-of-type {\n",
              "        vertical-align: middle;\n",
              "    }\n",
              "\n",
              "    .dataframe tbody tr th {\n",
              "        vertical-align: top;\n",
              "    }\n",
              "\n",
              "    .dataframe thead th {\n",
              "        text-align: right;\n",
              "    }\n",
              "</style>\n",
              "<table border=\"1\" class=\"dataframe\">\n",
              "  <thead>\n",
              "    <tr style=\"text-align: right;\">\n",
              "      <th></th>\n",
              "      <th>MSE metric</th>\n",
              "    </tr>\n",
              "  </thead>\n",
              "  <tbody>\n",
              "    <tr>\n",
              "      <th>Train data</th>\n",
              "      <td>24854.838000</td>\n",
              "    </tr>\n",
              "    <tr>\n",
              "      <th>5-fold CV</th>\n",
              "      <td>33499.478125</td>\n",
              "    </tr>\n",
              "    <tr>\n",
              "      <th>10-fold CV</th>\n",
              "      <td>33768.640625</td>\n",
              "    </tr>\n",
              "    <tr>\n",
              "      <th>Test data</th>\n",
              "      <td>21133.575000</td>\n",
              "    </tr>\n",
              "  </tbody>\n",
              "</table>\n",
              "</div>"
            ],
            "text/plain": [
              "              MSE metric\n",
              "Train data  24854.838000\n",
              "5-fold CV   33499.478125\n",
              "10-fold CV  33768.640625\n",
              "Test data   21133.575000"
            ]
          },
          "execution_count": 10,
          "metadata": {},
          "output_type": "execute_result"
        }
      ],
      "source": [
        "# STEP-2:\n",
        "# collecting RESULTS into 1 Dataframe\n",
        "all_mse_knn = [tr_mse_knn1, mse_cv5_tr, mse_cv10_tr, tst_mse_knn2]\n",
        "#columns:\n",
        "columns_1 = {'MSE metric': all_mse_knn}\n",
        "\n",
        "models_1=['Train data','5-fold CV', '10-fold CV', 'Test data']\n",
        "result_1 = pd.DataFrame(data = columns_1, index = models_1)\n",
        "result_1"
      ],
      "id": "y-lVMU-MF3Sv"
    },
    {
      "cell_type": "code",
      "execution_count": null,
      "metadata": {
        "id": "p7hzVOBHF3Sw"
      },
      "outputs": [],
      "source": [
        "# WHEN CV=10 (2nd way with GridSearchCV):\n",
        "\n",
        "# knn_grid_10 = GridSearchCV(knn_pipe, knn_params, cv=10, n_jobs=-1, verbose=True)\n",
        "# knn_grid_10.fit(X_train, y_train)\n",
        "# knn_grid_10.best_params_, knn_grid_10.best_score_\n",
        "\n",
        "# mse_cv10_tr = round(mean_squared_error(y_train,knn_grid_10.predict(X_train)),3)\n",
        "# print('MSE of 10-fold CV on Train set>',mse_cv10_tr)\n",
        "\n",
        "# mse_cv10_ts = round(mean_squared_error(y_test,knn_grid_10.predict(X_test)),3)\n",
        "# print('MSE of 10-fold CV on Test set>',mse_cv10_ts)"
      ],
      "id": "p7hzVOBHF3Sw"
    },
    {
      "cell_type": "markdown",
      "metadata": {
        "id": "_gffIoeKF3Sw"
      },
      "source": [
        "### 3.Instead of using CV, using any random split obtain validation set of the same size as the test set. Train the model on training part, and evaluate performance of the trained model on training, validation and test sets. Present all results in the form of tables (dataframes)."
      ],
      "id": "_gffIoeKF3Sw"
    },
    {
      "cell_type": "code",
      "execution_count": null,
      "metadata": {
        "id": "_-XSOxaKF3Sw",
        "outputId": "3732b0b7-2d16-4b36-b531-618bec8aec40"
      },
      "outputs": [
        {
          "name": "stdout",
          "output_type": "stream",
          "text": [
            "(240, 4)\n",
            "(240,)\n",
            "(80, 4)\n",
            "(80,)\n",
            "(80, 4)\n",
            "(80,)\n"
          ]
        }
      ],
      "source": [
        "# STEP-3:\n",
        "# By your hint, 2 times splitting the data:\n",
        "X_train, X_test, y_train, y_test = train_test_split(X, y, test_size=0.2, random_state=2021)\n",
        "\n",
        "X_train, X_val, y_train, y_val = train_test_split(X_train, y_train, test_size=0.25, random_state=2021)\n",
        "\n",
        "print(X_train.shape)\n",
        "print(y_train.shape)\n",
        "\n",
        "print(X_test.shape)\n",
        "print(y_test.shape)\n",
        "\n",
        "print(X_val.shape)\n",
        "print(y_val.shape)\n",
        "# We can check that, Validation and Test size are SAME:"
      ],
      "id": "_-XSOxaKF3Sw"
    },
    {
      "cell_type": "code",
      "execution_count": null,
      "metadata": {
        "id": "ymSzo48LF3Sx"
      },
      "outputs": [],
      "source": [
        "# Standartisation:\n",
        "scaler = preprocessing.StandardScaler().fit(X_train)\n",
        "X_train = scaler.transform(X_train)\n",
        "X_test = scaler.transform(X_test)\n",
        "X_val = scaler.transform(X_val)\n",
        "\n",
        "\n",
        "knn_model2 = KNeighborsClassifier()\n",
        "knn_model2.fit(X_train, y_train)\n",
        "\n",
        "# Evaluating on Train set\n",
        "trn_mse_knn = round(mean_squared_error(y_train, knn_model2.predict(X_train)),3)\n",
        "# Evaluating on Validation set\n",
        "val_mse_knn = round(mean_squared_error(y_val, knn_model2.predict(X_val)),3)\n",
        "# Evaluating on Test set\n",
        "ts_mse_knn = round(mean_squared_error(y_test, knn_model2.predict(X_test)),3)"
      ],
      "id": "ymSzo48LF3Sx"
    },
    {
      "cell_type": "code",
      "execution_count": null,
      "metadata": {
        "id": "cdurfHxeF3Sy",
        "outputId": "b44d105e-f261-439c-a879-cef155b1f729"
      },
      "outputs": [
        {
          "data": {
            "text/html": [
              "<div>\n",
              "<style scoped>\n",
              "    .dataframe tbody tr th:only-of-type {\n",
              "        vertical-align: middle;\n",
              "    }\n",
              "\n",
              "    .dataframe tbody tr th {\n",
              "        vertical-align: top;\n",
              "    }\n",
              "\n",
              "    .dataframe thead th {\n",
              "        text-align: right;\n",
              "    }\n",
              "</style>\n",
              "<table border=\"1\" class=\"dataframe\">\n",
              "  <thead>\n",
              "    <tr style=\"text-align: right;\">\n",
              "      <th></th>\n",
              "      <th>MSE</th>\n",
              "    </tr>\n",
              "  </thead>\n",
              "  <tbody>\n",
              "    <tr>\n",
              "      <th>Train Set</th>\n",
              "      <td>25308.479</td>\n",
              "    </tr>\n",
              "    <tr>\n",
              "      <th>Validation Set</th>\n",
              "      <td>55827.162</td>\n",
              "    </tr>\n",
              "    <tr>\n",
              "      <th>Test Set</th>\n",
              "      <td>39872.875</td>\n",
              "    </tr>\n",
              "  </tbody>\n",
              "</table>\n",
              "</div>"
            ],
            "text/plain": [
              "                      MSE\n",
              "Train Set       25308.479\n",
              "Validation Set  55827.162\n",
              "Test Set        39872.875"
            ]
          },
          "execution_count": 14,
          "metadata": {},
          "output_type": "execute_result"
        }
      ],
      "source": [
        "# STEP-3:\n",
        "# collecting RESULTS into 1 Dataframe\n",
        "all_mse3 = [trn_mse_knn, val_mse_knn, ts_mse_knn]\n",
        "#columns:\n",
        "columns_2 = {'MSE': all_mse3}\n",
        "\n",
        "models_2=['Train Set','Validation Set', 'Test Set']\n",
        "result_2 = pd.DataFrame(data = columns_2, index = models_2)\n",
        "result_2"
      ],
      "id": "cdurfHxeF3Sy"
    },
    {
      "cell_type": "markdown",
      "metadata": {
        "id": "qT0DbBgOF3Sy"
      },
      "source": [
        "### 4.Now, repeat the step above 5 times with 5 different random splits. You can save results in five different plots."
      ],
      "id": "qT0DbBgOF3Sy"
    },
    {
      "cell_type": "code",
      "execution_count": null,
      "metadata": {
        "id": "Q0gIbR-qF3Sz"
      },
      "outputs": [],
      "source": [
        "# 4.1. When Random_state = 0:\n",
        "X_train, X_test, y_train, y_test = train_test_split(X, y, test_size=0.2, random_state= 0)\n",
        "X_train, X_val, y_train, y_val = train_test_split(X_train, y_train, test_size=0.25, random_state= 0)\n",
        "# Standartisation:\n",
        "scaler = preprocessing.StandardScaler().fit(X_train)\n",
        "X_train = scaler.transform(X_train)\n",
        "X_test = scaler.transform(X_test)\n",
        "X_val = scaler.transform(X_val)\n",
        "\n",
        "knn_model41 = KNeighborsClassifier()\n",
        "knn_model41.fit(X_train, y_train)\n",
        "\n",
        "# Evaluating on Train set\n",
        "trn_mse_knn41 = round(mean_squared_error(y_train, knn_model41.predict(X_train)),3)\n",
        "# Evaluating on Validation set\n",
        "val_mse_knn41 = round(mean_squared_error(y_val, knn_model41.predict(X_val)),3)\n",
        "# Evaluating on Test set\n",
        "ts_mse_knn41 = round(mean_squared_error(y_test, knn_model41.predict(X_test)),3)"
      ],
      "id": "Q0gIbR-qF3Sz"
    },
    {
      "cell_type": "code",
      "execution_count": null,
      "metadata": {
        "id": "YkXgvfRKF3Sz"
      },
      "outputs": [],
      "source": [
        "# 4.2. When Random_state = 42:\n",
        "X_train, X_test, y_train, y_test = train_test_split(X, y, test_size=0.2, random_state= 42)\n",
        "X_train, X_val, y_train, y_val = train_test_split(X_train, y_train, test_size=0.25, random_state= 42)\n",
        "# Standartisation:\n",
        "scaler = preprocessing.StandardScaler().fit(X_train)\n",
        "X_train = scaler.transform(X_train)\n",
        "X_test = scaler.transform(X_test)\n",
        "X_val = scaler.transform(X_val)\n",
        "\n",
        "knn_model42 = KNeighborsClassifier()\n",
        "knn_model42.fit(X_train, y_train)\n",
        "\n",
        "# Evaluating on Train set\n",
        "trn_mse_knn42 = round(mean_squared_error(y_train, knn_model42.predict(X_train)),3)\n",
        "# Evaluating on Validation set\n",
        "val_mse_knn42 = round(mean_squared_error(y_val, knn_model42.predict(X_val)),3)\n",
        "# Evaluating on Test set\n",
        "ts_mse_knn42 = round(mean_squared_error(y_test, knn_model42.predict(X_test)),3)"
      ],
      "id": "YkXgvfRKF3Sz"
    },
    {
      "cell_type": "code",
      "execution_count": null,
      "metadata": {
        "id": "npt3PK_vF3S0"
      },
      "outputs": [],
      "source": [
        "# 4.3. When Random_state = 123:\n",
        "X_train, X_test, y_train, y_test = train_test_split(X, y, test_size=0.2, random_state= 123)\n",
        "X_train, X_val, y_train, y_val = train_test_split(X_train, y_train, test_size=0.25, random_state= 123)\n",
        "# Standartisation:\n",
        "scaler = preprocessing.StandardScaler().fit(X_train)\n",
        "X_train = scaler.transform(X_train)\n",
        "X_test = scaler.transform(X_test)\n",
        "X_val = scaler.transform(X_val)\n",
        "\n",
        "knn_model43 = KNeighborsClassifier()\n",
        "knn_model43.fit(X_train, y_train)\n",
        "\n",
        "# Evaluating on Train set\n",
        "trn_mse_knn43 = round(mean_squared_error(y_train, knn_model43.predict(X_train)),3)\n",
        "# Evaluating on Validation set\n",
        "val_mse_knn43 = round(mean_squared_error(y_val, knn_model43.predict(X_val)),3)\n",
        "# Evaluating on Test set\n",
        "ts_mse_knn43 = round(mean_squared_error(y_test, knn_model43.predict(X_test)),3)"
      ],
      "id": "npt3PK_vF3S0"
    },
    {
      "cell_type": "code",
      "execution_count": null,
      "metadata": {
        "id": "d2aTHJKXF3S0"
      },
      "outputs": [],
      "source": [
        "# 4.4. When Random_state = 1044:\n",
        "X_train, X_test, y_train, y_test = train_test_split(X, y, test_size=0.2, random_state= 1044)\n",
        "X_train, X_val, y_train, y_val = train_test_split(X_train, y_train, test_size=0.25, random_state= 1044)\n",
        "# Standartisation:\n",
        "scaler = preprocessing.StandardScaler().fit(X_train)\n",
        "X_train = scaler.transform(X_train)\n",
        "X_test = scaler.transform(X_test)\n",
        "X_val = scaler.transform(X_val)\n",
        "\n",
        "knn_model44 = KNeighborsClassifier()\n",
        "knn_model44.fit(X_train, y_train)\n",
        "\n",
        "# Evaluating on Train set\n",
        "trn_mse_knn44 = round(mean_squared_error(y_train, knn_model44.predict(X_train)),3)\n",
        "# Evaluating on Validation set\n",
        "val_mse_knn44 = round(mean_squared_error(y_val, knn_model44.predict(X_val)),3)\n",
        "# Evaluating on Test set\n",
        "ts_mse_knn44 = round(mean_squared_error(y_test, knn_model44.predict(X_test)),3)"
      ],
      "id": "d2aTHJKXF3S0"
    },
    {
      "cell_type": "code",
      "execution_count": null,
      "metadata": {
        "id": "S4m-YLcBF3S1"
      },
      "outputs": [],
      "source": [
        "# 4.5. When Random_state = 2023:\n",
        "X_train, X_test, y_train, y_test = train_test_split(X, y, test_size=0.2, random_state= 2023)\n",
        "X_train, X_val, y_train, y_val = train_test_split(X_train, y_train, test_size=0.25, random_state= 2023)\n",
        "# Standartisation:\n",
        "scaler = preprocessing.StandardScaler().fit(X_train)\n",
        "X_train = scaler.transform(X_train)\n",
        "X_test = scaler.transform(X_test)\n",
        "X_val = scaler.transform(X_val)\n",
        "\n",
        "knn_model45 = KNeighborsClassifier()\n",
        "knn_model45.fit(X_train, y_train)\n",
        "\n",
        "# Evaluating on Train set\n",
        "trn_mse_knn45 = round(mean_squared_error(y_train, knn_model45.predict(X_train)),3)\n",
        "# Evaluating on Validation set\n",
        "val_mse_knn45 = round(mean_squared_error(y_val, knn_model45.predict(X_val)),3)\n",
        "# Evaluating on Test set\n",
        "ts_mse_knn45 = round(mean_squared_error(y_test, knn_model45.predict(X_test)),3)"
      ],
      "id": "S4m-YLcBF3S1"
    },
    {
      "cell_type": "code",
      "execution_count": null,
      "metadata": {
        "id": "PSzQz0dLF3S1",
        "outputId": "b3b89496-620c-4e4e-9781-278452efea29"
      },
      "outputs": [
        {
          "data": {
            "text/html": [
              "<div>\n",
              "<style scoped>\n",
              "    .dataframe tbody tr th:only-of-type {\n",
              "        vertical-align: middle;\n",
              "    }\n",
              "\n",
              "    .dataframe tbody tr th {\n",
              "        vertical-align: top;\n",
              "    }\n",
              "\n",
              "    .dataframe thead th {\n",
              "        text-align: right;\n",
              "    }\n",
              "</style>\n",
              "<table border=\"1\" class=\"dataframe\">\n",
              "  <thead>\n",
              "    <tr style=\"text-align: right;\">\n",
              "      <th></th>\n",
              "      <th>MSE_0</th>\n",
              "      <th>MSE_42</th>\n",
              "      <th>MSE_123</th>\n",
              "      <th>MSE_1044</th>\n",
              "      <th>MSE_2023</th>\n",
              "    </tr>\n",
              "  </thead>\n",
              "  <tbody>\n",
              "    <tr>\n",
              "      <th>Train Set</th>\n",
              "      <td>19432.662</td>\n",
              "      <td>22239.317</td>\n",
              "      <td>23117.029</td>\n",
              "      <td>25263.550</td>\n",
              "      <td>29656.546</td>\n",
              "    </tr>\n",
              "    <tr>\n",
              "      <th>Validation Set</th>\n",
              "      <td>39039.088</td>\n",
              "      <td>54339.650</td>\n",
              "      <td>40680.588</td>\n",
              "      <td>23638.962</td>\n",
              "      <td>36835.875</td>\n",
              "    </tr>\n",
              "    <tr>\n",
              "      <th>Test Set</th>\n",
              "      <td>36748.875</td>\n",
              "      <td>29129.100</td>\n",
              "      <td>42944.238</td>\n",
              "      <td>30313.362</td>\n",
              "      <td>44829.212</td>\n",
              "    </tr>\n",
              "  </tbody>\n",
              "</table>\n",
              "</div>"
            ],
            "text/plain": [
              "                    MSE_0     MSE_42    MSE_123   MSE_1044   MSE_2023\n",
              "Train Set       19432.662  22239.317  23117.029  25263.550  29656.546\n",
              "Validation Set  39039.088  54339.650  40680.588  23638.962  36835.875\n",
              "Test Set        36748.875  29129.100  42944.238  30313.362  44829.212"
            ]
          },
          "execution_count": 20,
          "metadata": {},
          "output_type": "execute_result"
        }
      ],
      "source": [
        "# STEP-4:\n",
        "# Collecting ALL 5*3 RESULTS into 1 Dataframe\n",
        "all_mse_1 = [trn_mse_knn41, val_mse_knn41, ts_mse_knn41]\n",
        "all_mse_2 = [trn_mse_knn42, val_mse_knn42, ts_mse_knn42]\n",
        "all_mse_3 = [trn_mse_knn43, val_mse_knn43, ts_mse_knn43]\n",
        "all_mse_4 = [trn_mse_knn44, val_mse_knn44, ts_mse_knn44]\n",
        "all_mse_5 = [trn_mse_knn45, val_mse_knn45, ts_mse_knn45]\n",
        "\n",
        "#columns:\n",
        "columns_5 = {'MSE_0': all_mse_1,'MSE_42': all_mse_2,'MSE_123': all_mse_3,'MSE_1044': all_mse_4,'MSE_2023': all_mse_5, }\n",
        "\n",
        "models_5=['Train Set','Validation Set', 'Test Set']\n",
        "result = pd.DataFrame(data = columns_5, index = models_5)\n",
        "result\n",
        "# IT is convenient, to collect all 5 results into 1 df:"
      ],
      "id": "PSzQz0dLF3S1"
    },
    {
      "cell_type": "code",
      "execution_count": null,
      "metadata": {
        "id": "Qjgod4v9F3S2",
        "outputId": "8734df73-5d74-4664-d772-ee26a8f695e2"
      },
      "outputs": [
        {
          "data": {
            "image/png": "[encoded data removed]",
            "text/plain": [
              "<Figure size 720x360 with 1 Axes>"
            ]
          },
          "metadata": {
            "needs_background": "light"
          },
          "output_type": "display_data"
        }
      ],
      "source": [
        "# It is HAOS :)\n",
        "# just for interest)\n",
        "\n",
        "fig, ax = plt.subplots(figsize = (10,5));\n",
        "rand_split = [0,42,123,1044,2023]\n",
        "train_Set = [trn_mse_knn41,trn_mse_knn42,trn_mse_knn43,trn_mse_knn44,trn_mse_knn45]\n",
        "valid_Set = [val_mse_knn41,val_mse_knn42,val_mse_knn43,val_mse_knn44,val_mse_knn45]\n",
        "test_Set = [ts_mse_knn41, ts_mse_knn42, ts_mse_knn43, ts_mse_knn44, ts_mse_knn45]\n",
        "\n",
        "sns.lineplot(x = rand_split,y = valid_Set);\n",
        "sns.lineplot(x = rand_split,y = train_Set);\n",
        "sns.lineplot(x = rand_split,y = test_Set);\n",
        "ax.legend(['Validation','Train','Test']);\n",
        "plt.title('The MSE of different Random state');"
      ],
      "id": "Qjgod4v9F3S2"
    },
    {
      "cell_type": "markdown",
      "metadata": {
        "id": "dkIu0599F3S3"
      },
      "source": [
        "### 5.Comment the results:\n",
        "+ I have used different random_states, such as 0, 42, 123, 1044, 2023.\n",
        "+ To compare these Train MSEs, they are increasing along with Random_state increases.\n",
        "+ To compare these Validation MSEs, it varies,increasing like up and down along with Random_state increases.\n",
        "+ To compare these Test MSEs, it varies, decreasing like up and down along with Random_state increases.\n",
        "+ \n",
        "+ If we compare, previous results of CV and these, train and test were smaller than these scores, meanwhile Validation score was 33 500+-.\n",
        "+ MSE metric for Train (24854.83) and Test data(21133.5) is smaller for 10.000 than for 5-FOLD CV and 10-FOLD CV(33768.6).\n",
        "+ 5-FOLD CV(33499) and 10-FOLD CV(33768.6) are very close to each other, both of them have about 33.500+ errors.\n",
        "+ To summarise, it does not afect so much, whether we split into 5 or 10, scores will stay same.\n",
        "+ Validation set MSE will always be different,it can be larger or smaller than both Train and test set scores.\n",
        "**_____________________________________________________________________________________________________________________________________________________________________________________________________________________________________**"
      ],
      "id": "dkIu0599F3S3"
    },
    {
      "cell_type": "markdown",
      "metadata": {
        "id": "M0ezgY9nF3S3"
      },
      "source": [
        "## Q2 (20%)\n",
        "Use boston.csv dataset. Do the following tasks: \n",
        "1. Split your dataset to train and test sets (20% for testing) with random state equal to 2021. Imagine that you can use test set only for evaluation at the end.\n",
        "\n",
        "2. Your task is to predict target variable - **medv**.\n",
        "\n",
        "3. Use Ridge regression with alpha (penalty term) varying from 0 to some large value of alpha, at which all coefficients take value of 0. Using Cross-Validation select the most optimal value of alpha. \n",
        "\n",
        "4. For the selected value of alpha train your model on the training set (80%). And then evaluate on test set (20%). \n",
        "\n",
        "5. Show the coefficients of the final model.\n",
        "\n",
        "*Note: You should use regular Ridge model from sklearn (not RidgeCV) and apply CV on it.*"
      ],
      "id": "M0ezgY9nF3S3"
    },
    {
      "cell_type": "code",
      "execution_count": null,
      "metadata": {
        "id": "0vgIcsuyF3S4",
        "outputId": "961fd5ad-aa67-4ea6-80ac-9d9a8f80937e"
      },
      "outputs": [
        {
          "data": {
            "text/html": [
              "<div>\n",
              "<style scoped>\n",
              "    .dataframe tbody tr th:only-of-type {\n",
              "        vertical-align: middle;\n",
              "    }\n",
              "\n",
              "    .dataframe tbody tr th {\n",
              "        vertical-align: top;\n",
              "    }\n",
              "\n",
              "    .dataframe thead th {\n",
              "        text-align: right;\n",
              "    }\n",
              "</style>\n",
              "<table border=\"1\" class=\"dataframe\">\n",
              "  <thead>\n",
              "    <tr style=\"text-align: right;\">\n",
              "      <th></th>\n",
              "      <th>crim</th>\n",
              "      <th>zn</th>\n",
              "      <th>indus</th>\n",
              "      <th>chas</th>\n",
              "      <th>nox</th>\n",
              "      <th>rm</th>\n",
              "      <th>age</th>\n",
              "      <th>dis</th>\n",
              "      <th>rad</th>\n",
              "      <th>tax</th>\n",
              "      <th>ptratio</th>\n",
              "      <th>black</th>\n",
              "      <th>lstat</th>\n",
              "      <th>medv</th>\n",
              "    </tr>\n",
              "  </thead>\n",
              "  <tbody>\n",
              "    <tr>\n",
              "      <th>0</th>\n",
              "      <td>0.00632</td>\n",
              "      <td>18.0</td>\n",
              "      <td>2.31</td>\n",
              "      <td>0</td>\n",
              "      <td>0.538</td>\n",
              "      <td>6.575</td>\n",
              "      <td>65.2</td>\n",
              "      <td>4.0900</td>\n",
              "      <td>1</td>\n",
              "      <td>296</td>\n",
              "      <td>15.3</td>\n",
              "      <td>396.90</td>\n",
              "      <td>4.98</td>\n",
              "      <td>24.0</td>\n",
              "    </tr>\n",
              "    <tr>\n",
              "      <th>1</th>\n",
              "      <td>0.02731</td>\n",
              "      <td>0.0</td>\n",
              "      <td>7.07</td>\n",
              "      <td>0</td>\n",
              "      <td>0.469</td>\n",
              "      <td>6.421</td>\n",
              "      <td>78.9</td>\n",
              "      <td>4.9671</td>\n",
              "      <td>2</td>\n",
              "      <td>242</td>\n",
              "      <td>17.8</td>\n",
              "      <td>396.90</td>\n",
              "      <td>9.14</td>\n",
              "      <td>21.6</td>\n",
              "    </tr>\n",
              "    <tr>\n",
              "      <th>2</th>\n",
              "      <td>0.02729</td>\n",
              "      <td>0.0</td>\n",
              "      <td>7.07</td>\n",
              "      <td>0</td>\n",
              "      <td>0.469</td>\n",
              "      <td>7.185</td>\n",
              "      <td>61.1</td>\n",
              "      <td>4.9671</td>\n",
              "      <td>2</td>\n",
              "      <td>242</td>\n",
              "      <td>17.8</td>\n",
              "      <td>392.83</td>\n",
              "      <td>4.03</td>\n",
              "      <td>34.7</td>\n",
              "    </tr>\n",
              "    <tr>\n",
              "      <th>3</th>\n",
              "      <td>0.03237</td>\n",
              "      <td>0.0</td>\n",
              "      <td>2.18</td>\n",
              "      <td>0</td>\n",
              "      <td>0.458</td>\n",
              "      <td>6.998</td>\n",
              "      <td>45.8</td>\n",
              "      <td>6.0622</td>\n",
              "      <td>3</td>\n",
              "      <td>222</td>\n",
              "      <td>18.7</td>\n",
              "      <td>394.63</td>\n",
              "      <td>2.94</td>\n",
              "      <td>33.4</td>\n",
              "    </tr>\n",
              "    <tr>\n",
              "      <th>4</th>\n",
              "      <td>0.06905</td>\n",
              "      <td>0.0</td>\n",
              "      <td>2.18</td>\n",
              "      <td>0</td>\n",
              "      <td>0.458</td>\n",
              "      <td>7.147</td>\n",
              "      <td>54.2</td>\n",
              "      <td>6.0622</td>\n",
              "      <td>3</td>\n",
              "      <td>222</td>\n",
              "      <td>18.7</td>\n",
              "      <td>396.90</td>\n",
              "      <td>5.33</td>\n",
              "      <td>36.2</td>\n",
              "    </tr>\n",
              "  </tbody>\n",
              "</table>\n",
              "</div>"
            ],
            "text/plain": [
              "      crim    zn  indus  chas    nox     rm   age     dis  rad  tax  ptratio  \\\n",
              "0  0.00632  18.0   2.31     0  0.538  6.575  65.2  4.0900    1  296     15.3   \n",
              "1  0.02731   0.0   7.07     0  0.469  6.421  78.9  4.9671    2  242     17.8   \n",
              "2  0.02729   0.0   7.07     0  0.469  7.185  61.1  4.9671    2  242     17.8   \n",
              "3  0.03237   0.0   2.18     0  0.458  6.998  45.8  6.0622    3  222     18.7   \n",
              "4  0.06905   0.0   2.18     0  0.458  7.147  54.2  6.0622    3  222     18.7   \n",
              "\n",
              "    black  lstat  medv  \n",
              "0  396.90   4.98  24.0  \n",
              "1  396.90   9.14  21.6  \n",
              "2  392.83   4.03  34.7  \n",
              "3  394.63   2.94  33.4  \n",
              "4  396.90   5.33  36.2  "
            ]
          },
          "execution_count": 22,
          "metadata": {},
          "output_type": "execute_result"
        }
      ],
      "source": [
        "df2 = pd.read_csv('data/boston.csv')\n",
        "df2.head()"
      ],
      "id": "0vgIcsuyF3S4"
    },
    {
      "cell_type": "code",
      "execution_count": null,
      "metadata": {
        "id": "fx16vd76F3S4",
        "outputId": "1ba62429-23fd-45c0-b863-1afc32960fc4"
      },
      "outputs": [
        {
          "name": "stdout",
          "output_type": "stream",
          "text": [
            "<class 'pandas.core.frame.DataFrame'>\n",
            "RangeIndex: 506 entries, 0 to 505\n",
            "Data columns (total 14 columns):\n",
            " #   Column   Non-Null Count  Dtype  \n",
            "---  ------   --------------  -----  \n",
            " 0   crim     506 non-null    float64\n",
            " 1   zn       506 non-null    float64\n",
            " 2   indus    506 non-null    float64\n",
            " 3   chas     506 non-null    int64  \n",
            " 4   nox      506 non-null    float64\n",
            " 5   rm       506 non-null    float64\n",
            " 6   age      506 non-null    float64\n",
            " 7   dis      506 non-null    float64\n",
            " 8   rad      506 non-null    int64  \n",
            " 9   tax      506 non-null    int64  \n",
            " 10  ptratio  506 non-null    float64\n",
            " 11  black    506 non-null    float64\n",
            " 12  lstat    506 non-null    float64\n",
            " 13  medv     506 non-null    float64\n",
            "dtypes: float64(11), int64(3)\n",
            "memory usage: 55.5 KB\n"
          ]
        }
      ],
      "source": [
        "df2.info()"
      ],
      "id": "fx16vd76F3S4"
    },
    {
      "cell_type": "code",
      "execution_count": null,
      "metadata": {
        "id": "-Euc5CGyF3S5",
        "outputId": "867cffd1-fc29-4726-acdc-331306341385"
      },
      "outputs": [
        {
          "data": {
            "text/html": [
              "<div>\n",
              "<style scoped>\n",
              "    .dataframe tbody tr th:only-of-type {\n",
              "        vertical-align: middle;\n",
              "    }\n",
              "\n",
              "    .dataframe tbody tr th {\n",
              "        vertical-align: top;\n",
              "    }\n",
              "\n",
              "    .dataframe thead th {\n",
              "        text-align: right;\n",
              "    }\n",
              "</style>\n",
              "<table border=\"1\" class=\"dataframe\">\n",
              "  <thead>\n",
              "    <tr style=\"text-align: right;\">\n",
              "      <th></th>\n",
              "      <th>crim</th>\n",
              "      <th>zn</th>\n",
              "      <th>indus</th>\n",
              "      <th>chas</th>\n",
              "      <th>nox</th>\n",
              "      <th>rm</th>\n",
              "      <th>age</th>\n",
              "      <th>dis</th>\n",
              "      <th>rad</th>\n",
              "      <th>tax</th>\n",
              "      <th>ptratio</th>\n",
              "      <th>black</th>\n",
              "      <th>lstat</th>\n",
              "      <th>medv</th>\n",
              "    </tr>\n",
              "  </thead>\n",
              "  <tbody>\n",
              "    <tr>\n",
              "      <th>count</th>\n",
              "      <td>506.000000</td>\n",
              "      <td>506.000000</td>\n",
              "      <td>506.000000</td>\n",
              "      <td>506.000000</td>\n",
              "      <td>506.000000</td>\n",
              "      <td>506.000000</td>\n",
              "      <td>506.000000</td>\n",
              "      <td>506.000000</td>\n",
              "      <td>506.000000</td>\n",
              "      <td>506.000000</td>\n",
              "      <td>506.000000</td>\n",
              "      <td>506.000000</td>\n",
              "      <td>506.000000</td>\n",
              "      <td>506.000000</td>\n",
              "    </tr>\n",
              "    <tr>\n",
              "      <th>mean</th>\n",
              "      <td>3.613524</td>\n",
              "      <td>11.363636</td>\n",
              "      <td>11.136779</td>\n",
              "      <td>0.069170</td>\n",
              "      <td>0.554695</td>\n",
              "      <td>6.284634</td>\n",
              "      <td>68.574901</td>\n",
              "      <td>3.795043</td>\n",
              "      <td>9.549407</td>\n",
              "      <td>408.237154</td>\n",
              "      <td>18.455534</td>\n",
              "      <td>356.674032</td>\n",
              "      <td>12.653063</td>\n",
              "      <td>22.532806</td>\n",
              "    </tr>\n",
              "    <tr>\n",
              "      <th>std</th>\n",
              "      <td>8.601545</td>\n",
              "      <td>23.322453</td>\n",
              "      <td>6.860353</td>\n",
              "      <td>0.253994</td>\n",
              "      <td>0.115878</td>\n",
              "      <td>0.702617</td>\n",
              "      <td>28.148861</td>\n",
              "      <td>2.105710</td>\n",
              "      <td>8.707259</td>\n",
              "      <td>168.537116</td>\n",
              "      <td>2.164946</td>\n",
              "      <td>91.294864</td>\n",
              "      <td>7.141062</td>\n",
              "      <td>9.197104</td>\n",
              "    </tr>\n",
              "    <tr>\n",
              "      <th>min</th>\n",
              "      <td>0.006320</td>\n",
              "      <td>0.000000</td>\n",
              "      <td>0.460000</td>\n",
              "      <td>0.000000</td>\n",
              "      <td>0.385000</td>\n",
              "      <td>3.561000</td>\n",
              "      <td>2.900000</td>\n",
              "      <td>1.129600</td>\n",
              "      <td>1.000000</td>\n",
              "      <td>187.000000</td>\n",
              "      <td>12.600000</td>\n",
              "      <td>0.320000</td>\n",
              "      <td>1.730000</td>\n",
              "      <td>5.000000</td>\n",
              "    </tr>\n",
              "    <tr>\n",
              "      <th>25%</th>\n",
              "      <td>0.082045</td>\n",
              "      <td>0.000000</td>\n",
              "      <td>5.190000</td>\n",
              "      <td>0.000000</td>\n",
              "      <td>0.449000</td>\n",
              "      <td>5.885500</td>\n",
              "      <td>45.025000</td>\n",
              "      <td>2.100175</td>\n",
              "      <td>4.000000</td>\n",
              "      <td>279.000000</td>\n",
              "      <td>17.400000</td>\n",
              "      <td>375.377500</td>\n",
              "      <td>6.950000</td>\n",
              "      <td>17.025000</td>\n",
              "    </tr>\n",
              "    <tr>\n",
              "      <th>50%</th>\n",
              "      <td>0.256510</td>\n",
              "      <td>0.000000</td>\n",
              "      <td>9.690000</td>\n",
              "      <td>0.000000</td>\n",
              "      <td>0.538000</td>\n",
              "      <td>6.208500</td>\n",
              "      <td>77.500000</td>\n",
              "      <td>3.207450</td>\n",
              "      <td>5.000000</td>\n",
              "      <td>330.000000</td>\n",
              "      <td>19.050000</td>\n",
              "      <td>391.440000</td>\n",
              "      <td>11.360000</td>\n",
              "      <td>21.200000</td>\n",
              "    </tr>\n",
              "    <tr>\n",
              "      <th>75%</th>\n",
              "      <td>3.677083</td>\n",
              "      <td>12.500000</td>\n",
              "      <td>18.100000</td>\n",
              "      <td>0.000000</td>\n",
              "      <td>0.624000</td>\n",
              "      <td>6.623500</td>\n",
              "      <td>94.075000</td>\n",
              "      <td>5.188425</td>\n",
              "      <td>24.000000</td>\n",
              "      <td>666.000000</td>\n",
              "      <td>20.200000</td>\n",
              "      <td>396.225000</td>\n",
              "      <td>16.955000</td>\n",
              "      <td>25.000000</td>\n",
              "    </tr>\n",
              "    <tr>\n",
              "      <th>max</th>\n",
              "      <td>88.976200</td>\n",
              "      <td>100.000000</td>\n",
              "      <td>27.740000</td>\n",
              "      <td>1.000000</td>\n",
              "      <td>0.871000</td>\n",
              "      <td>8.780000</td>\n",
              "      <td>100.000000</td>\n",
              "      <td>12.126500</td>\n",
              "      <td>24.000000</td>\n",
              "      <td>711.000000</td>\n",
              "      <td>22.000000</td>\n",
              "      <td>396.900000</td>\n",
              "      <td>37.970000</td>\n",
              "      <td>50.000000</td>\n",
              "    </tr>\n",
              "  </tbody>\n",
              "</table>\n",
              "</div>"
            ],
            "text/plain": [
              "             crim          zn       indus        chas         nox          rm  \\\n",
              "count  506.000000  506.000000  506.000000  506.000000  506.000000  506.000000   \n",
              "mean     3.613524   11.363636   11.136779    0.069170    0.554695    6.284634   \n",
              "std      8.601545   23.322453    6.860353    0.253994    0.115878    0.702617   \n",
              "min      0.006320    0.000000    0.460000    0.000000    0.385000    3.561000   \n",
              "25%      0.082045    0.000000    5.190000    0.000000    0.449000    5.885500   \n",
              "50%      0.256510    0.000000    9.690000    0.000000    0.538000    6.208500   \n",
              "75%      3.677083   12.500000   18.100000    0.000000    0.624000    6.623500   \n",
              "max     88.976200  100.000000   27.740000    1.000000    0.871000    8.780000   \n",
              "\n",
              "              age         dis         rad         tax     ptratio       black  \\\n",
              "count  506.000000  506.000000  506.000000  506.000000  506.000000  506.000000   \n",
              "mean    68.574901    3.795043    9.549407  408.237154   18.455534  356.674032   \n",
              "std     28.148861    2.105710    8.707259  168.537116    2.164946   91.294864   \n",
              "min      2.900000    1.129600    1.000000  187.000000   12.600000    0.320000   \n",
              "25%     45.025000    2.100175    4.000000  279.000000   17.400000  375.377500   \n",
              "50%     77.500000    3.207450    5.000000  330.000000   19.050000  391.440000   \n",
              "75%     94.075000    5.188425   24.000000  666.000000   20.200000  396.225000   \n",
              "max    100.000000   12.126500   24.000000  711.000000   22.000000  396.900000   \n",
              "\n",
              "            lstat        medv  \n",
              "count  506.000000  506.000000  \n",
              "mean    12.653063   22.532806  \n",
              "std      7.141062    9.197104  \n",
              "min      1.730000    5.000000  \n",
              "25%      6.950000   17.025000  \n",
              "50%     11.360000   21.200000  \n",
              "75%     16.955000   25.000000  \n",
              "max     37.970000   50.000000  "
            ]
          },
          "execution_count": 24,
          "metadata": {},
          "output_type": "execute_result"
        }
      ],
      "source": [
        "df2.describe()"
      ],
      "id": "-Euc5CGyF3S5"
    },
    {
      "cell_type": "code",
      "execution_count": null,
      "metadata": {
        "id": "KAHRos-ZF3S5",
        "outputId": "71159f1a-edcf-4350-8a63-d58f56dfd22b"
      },
      "outputs": [
        {
          "name": "stdout",
          "output_type": "stream",
          "text": [
            "(404, 13)\n",
            "(102, 13)\n"
          ]
        }
      ],
      "source": [
        "# STEP-1,2:\n",
        "X = df2.drop(\"medv\", axis = 1) # All columns except this column.\n",
        "y = df2[\"medv\"] # Only this column\n",
        "\n",
        "X_train, X_test, y_train, y_test = train_test_split(X, y, test_size=0.2, random_state=2021)\n",
        "\n",
        "print(X_train.shape)\n",
        "print(X_test.shape)"
      ],
      "id": "KAHRos-ZF3S5"
    },
    {
      "cell_type": "code",
      "execution_count": null,
      "metadata": {
        "id": "EIN2_AJ7F3S6"
      },
      "outputs": [],
      "source": [
        "# STEP-3:\n",
        "# Standartisation:\n",
        "scalerr = preprocessing.StandardScaler().fit(X_train)\n",
        "X_train = scalerr.transform(X_train)\n",
        "X_test = scalerr.transform(X_test)"
      ],
      "id": "EIN2_AJ7F3S6"
    },
    {
      "cell_type": "code",
      "execution_count": null,
      "metadata": {
        "id": "xYL1sTzqF3S6",
        "outputId": "45e1758b-533d-4fc6-98e1-4ff5fcac982a"
      },
      "outputs": [
        {
          "name": "stdout",
          "output_type": "stream",
          "text": [
            "Alpha: 0\t  MSE_score: 23.52617792381188\t  \n",
            "Alpha: 1e-08\t  MSE_score: 23.526177923555277\t  \n",
            "Alpha: 0.0001\t  MSE_score: 23.526175357894722\t  \n",
            "Alpha: 0.01\t  MSE_score: 23.525921791490894\t  \n",
            "Alpha: 1.0\t  MSE_score: 23.504839951843085\t  \n",
            "Alpha: 5.0\t  MSE_score: 23.482114571364164\t  \n",
            "Alpha: 10\t  MSE_score: 23.5325099188337\t  \n",
            "Alpha: 100\t  MSE_score: 26.171031426079452\t  \n",
            "Alpha: 1000\t  MSE_score: 45.94956677886763\t  \n"
          ]
        }
      ],
      "source": [
        "from numpy import absolute\n",
        "# creating Ridge and applying CV on it:\n",
        "for cur_alpha in [0,1e-8, 1e-4, 1e-2, 1.0, 5.0, 10, 100, 1000]:\n",
        "    lr_object =  Ridge(alpha=cur_alpha)\n",
        "    scores = cross_val_score(lr_object, X_train, y_train, scoring='neg_mean_squared_error')\n",
        "    print(\"Alpha: {0}\\t  MSE_score: {1}\\t  \".format(cur_alpha, absolute(np.mean(scores))))"
      ],
      "id": "xYL1sTzqF3S6"
    },
    {
      "cell_type": "code",
      "execution_count": null,
      "metadata": {
        "id": "gHyf_6G0F3S7",
        "outputId": "7ebca6d6-86dc-4ca6-dee1-cab91ce2ae6b"
      },
      "outputs": [
        {
          "data": {
            "text/plain": [
              "62.7521807735111"
            ]
          },
          "execution_count": 28,
          "metadata": {},
          "output_type": "execute_result"
        }
      ],
      "source": [
        "# Let's also check very lARGE VALUE IS -> Infinity is approx= 10^308.9\n",
        "ridge2 = Ridge(alpha=10^308,normalize = True)\n",
        "ridge2.fit(X_train, y_train)\n",
        "mean_squared_error(y_test, ridge2.predict(X_test))"
      ],
      "id": "gHyf_6G0F3S7"
    },
    {
      "cell_type": "code",
      "execution_count": null,
      "metadata": {
        "id": "ERpxjGgcF3S7",
        "outputId": "e6cb5532-9a20-45a2-9969-3dd16fd7f4f1"
      },
      "outputs": [
        {
          "data": {
            "text/plain": [
              "crim      -0.011293\n",
              "zn         0.010907\n",
              "indus     -0.014140\n",
              "chas       0.006518\n",
              "nox       -0.012617\n",
              "rm         0.020944\n",
              "age       -0.011019\n",
              "dis        0.007234\n",
              "rad       -0.010610\n",
              "tax       -0.013567\n",
              "ptratio   -0.014254\n",
              "black      0.009482\n",
              "lstat     -0.021947\n",
              "dtype: float64"
            ]
          },
          "execution_count": 29,
          "metadata": {},
          "output_type": "execute_result"
        }
      ],
      "source": [
        "# We can check that, coefficients are close to ZERO:\n",
        "pd.Series(ridge2.coef_.flatten(), index=X.columns)"
      ],
      "id": "ERpxjGgcF3S7"
    },
    {
      "cell_type": "code",
      "execution_count": null,
      "metadata": {
        "id": "C36Lsd1QF3S7",
        "outputId": "6825eb5f-1a73-44b4-b520-6077c277fd43"
      },
      "outputs": [
        {
          "data": {
            "text/plain": [
              "{'alpha': 10, 'fit_intercept': True}"
            ]
          },
          "execution_count": 30,
          "metadata": {},
          "output_type": "execute_result"
        }
      ],
      "source": [
        "# STEP-4:\n",
        "# bY USING GridSearchCV, LET'S FIND optimal alpha:\n",
        "ridge_reg = Ridge()\n",
        "params_Ridge = {'alpha': [10^308, 10^10, 10 ,5, 1, 0.1, 0.01, 0.001, 0] , \"fit_intercept\": [True, False]}\n",
        "Ridge_GS = GridSearchCV(ridge_reg, param_grid=params_Ridge, n_jobs=-1)\n",
        "Ridge_GS.fit(X_train,y_train)\n",
        "Ridge_GS.best_params_"
      ],
      "id": "C36Lsd1QF3S7"
    },
    {
      "cell_type": "code",
      "execution_count": null,
      "metadata": {
        "id": "q7sFxFKJF3S8",
        "outputId": "a58da101-d735-41c7-ba1a-6ded397a1c80"
      },
      "outputs": [
        {
          "name": "stdout",
          "output_type": "stream",
          "text": [
            "MSE on test set> 22.741891551537456\n",
            "R^2 on test set> 0.6439698342538059\n"
          ]
        }
      ],
      "source": [
        "Ridgeregression = Ridge(random_state=2021, **Ridge_GS.best_params_)\n",
        "Ridgeregression.fit(X_train,y_train)\n",
        "# Evaluating on TEST set:\n",
        "ridge_mse = mean_squared_error(y_test, Ridgeregression.predict(X_test))\n",
        "ridge_r2 = r2_score(y_test, Ridgeregression.predict(X_test))\n",
        "print('MSE on test set>',ridge_mse)\n",
        "print('R^2 on test set>',ridge_r2)"
      ],
      "id": "q7sFxFKJF3S8"
    },
    {
      "cell_type": "code",
      "execution_count": null,
      "metadata": {
        "id": "eEy2ySH5F3S8",
        "outputId": "ba410a12-d2f8-4d4c-ace5-23793596b7db"
      },
      "outputs": [
        {
          "data": {
            "text/plain": [
              "crim      -0.981136\n",
              "zn         1.101586\n",
              "indus     -0.194378\n",
              "chas       0.886919\n",
              "nox       -1.852571\n",
              "rm         2.806761\n",
              "age        0.220966\n",
              "dis       -2.954984\n",
              "rad        2.329010\n",
              "tax       -1.442409\n",
              "ptratio   -1.834484\n",
              "black      0.882823\n",
              "lstat     -3.966553\n",
              "dtype: float64"
            ]
          },
          "execution_count": 32,
          "metadata": {},
          "output_type": "execute_result"
        }
      ],
      "source": [
        "# STEP-5:\n",
        "# Cooefficients of Final model:\n",
        "coef_r = Ridgeregression.coef_\n",
        "ridge__coef_df = pd.Series(coef_r.flatten(), index=X.columns)\n",
        "ridge__coef_df"
      ],
      "id": "eEy2ySH5F3S8"
    },
    {
      "cell_type": "code",
      "execution_count": null,
      "metadata": {
        "id": "Yi4SO5drF3TT",
        "outputId": "03b18da3-32c7-42aa-a226-93533901f7db"
      },
      "outputs": [
        {
          "name": "stdout",
          "output_type": "stream",
          "text": [
            "MSE on test set> 23.272493460899213\n",
            "R^2 on test set> 0.6356631247917893\n",
            "Best model RidgeCV:\n",
            "alpha = 0.001 \n",
            "coefs = [-1.06585695  1.25657127  0.01065574  0.86234798 -2.15042962  2.69827635\n",
            "  0.30448434 -3.2497352   2.97058502 -2.00240365 -1.92532269  0.8826456\n",
            " -4.14823328], \n"
          ]
        }
      ],
      "source": [
        "# Next is RidgeCV Model:\n",
        "ridgecv = RidgeCV(alphas=[ 1000000, 1000, 100, 10 ,5, 1, 0.1, 0.001, 0.0001], scoring='neg_mean_squared_error',normalize = True)\n",
        "ridgecv.fit(X_train, y_train)\n",
        "\n",
        "ridgecv_mse = mean_squared_error(y_test, ridgecv.predict(X_test))\n",
        "ridgecv_r2 = r2_score(y_test, ridgecv.predict(X_test))\n",
        "print('MSE on test set>',ridgecv_mse)\n",
        "print('R^2 on test set>',ridgecv_r2)\n",
        "\n",
        "alpha_rcv = ridgecv.alpha_\n",
        "coef_rcv = ridgecv.coef_\n",
        "print(\"Best model RidgeCV:\\nalpha = {} \\ncoefs = {}, \".format(alpha_rcv,coef_rcv ))"
      ],
      "id": "Yi4SO5drF3TT"
    },
    {
      "cell_type": "markdown",
      "metadata": {
        "id": "oNwk_hcJF3TT"
      },
      "source": [
        "+ + My findings about Ridge Regression:\n",
        "+ + MSE is small, which is  quite good -22.7 and R2_score is 64 %, medium score.\n",
        "+ + Most of the Coefficients are closer to 0."
      ],
      "id": "oNwk_hcJF3TT"
    },
    {
      "cell_type": "markdown",
      "metadata": {
        "id": "7b2uxZV4F3TU"
      },
      "source": [
        "## Q3 (20%)\n",
        "Again use boston.csv dataset. Do the following tasks: \n",
        "1. Split your dataset to train and test sets (20% for testing) with random state equal to 2021. Imagine that you can use test set only for evaluation at the end.\n",
        "\n",
        "2. Again, your task is to predict target variable - **medv**.\n",
        "\n",
        "3. Use Lasso regression with alpha (penalty term) varying from 0 to some large value of alpha, at which all coefficients take value of 0. Using Cross-Validation select the most optimal value of alpha. \n",
        "\n",
        "4. For the selected value of alpha train your model on the training set (80%). And then evaluate on test set (20%). \n",
        "\n",
        "5. Show the coefficients of the final model.\n",
        "\n",
        "6. Compare your results (i.e. test MSE) and coefficients with the Ridge Model.\n",
        "\n",
        "*Note: In this case you should use LassoCV (not Lasso and apply CV separately).*"
      ],
      "id": "7b2uxZV4F3TU"
    },
    {
      "cell_type": "code",
      "execution_count": null,
      "metadata": {
        "id": "SjcnJzRFF3TU",
        "outputId": "d4c84d4f-a352-4d3f-e431-add6350f2a85"
      },
      "outputs": [
        {
          "data": {
            "text/html": [
              "<div>\n",
              "<style scoped>\n",
              "    .dataframe tbody tr th:only-of-type {\n",
              "        vertical-align: middle;\n",
              "    }\n",
              "\n",
              "    .dataframe tbody tr th {\n",
              "        vertical-align: top;\n",
              "    }\n",
              "\n",
              "    .dataframe thead th {\n",
              "        text-align: right;\n",
              "    }\n",
              "</style>\n",
              "<table border=\"1\" class=\"dataframe\">\n",
              "  <thead>\n",
              "    <tr style=\"text-align: right;\">\n",
              "      <th></th>\n",
              "      <th>crim</th>\n",
              "      <th>zn</th>\n",
              "      <th>indus</th>\n",
              "      <th>chas</th>\n",
              "      <th>nox</th>\n",
              "      <th>rm</th>\n",
              "      <th>age</th>\n",
              "      <th>dis</th>\n",
              "      <th>rad</th>\n",
              "      <th>tax</th>\n",
              "      <th>ptratio</th>\n",
              "      <th>black</th>\n",
              "      <th>lstat</th>\n",
              "      <th>medv</th>\n",
              "    </tr>\n",
              "  </thead>\n",
              "  <tbody>\n",
              "    <tr>\n",
              "      <th>0</th>\n",
              "      <td>0.00632</td>\n",
              "      <td>18.0</td>\n",
              "      <td>2.31</td>\n",
              "      <td>0</td>\n",
              "      <td>0.538</td>\n",
              "      <td>6.575</td>\n",
              "      <td>65.2</td>\n",
              "      <td>4.0900</td>\n",
              "      <td>1</td>\n",
              "      <td>296</td>\n",
              "      <td>15.3</td>\n",
              "      <td>396.90</td>\n",
              "      <td>4.98</td>\n",
              "      <td>24.0</td>\n",
              "    </tr>\n",
              "    <tr>\n",
              "      <th>1</th>\n",
              "      <td>0.02731</td>\n",
              "      <td>0.0</td>\n",
              "      <td>7.07</td>\n",
              "      <td>0</td>\n",
              "      <td>0.469</td>\n",
              "      <td>6.421</td>\n",
              "      <td>78.9</td>\n",
              "      <td>4.9671</td>\n",
              "      <td>2</td>\n",
              "      <td>242</td>\n",
              "      <td>17.8</td>\n",
              "      <td>396.90</td>\n",
              "      <td>9.14</td>\n",
              "      <td>21.6</td>\n",
              "    </tr>\n",
              "    <tr>\n",
              "      <th>2</th>\n",
              "      <td>0.02729</td>\n",
              "      <td>0.0</td>\n",
              "      <td>7.07</td>\n",
              "      <td>0</td>\n",
              "      <td>0.469</td>\n",
              "      <td>7.185</td>\n",
              "      <td>61.1</td>\n",
              "      <td>4.9671</td>\n",
              "      <td>2</td>\n",
              "      <td>242</td>\n",
              "      <td>17.8</td>\n",
              "      <td>392.83</td>\n",
              "      <td>4.03</td>\n",
              "      <td>34.7</td>\n",
              "    </tr>\n",
              "    <tr>\n",
              "      <th>3</th>\n",
              "      <td>0.03237</td>\n",
              "      <td>0.0</td>\n",
              "      <td>2.18</td>\n",
              "      <td>0</td>\n",
              "      <td>0.458</td>\n",
              "      <td>6.998</td>\n",
              "      <td>45.8</td>\n",
              "      <td>6.0622</td>\n",
              "      <td>3</td>\n",
              "      <td>222</td>\n",
              "      <td>18.7</td>\n",
              "      <td>394.63</td>\n",
              "      <td>2.94</td>\n",
              "      <td>33.4</td>\n",
              "    </tr>\n",
              "    <tr>\n",
              "      <th>4</th>\n",
              "      <td>0.06905</td>\n",
              "      <td>0.0</td>\n",
              "      <td>2.18</td>\n",
              "      <td>0</td>\n",
              "      <td>0.458</td>\n",
              "      <td>7.147</td>\n",
              "      <td>54.2</td>\n",
              "      <td>6.0622</td>\n",
              "      <td>3</td>\n",
              "      <td>222</td>\n",
              "      <td>18.7</td>\n",
              "      <td>396.90</td>\n",
              "      <td>5.33</td>\n",
              "      <td>36.2</td>\n",
              "    </tr>\n",
              "  </tbody>\n",
              "</table>\n",
              "</div>"
            ],
            "text/plain": [
              "      crim    zn  indus  chas    nox     rm   age     dis  rad  tax  ptratio  \\\n",
              "0  0.00632  18.0   2.31     0  0.538  6.575  65.2  4.0900    1  296     15.3   \n",
              "1  0.02731   0.0   7.07     0  0.469  6.421  78.9  4.9671    2  242     17.8   \n",
              "2  0.02729   0.0   7.07     0  0.469  7.185  61.1  4.9671    2  242     17.8   \n",
              "3  0.03237   0.0   2.18     0  0.458  6.998  45.8  6.0622    3  222     18.7   \n",
              "4  0.06905   0.0   2.18     0  0.458  7.147  54.2  6.0622    3  222     18.7   \n",
              "\n",
              "    black  lstat  medv  \n",
              "0  396.90   4.98  24.0  \n",
              "1  396.90   9.14  21.6  \n",
              "2  392.83   4.03  34.7  \n",
              "3  394.63   2.94  33.4  \n",
              "4  396.90   5.33  36.2  "
            ]
          },
          "execution_count": 34,
          "metadata": {},
          "output_type": "execute_result"
        }
      ],
      "source": [
        "df3 = pd.read_csv('data/boston.csv')\n",
        "df3.head()"
      ],
      "id": "SjcnJzRFF3TU"
    },
    {
      "cell_type": "code",
      "execution_count": null,
      "metadata": {
        "id": "koa-SNqsF3TV",
        "outputId": "891ba55d-63f6-4f24-92e3-b80796c0ca97"
      },
      "outputs": [
        {
          "name": "stdout",
          "output_type": "stream",
          "text": [
            "(404, 13)\n",
            "(102, 13)\n"
          ]
        }
      ],
      "source": [
        "# STEP-1:\n",
        "X = df3.drop(\"medv\", axis = 1) # All columns except this column.\n",
        "y = df3[\"medv\"] # Only this column\n",
        "\n",
        "X_train, X_test, y_train, y_test = train_test_split(X, y, test_size=0.2, random_state=2021)\n",
        "\n",
        "print(X_train.shape)\n",
        "print(X_test.shape)"
      ],
      "id": "koa-SNqsF3TV"
    },
    {
      "cell_type": "code",
      "execution_count": null,
      "metadata": {
        "id": "jKJ49txHF3TV"
      },
      "outputs": [],
      "source": [
        "# STEP-3:\n",
        "# Standartisation:\n",
        "scalerr = preprocessing.StandardScaler().fit(X_train)\n",
        "X_train = scalerr.transform(X_train)\n",
        "X_test = scalerr.transform(X_test)"
      ],
      "id": "jKJ49txHF3TV"
    },
    {
      "cell_type": "code",
      "execution_count": null,
      "metadata": {
        "id": "SdNCARnUF3TW",
        "outputId": "e48feb45-5ab5-4bd7-af21-f25d67f35159"
      },
      "outputs": [
        {
          "name": "stdout",
          "output_type": "stream",
          "text": [
            "Alpha: 0\t  MSE_score: 23.526177923811883\t  \n",
            "Alpha: 1e-08\t  MSE_score: 23.52617791474861\t  \n",
            "Alpha: 0.0001\t  MSE_score: 23.526094946309428\t  \n",
            "Alpha: 0.01\t  MSE_score: 23.525467442995712\t  \n",
            "Alpha: 1.0\t  MSE_score: 30.578199468425005\t  \n",
            "Alpha: 5.0\t  MSE_score: 62.95127946939759\t  \n",
            "Alpha: 10\t  MSE_score: 90.24231532030356\t  \n",
            "Alpha: 100\t  MSE_score: 90.24231532030356\t  \n",
            "Alpha: 1000\t  MSE_score: 90.24231532030356\t  \n"
          ]
        }
      ],
      "source": [
        "# creating Lasso and applying CV on it:\n",
        "for cur_alpha in [0,1e-8, 1e-4, 1e-2, 1.0, 5.0, 10, 100, 1000]:\n",
        "    lr_object =  Lasso(alpha=cur_alpha)\n",
        "    scores = cross_val_score(lr_object, X_train, y_train, scoring='neg_mean_squared_error')\n",
        "    print(\"Alpha: {0}\\t  MSE_score: {1}\\t  \".format(cur_alpha, absolute(np.mean(scores))))"
      ],
      "id": "SdNCARnUF3TW"
    },
    {
      "cell_type": "code",
      "execution_count": null,
      "metadata": {
        "id": "Ow9pRWuiF3TW",
        "outputId": "0ad4b7d0-d4ed-4631-abc1-41a4124be190"
      },
      "outputs": [
        {
          "data": {
            "text/plain": [
              "63.88200110619682"
            ]
          },
          "execution_count": 38,
          "metadata": {},
          "output_type": "execute_result"
        }
      ],
      "source": [
        "# Let's also check very lARGE VALUE IS -> Infinity is approx= 10^308.9\n",
        "lasso2 = Lasso(alpha=10^308,normalize = True)\n",
        "lasso2.fit(X_train, y_train)\n",
        "mean_squared_error(y_test, lasso2.predict(X_test))"
      ],
      "id": "Ow9pRWuiF3TW"
    },
    {
      "cell_type": "code",
      "execution_count": null,
      "metadata": {
        "id": "FIMNqcCmF3TX",
        "outputId": "6baa81f2-ecba-444e-fe73-c53c0095eba1"
      },
      "outputs": [
        {
          "data": {
            "text/plain": [
              "crim      -0.0\n",
              "zn         0.0\n",
              "indus     -0.0\n",
              "chas       0.0\n",
              "nox       -0.0\n",
              "rm         0.0\n",
              "age       -0.0\n",
              "dis        0.0\n",
              "rad       -0.0\n",
              "tax       -0.0\n",
              "ptratio   -0.0\n",
              "black      0.0\n",
              "lstat     -0.0\n",
              "dtype: float64"
            ]
          },
          "execution_count": 39,
          "metadata": {},
          "output_type": "execute_result"
        }
      ],
      "source": [
        "# We can check that, coefficients are close to ZERO:\n",
        "pd.Series(lasso2.coef_.flatten(), index=X.columns)"
      ],
      "id": "FIMNqcCmF3TX"
    },
    {
      "cell_type": "code",
      "execution_count": null,
      "metadata": {
        "id": "GBH7kjfWF3TY",
        "outputId": "ea63dd0d-9ddb-4e2c-e74a-2567fec42161"
      },
      "outputs": [
        {
          "data": {
            "text/plain": [
              "{'alpha': 0.01, 'fit_intercept': True}"
            ]
          },
          "execution_count": 40,
          "metadata": {},
          "output_type": "execute_result"
        }
      ],
      "source": [
        "# STEP-4:\n",
        "# bY USING GridSearchCV, LET'S FIND optimal alpha:\n",
        "Lasso_regr = Lasso()\n",
        "params_lasso = {'alpha': [10^308, 10^10, 10 ,5, 1, 0.1, 0.01, 0.001, 0] , \"fit_intercept\": [True, False]}\n",
        "Lasso_GS = GridSearchCV(Lasso_regr, param_grid=params_lasso, n_jobs=-1)\n",
        "Lasso_GS.fit(X_train,y_train)\n",
        "Lasso_GS.best_params_"
      ],
      "id": "GBH7kjfWF3TY"
    },
    {
      "cell_type": "code",
      "execution_count": null,
      "metadata": {
        "id": "BMAOj3lMF3TY",
        "outputId": "e80b9fbf-dac9-4488-d839-349c6c8c86ed"
      },
      "outputs": [
        {
          "name": "stdout",
          "output_type": "stream",
          "text": [
            "MSE on test set> 23.16830458557309\n",
            "R^2 on test set> 0.6372942284520634\n"
          ]
        }
      ],
      "source": [
        "Lasso_regr = Lasso(random_state=2021, **Lasso_GS.best_params_)\n",
        "Lasso_regr.fit(X_train,y_train)\n",
        "# Evaluating on TEST set:\n",
        "lasso_mse = mean_squared_error(y_test, Lasso_regr.predict(X_test))\n",
        "lasso_r2 = r2_score(y_test, Lasso_regr.predict(X_test))\n",
        "print('MSE on test set>',lasso_mse)\n",
        "print('R^2 on test set>',lasso_r2)"
      ],
      "id": "BMAOj3lMF3TY"
    },
    {
      "cell_type": "code",
      "execution_count": null,
      "metadata": {
        "id": "euxghYoUF3TZ",
        "outputId": "8eb44d30-b060-434c-f1dd-8737e83340d2"
      },
      "outputs": [
        {
          "data": {
            "text/plain": [
              "crim      -1.041756\n",
              "zn         1.224921\n",
              "indus     -0.000000\n",
              "chas       0.857835\n",
              "nox       -2.099323\n",
              "rm         2.716735\n",
              "age        0.264834\n",
              "dis       -3.214033\n",
              "rad        2.862109\n",
              "tax       -1.915206\n",
              "ptratio   -1.910503\n",
              "black      0.876360\n",
              "lstat     -4.139578\n",
              "dtype: float64"
            ]
          },
          "execution_count": 42,
          "metadata": {},
          "output_type": "execute_result"
        }
      ],
      "source": [
        "# STEP-5:\n",
        "# Cooefficients of Final model:\n",
        "coef_l = Lasso_regr.coef_\n",
        "lasso__coef_df = pd.Series(coef_l.flatten(), index=X.columns)\n",
        "lasso__coef_df"
      ],
      "id": "euxghYoUF3TZ"
    },
    {
      "cell_type": "code",
      "execution_count": null,
      "metadata": {
        "id": "GjWXaBKOF3Ta",
        "outputId": "7720c06f-dcca-41ed-f9b4-e2dc6dfbd112"
      },
      "outputs": [
        {
          "name": "stdout",
          "output_type": "stream",
          "text": [
            "MSE on test set> 23.27757436986749\n",
            "R^2 on test set> 0.6355835818541221\n",
            "Best model LassoCV:\n",
            "alpha = 0.0001 \n",
            "coefs = [-1.06497282e+00  1.25588725e+00  3.66487683e-03  8.60956466e-01\n",
            " -2.14795915e+00  2.69651428e+00  2.99912345e-01 -3.25686040e+00\n",
            "  2.97198698e+00 -2.00182402e+00 -1.92449143e+00  8.81099172e-01\n",
            " -4.15219998e+00], \n"
          ]
        }
      ],
      "source": [
        "# Next is RidgeCV Model:\n",
        "lasso_cv = LassoCV(alphas=[ 1000000, 1000, 100, 10 ,5, 1, 0.1, 0.001, 0.0001], normalize = True)\n",
        "lasso_cv.fit(X_train, y_train)\n",
        "\n",
        "lasso_cv_mse = mean_squared_error(y_test, lasso_cv.predict(X_test))\n",
        "lasso_cv_r2 = r2_score(y_test, lasso_cv.predict(X_test))\n",
        "print('MSE on test set>',lasso_cv_mse)\n",
        "print('R^2 on test set>',lasso_cv_r2)\n",
        "\n",
        "alpha_lcv = lasso_cv.alpha_\n",
        "coef_lcv = lasso_cv.coef_\n",
        "print(\"Best model LassoCV:\\nalpha = {} \\ncoefs = {}, \".format(alpha_lcv,coef_lcv ))"
      ],
      "id": "GjWXaBKOF3Ta"
    },
    {
      "cell_type": "code",
      "execution_count": null,
      "metadata": {
        "id": "lkh1ol7EF3Tb",
        "outputId": "d4a8b3be-8106-4192-abff-3e3f7a929456"
      },
      "outputs": [
        {
          "data": {
            "text/html": [
              "<div>\n",
              "<style scoped>\n",
              "    .dataframe tbody tr th:only-of-type {\n",
              "        vertical-align: middle;\n",
              "    }\n",
              "\n",
              "    .dataframe tbody tr th {\n",
              "        vertical-align: top;\n",
              "    }\n",
              "\n",
              "    .dataframe thead th {\n",
              "        text-align: right;\n",
              "    }\n",
              "</style>\n",
              "<table border=\"1\" class=\"dataframe\">\n",
              "  <thead>\n",
              "    <tr style=\"text-align: right;\">\n",
              "      <th></th>\n",
              "      <th>Alpha</th>\n",
              "      <th>MSE</th>\n",
              "      <th>R^2_score</th>\n",
              "      <th>Coefficients</th>\n",
              "    </tr>\n",
              "  </thead>\n",
              "  <tbody>\n",
              "    <tr>\n",
              "      <th>Ridge</th>\n",
              "      <td>10</td>\n",
              "      <td>22.741892</td>\n",
              "      <td>0.643970</td>\n",
              "      <td>[-0.9811360770771834, 1.101586412236099, -0.19...</td>\n",
              "    </tr>\n",
              "    <tr>\n",
              "      <th>RidgeCV</th>\n",
              "      <td>0.001</td>\n",
              "      <td>23.272493</td>\n",
              "      <td>0.635663</td>\n",
              "      <td>[-1.0658569525766879, 1.256571270683953, 0.010...</td>\n",
              "    </tr>\n",
              "    <tr>\n",
              "      <th>Lasso</th>\n",
              "      <td>0.01</td>\n",
              "      <td>23.168305</td>\n",
              "      <td>0.637294</td>\n",
              "      <td>[-1.0417564984168137, 1.2249210883347812, -0.0...</td>\n",
              "    </tr>\n",
              "    <tr>\n",
              "      <th>LassoCV</th>\n",
              "      <td>0.0001</td>\n",
              "      <td>23.277574</td>\n",
              "      <td>0.635584</td>\n",
              "      <td>[-1.064972822839501, 1.2558872547993372, 0.003...</td>\n",
              "    </tr>\n",
              "  </tbody>\n",
              "</table>\n",
              "</div>"
            ],
            "text/plain": [
              "          Alpha        MSE  R^2_score  \\\n",
              "Ridge        10  22.741892   0.643970   \n",
              "RidgeCV   0.001  23.272493   0.635663   \n",
              "Lasso      0.01  23.168305   0.637294   \n",
              "LassoCV  0.0001  23.277574   0.635584   \n",
              "\n",
              "                                              Coefficients  \n",
              "Ridge    [-0.9811360770771834, 1.101586412236099, -0.19...  \n",
              "RidgeCV  [-1.0658569525766879, 1.256571270683953, 0.010...  \n",
              "Lasso    [-1.0417564984168137, 1.2249210883347812, -0.0...  \n",
              "LassoCV  [-1.064972822839501, 1.2558872547993372, 0.003...  "
            ]
          },
          "execution_count": 44,
          "metadata": {},
          "output_type": "execute_result"
        }
      ],
      "source": [
        "# STEP-:\n",
        "# collecting RESULTS into 1 Dataframe\n",
        "all_alph = ['10','0.001','0.01','0.0001']\n",
        "all_mses = [ridge_mse, ridgecv_mse, lasso_mse, lasso_cv_mse ]\n",
        "all_r2s =  [ridge_r2, ridgecv_r2, lasso_r2, lasso_cv_r2 ]\n",
        "all_coef = [coef_r, coef_rcv, coef_l, coef_lcv]\n",
        "#columns:\n",
        "columns_lr = {'Alpha': all_alph, 'MSE': all_mses, 'R^2_score': all_r2s, 'Coefficients': all_coef}\n",
        "\n",
        "models_lr = ['Ridge ','RidgeCV','Lasso ','LassoCV']\n",
        "result_lr = pd.DataFrame(data = columns_lr, index = models_lr)\n",
        "result_lr"
      ],
      "id": "lkh1ol7EF3Tb"
    },
    {
      "cell_type": "markdown",
      "metadata": {
        "id": "oWKtJXgHF3Tb"
      },
      "source": [
        "### My findings about Ridge, RidgeCV and Lasso, LassoCV Models:\n",
        "+ Firstly, About Both models, when I was experimenting with small Alpha=0, mse is small, but when Alpha is very large(10^308)-infinity, MSE is also getting larger, meanwhile Coefficients are close to Zero, or even all of them are 0.\n",
        "\n",
        "+ Secondly, I used GridSearch cross validation technique to find out the most Optimal and relevant Alpha for each model.And trained on them, to evaluate metrics MSE and R2_score.\n",
        "+ In Ridge Regression , the penalty was 10, MSE (22.7) is enough small, and R2_score (64 %) is quite good.\n",
        "+ In Lasso Regression , the penalty was 0.01, MSE(23.1) is enough small, and R2_score (64 %)  is same as in Ridge.\n",
        "+ \n",
        "+ In Ridge CV , the penalty was 0.001, MSE (23.2) is enough small, and R2_score (63 %) is quite good.\n",
        "+ In Lasso CV , the penalty was 0.0001, MSE(23.2) is enough small, and R2_score (63 %)  is same as in Ridgecv.\n",
        "+ \n",
        "+ As a result, we can see that despite the fact that alpha was different, the scores for with CV and without CV are **very similar to each other.**\n",
        "+ The coefficients varied from 0.0 till 4.0. But Lasso can show more absolute 0 coefficients(if we round them)\n",
        "+ \n",
        "+ I think, I should have more practice, and searching additional informaton,cause it is interesting how alpha works. "
      ],
      "id": "oWKtJXgHF3Tb"
    },
    {
      "cell_type": "markdown",
      "metadata": {
        "id": "Ky_fyN8qF3Tc"
      },
      "source": [
        "## Q4 (30%)\n",
        "Use Wage.csv dataset. Do the following tasks:\n",
        "1. Split your dataset to train and test sets (20% for testing) with random state equal to 2021. Imagine that you can use test set only for evaluation at the end.\n",
        "2. Perform some data preprocessing.\n",
        "3. Build Tree model to predict **wage** value. Set up parameters as you want or use default parameters. Evaluate the performance on test set.\n",
        "4. Do the same but with Bagging.\n",
        "5. Do the same but with Random Forest. \n",
        "6. Compare their resuts. Which model it is better to use. \n",
        "7. Now, for Random Forest model select the parameter that should be tuned and use CV to tune this parameter.\n",
        "8. After selecting the parameter, run the model again. Show it's performance on test set. "
      ],
      "id": "Ky_fyN8qF3Tc"
    },
    {
      "cell_type": "code",
      "execution_count": null,
      "metadata": {
        "id": "Lg4O9dTkF3Tc",
        "outputId": "18f4c029-9093-4d22-cd3c-e85c22ab785d"
      },
      "outputs": [
        {
          "data": {
            "text/html": [
              "<div>\n",
              "<style scoped>\n",
              "    .dataframe tbody tr th:only-of-type {\n",
              "        vertical-align: middle;\n",
              "    }\n",
              "\n",
              "    .dataframe tbody tr th {\n",
              "        vertical-align: top;\n",
              "    }\n",
              "\n",
              "    .dataframe thead th {\n",
              "        text-align: right;\n",
              "    }\n",
              "</style>\n",
              "<table border=\"1\" class=\"dataframe\">\n",
              "  <thead>\n",
              "    <tr style=\"text-align: right;\">\n",
              "      <th></th>\n",
              "      <th>Unnamed: 0</th>\n",
              "      <th>year</th>\n",
              "      <th>age</th>\n",
              "      <th>sex</th>\n",
              "      <th>maritl</th>\n",
              "      <th>race</th>\n",
              "      <th>education</th>\n",
              "      <th>region</th>\n",
              "      <th>jobclass</th>\n",
              "      <th>health</th>\n",
              "      <th>health_ins</th>\n",
              "      <th>logwage</th>\n",
              "      <th>wage</th>\n",
              "    </tr>\n",
              "  </thead>\n",
              "  <tbody>\n",
              "    <tr>\n",
              "      <th>0</th>\n",
              "      <td>231655</td>\n",
              "      <td>2006</td>\n",
              "      <td>18</td>\n",
              "      <td>1. Male</td>\n",
              "      <td>1. Never Married</td>\n",
              "      <td>1. White</td>\n",
              "      <td>1. &lt; HS Grad</td>\n",
              "      <td>2. Middle Atlantic</td>\n",
              "      <td>1. Industrial</td>\n",
              "      <td>1. &lt;=Good</td>\n",
              "      <td>2. No</td>\n",
              "      <td>4.318063</td>\n",
              "      <td>75.043154</td>\n",
              "    </tr>\n",
              "    <tr>\n",
              "      <th>1</th>\n",
              "      <td>86582</td>\n",
              "      <td>2004</td>\n",
              "      <td>24</td>\n",
              "      <td>1. Male</td>\n",
              "      <td>1. Never Married</td>\n",
              "      <td>1. White</td>\n",
              "      <td>4. College Grad</td>\n",
              "      <td>2. Middle Atlantic</td>\n",
              "      <td>2. Information</td>\n",
              "      <td>2. &gt;=Very Good</td>\n",
              "      <td>2. No</td>\n",
              "      <td>4.255273</td>\n",
              "      <td>70.476020</td>\n",
              "    </tr>\n",
              "    <tr>\n",
              "      <th>2</th>\n",
              "      <td>161300</td>\n",
              "      <td>2003</td>\n",
              "      <td>45</td>\n",
              "      <td>1. Male</td>\n",
              "      <td>2. Married</td>\n",
              "      <td>1. White</td>\n",
              "      <td>3. Some College</td>\n",
              "      <td>2. Middle Atlantic</td>\n",
              "      <td>1. Industrial</td>\n",
              "      <td>1. &lt;=Good</td>\n",
              "      <td>1. Yes</td>\n",
              "      <td>4.875061</td>\n",
              "      <td>130.982177</td>\n",
              "    </tr>\n",
              "    <tr>\n",
              "      <th>3</th>\n",
              "      <td>155159</td>\n",
              "      <td>2003</td>\n",
              "      <td>43</td>\n",
              "      <td>1. Male</td>\n",
              "      <td>2. Married</td>\n",
              "      <td>3. Asian</td>\n",
              "      <td>4. College Grad</td>\n",
              "      <td>2. Middle Atlantic</td>\n",
              "      <td>2. Information</td>\n",
              "      <td>2. &gt;=Very Good</td>\n",
              "      <td>1. Yes</td>\n",
              "      <td>5.041393</td>\n",
              "      <td>154.685293</td>\n",
              "    </tr>\n",
              "    <tr>\n",
              "      <th>4</th>\n",
              "      <td>11443</td>\n",
              "      <td>2005</td>\n",
              "      <td>50</td>\n",
              "      <td>1. Male</td>\n",
              "      <td>4. Divorced</td>\n",
              "      <td>1. White</td>\n",
              "      <td>2. HS Grad</td>\n",
              "      <td>2. Middle Atlantic</td>\n",
              "      <td>2. Information</td>\n",
              "      <td>1. &lt;=Good</td>\n",
              "      <td>1. Yes</td>\n",
              "      <td>4.318063</td>\n",
              "      <td>75.043154</td>\n",
              "    </tr>\n",
              "  </tbody>\n",
              "</table>\n",
              "</div>"
            ],
            "text/plain": [
              "   Unnamed: 0  year  age      sex            maritl      race  \\\n",
              "0      231655  2006   18  1. Male  1. Never Married  1. White   \n",
              "1       86582  2004   24  1. Male  1. Never Married  1. White   \n",
              "2      161300  2003   45  1. Male        2. Married  1. White   \n",
              "3      155159  2003   43  1. Male        2. Married  3. Asian   \n",
              "4       11443  2005   50  1. Male       4. Divorced  1. White   \n",
              "\n",
              "         education              region        jobclass          health  \\\n",
              "0     1. < HS Grad  2. Middle Atlantic   1. Industrial       1. <=Good   \n",
              "1  4. College Grad  2. Middle Atlantic  2. Information  2. >=Very Good   \n",
              "2  3. Some College  2. Middle Atlantic   1. Industrial       1. <=Good   \n",
              "3  4. College Grad  2. Middle Atlantic  2. Information  2. >=Very Good   \n",
              "4       2. HS Grad  2. Middle Atlantic  2. Information       1. <=Good   \n",
              "\n",
              "  health_ins   logwage        wage  \n",
              "0      2. No  4.318063   75.043154  \n",
              "1      2. No  4.255273   70.476020  \n",
              "2     1. Yes  4.875061  130.982177  \n",
              "3     1. Yes  5.041393  154.685293  \n",
              "4     1. Yes  4.318063   75.043154  "
            ]
          },
          "execution_count": 45,
          "metadata": {},
          "output_type": "execute_result"
        }
      ],
      "source": [
        "df4 = pd.read_csv('data/Wage.csv')\n",
        "df4.head()"
      ],
      "id": "Lg4O9dTkF3Tc"
    },
    {
      "cell_type": "code",
      "execution_count": null,
      "metadata": {
        "id": "dtl-trGiF3Td",
        "outputId": "9843f31c-6edd-42d1-9693-90e55afebf91"
      },
      "outputs": [
        {
          "name": "stdout",
          "output_type": "stream",
          "text": [
            "<class 'pandas.core.frame.DataFrame'>\n",
            "RangeIndex: 3000 entries, 0 to 2999\n",
            "Data columns (total 13 columns):\n",
            " #   Column      Non-Null Count  Dtype  \n",
            "---  ------      --------------  -----  \n",
            " 0   Unnamed: 0  3000 non-null   int64  \n",
            " 1   year        3000 non-null   int64  \n",
            " 2   age         3000 non-null   int64  \n",
            " 3   sex         3000 non-null   object \n",
            " 4   maritl      3000 non-null   object \n",
            " 5   race        3000 non-null   object \n",
            " 6   education   3000 non-null   object \n",
            " 7   region      3000 non-null   object \n",
            " 8   jobclass    3000 non-null   object \n",
            " 9   health      3000 non-null   object \n",
            " 10  health_ins  3000 non-null   object \n",
            " 11  logwage     3000 non-null   float64\n",
            " 12  wage        3000 non-null   float64\n",
            "dtypes: float64(2), int64(3), object(8)\n",
            "memory usage: 304.8+ KB\n"
          ]
        }
      ],
      "source": [
        "df4.info()"
      ],
      "id": "dtl-trGiF3Td"
    },
    {
      "cell_type": "code",
      "execution_count": null,
      "metadata": {
        "id": "QR3t3sPTF3Td"
      },
      "outputs": [],
      "source": [
        "# df4.describe(include='all')\n",
        "# df4 = df4.rename(columns={'Unnamed: 0':'Id'})\n",
        "df4 = df4.drop(['Unnamed: 0'], axis=1)"
      ],
      "id": "QR3t3sPTF3Td"
    },
    {
      "cell_type": "code",
      "execution_count": null,
      "metadata": {
        "id": "SuxGvBDkF3Td",
        "outputId": "34b11a75-eb92-49d3-b56a-0f0453465cc9"
      },
      "outputs": [
        {
          "data": {
            "text/html": [
              "<div>\n",
              "<style scoped>\n",
              "    .dataframe tbody tr th:only-of-type {\n",
              "        vertical-align: middle;\n",
              "    }\n",
              "\n",
              "    .dataframe tbody tr th {\n",
              "        vertical-align: top;\n",
              "    }\n",
              "\n",
              "    .dataframe thead th {\n",
              "        text-align: right;\n",
              "    }\n",
              "</style>\n",
              "<table border=\"1\" class=\"dataframe\">\n",
              "  <thead>\n",
              "    <tr style=\"text-align: right;\">\n",
              "      <th></th>\n",
              "      <th>year</th>\n",
              "      <th>age</th>\n",
              "      <th>sex</th>\n",
              "      <th>maritl</th>\n",
              "      <th>race</th>\n",
              "      <th>education</th>\n",
              "      <th>region</th>\n",
              "      <th>jobclass</th>\n",
              "      <th>health</th>\n",
              "      <th>health_ins</th>\n",
              "      <th>logwage</th>\n",
              "      <th>wage</th>\n",
              "    </tr>\n",
              "  </thead>\n",
              "  <tbody>\n",
              "    <tr>\n",
              "      <th>0</th>\n",
              "      <td>2006</td>\n",
              "      <td>18</td>\n",
              "      <td>0</td>\n",
              "      <td>0</td>\n",
              "      <td>0</td>\n",
              "      <td>0</td>\n",
              "      <td>0</td>\n",
              "      <td>0</td>\n",
              "      <td>0</td>\n",
              "      <td>1</td>\n",
              "      <td>4.318063</td>\n",
              "      <td>75.043154</td>\n",
              "    </tr>\n",
              "    <tr>\n",
              "      <th>1</th>\n",
              "      <td>2004</td>\n",
              "      <td>24</td>\n",
              "      <td>0</td>\n",
              "      <td>0</td>\n",
              "      <td>0</td>\n",
              "      <td>3</td>\n",
              "      <td>0</td>\n",
              "      <td>1</td>\n",
              "      <td>1</td>\n",
              "      <td>1</td>\n",
              "      <td>4.255273</td>\n",
              "      <td>70.476020</td>\n",
              "    </tr>\n",
              "    <tr>\n",
              "      <th>2</th>\n",
              "      <td>2003</td>\n",
              "      <td>45</td>\n",
              "      <td>0</td>\n",
              "      <td>1</td>\n",
              "      <td>0</td>\n",
              "      <td>2</td>\n",
              "      <td>0</td>\n",
              "      <td>0</td>\n",
              "      <td>0</td>\n",
              "      <td>0</td>\n",
              "      <td>4.875061</td>\n",
              "      <td>130.982177</td>\n",
              "    </tr>\n",
              "    <tr>\n",
              "      <th>3</th>\n",
              "      <td>2003</td>\n",
              "      <td>43</td>\n",
              "      <td>0</td>\n",
              "      <td>1</td>\n",
              "      <td>2</td>\n",
              "      <td>3</td>\n",
              "      <td>0</td>\n",
              "      <td>1</td>\n",
              "      <td>1</td>\n",
              "      <td>0</td>\n",
              "      <td>5.041393</td>\n",
              "      <td>154.685293</td>\n",
              "    </tr>\n",
              "    <tr>\n",
              "      <th>4</th>\n",
              "      <td>2005</td>\n",
              "      <td>50</td>\n",
              "      <td>0</td>\n",
              "      <td>3</td>\n",
              "      <td>0</td>\n",
              "      <td>1</td>\n",
              "      <td>0</td>\n",
              "      <td>1</td>\n",
              "      <td>0</td>\n",
              "      <td>0</td>\n",
              "      <td>4.318063</td>\n",
              "      <td>75.043154</td>\n",
              "    </tr>\n",
              "  </tbody>\n",
              "</table>\n",
              "</div>"
            ],
            "text/plain": [
              "   year  age  sex  maritl  race  education  region  jobclass  health  \\\n",
              "0  2006   18    0       0     0          0       0         0       0   \n",
              "1  2004   24    0       0     0          3       0         1       1   \n",
              "2  2003   45    0       1     0          2       0         0       0   \n",
              "3  2003   43    0       1     2          3       0         1       1   \n",
              "4  2005   50    0       3     0          1       0         1       0   \n",
              "\n",
              "   health_ins   logwage        wage  \n",
              "0           1  4.318063   75.043154  \n",
              "1           1  4.255273   70.476020  \n",
              "2           0  4.875061  130.982177  \n",
              "3           0  5.041393  154.685293  \n",
              "4           0  4.318063   75.043154  "
            ]
          },
          "execution_count": 48,
          "metadata": {},
          "output_type": "execute_result"
        }
      ],
      "source": [
        "# STEP-2. Preprocessing\n",
        "# ENCODING CATEGORICAL VALUES:\n",
        "label_en = LabelEncoder()\n",
        "\n",
        "df4['sex'] = label_en.fit_transform(df4['sex'].astype(str))\n",
        "df4['maritl'] = label_en.fit_transform(df4['maritl'].astype(str))\n",
        "df4['race'] = label_en.fit_transform(df4['race'].astype(str))\n",
        "df4['education'] = label_en.fit_transform(df4['education'].astype(str))\n",
        "df4['region'] = label_en.fit_transform(df4['region'].astype(str))\n",
        "df4['jobclass'] = label_en.fit_transform(df4['jobclass'].astype(str))\n",
        "df4['health'] = label_en.fit_transform(df4['health'].astype(str))\n",
        "df4['health_ins'] = label_en.fit_transform(df4['health_ins'].astype(str))\n",
        "\n",
        "df4.head()"
      ],
      "id": "SuxGvBDkF3Td"
    },
    {
      "cell_type": "markdown",
      "metadata": {
        "id": "Ae1-1lrWF3Te"
      },
      "source": [
        "**As we can see from here, 2 columns are have only 1 Unique Value, that's why I am dropping them**"
      ],
      "id": "Ae1-1lrWF3Te"
    },
    {
      "cell_type": "code",
      "execution_count": null,
      "metadata": {
        "id": "og0kRAlCF3Te"
      },
      "outputs": [],
      "source": [
        "df4 = df4.drop(['sex'], axis=1)\n",
        "df4 = df4.drop(['region'], axis=1)\n",
        "\n",
        "# dropping logwage, because it has high correlation-95 %\n",
        "df4 = df4.drop(['logwage'], axis=1)"
      ],
      "id": "og0kRAlCF3Te"
    },
    {
      "cell_type": "markdown",
      "metadata": {
        "id": "xIW8bhnQF3Tf"
      },
      "source": [
        "### ✤ In order to check and see, which columns have higher Correlation value with Our Target column:"
      ],
      "id": "xIW8bhnQF3Tf"
    },
    {
      "cell_type": "code",
      "execution_count": null,
      "metadata": {
        "id": "ql1_LF98F3Tf",
        "outputId": "d5e618c7-220a-4c4c-8398-d5b267429ca9"
      },
      "outputs": [
        {
          "data": {
            "text/html": [
              "<div>\n",
              "<style scoped>\n",
              "    .dataframe tbody tr th:only-of-type {\n",
              "        vertical-align: middle;\n",
              "    }\n",
              "\n",
              "    .dataframe tbody tr th {\n",
              "        vertical-align: top;\n",
              "    }\n",
              "\n",
              "    .dataframe thead th {\n",
              "        text-align: right;\n",
              "    }\n",
              "</style>\n",
              "<table border=\"1\" class=\"dataframe\">\n",
              "  <thead>\n",
              "    <tr style=\"text-align: right;\">\n",
              "      <th></th>\n",
              "      <th>Correlation</th>\n",
              "    </tr>\n",
              "  </thead>\n",
              "  <tbody>\n",
              "    <tr>\n",
              "      <th>wage</th>\n",
              "      <td>1.000000</td>\n",
              "    </tr>\n",
              "    <tr>\n",
              "      <th>education</th>\n",
              "      <td>0.475775</td>\n",
              "    </tr>\n",
              "    <tr>\n",
              "      <th>jobclass</th>\n",
              "      <td>0.206897</td>\n",
              "    </tr>\n",
              "    <tr>\n",
              "      <th>age</th>\n",
              "      <td>0.195637</td>\n",
              "    </tr>\n",
              "    <tr>\n",
              "      <th>health</th>\n",
              "      <td>0.152337</td>\n",
              "    </tr>\n",
              "    <tr>\n",
              "      <th>maritl</th>\n",
              "      <td>0.067360</td>\n",
              "    </tr>\n",
              "    <tr>\n",
              "      <th>year</th>\n",
              "      <td>0.065544</td>\n",
              "    </tr>\n",
              "    <tr>\n",
              "      <th>race</th>\n",
              "      <td>-0.026865</td>\n",
              "    </tr>\n",
              "    <tr>\n",
              "      <th>health_ins</th>\n",
              "      <td>-0.308310</td>\n",
              "    </tr>\n",
              "  </tbody>\n",
              "</table>\n",
              "</div>"
            ],
            "text/plain": [
              "            Correlation\n",
              "wage           1.000000\n",
              "education      0.475775\n",
              "jobclass       0.206897\n",
              "age            0.195637\n",
              "health         0.152337\n",
              "maritl         0.067360\n",
              "year           0.065544\n",
              "race          -0.026865\n",
              "health_ins    -0.308310"
            ]
          },
          "execution_count": 50,
          "metadata": {},
          "output_type": "execute_result"
        }
      ],
      "source": [
        "# convert series to dataframe so it can be sorted\n",
        "correlation = df4.corr()['wage']\n",
        "correlation_df = pd.DataFrame(correlation)\n",
        "# correct column label from Balance to correlation\n",
        "correlation_df.columns = [\"Correlation\"]\n",
        "# sort correlation\n",
        "corr_sorted = correlation_df.sort_values(by=['Correlation'], ascending=False)\n",
        "corr_sorted"
      ],
      "id": "ql1_LF98F3Tf"
    },
    {
      "cell_type": "code",
      "execution_count": null,
      "metadata": {
        "id": "5ezcZImyF3Tg",
        "outputId": "e8735a91-a4d1-456c-8cae-67e4055d3877"
      },
      "outputs": [
        {
          "name": "stdout",
          "output_type": "stream",
          "text": [
            "(2400, 3)\n",
            "(600, 3)\n"
          ]
        }
      ],
      "source": [
        "# STEP-1:\n",
        "X = df4[['education','jobclass','age']] # All columns except this column.\n",
        "y = df4[\"wage\"] # Only this column\n",
        "\n",
        "X_train, X_test, y_train, y_test = train_test_split(X, y, test_size=0.2, random_state=2021)\n",
        "\n",
        "print(X_train.shape)\n",
        "print(X_test.shape)"
      ],
      "id": "5ezcZImyF3Tg"
    },
    {
      "cell_type": "code",
      "execution_count": null,
      "metadata": {
        "id": "cxnlx8iZF3Tg"
      },
      "outputs": [],
      "source": [
        "# Standardizing data:\n",
        "sc = StandardScaler()\n",
        "\n",
        "X_train = sc.fit_transform(X_train)\n",
        "X_test = sc.transform(X_test)"
      ],
      "id": "cxnlx8iZF3Tg"
    },
    {
      "cell_type": "code",
      "execution_count": null,
      "metadata": {
        "id": "qxB8M5BTF3Tg",
        "outputId": "ce12b72c-e424-4ca2-b826-9a416ff6e923"
      },
      "outputs": [
        {
          "name": "stdout",
          "output_type": "stream",
          "text": [
            "MSE on test set> 1339.255\n",
            "R^2 on test set> 0.105\n"
          ]
        }
      ],
      "source": [
        "# STEP-3:\n",
        "df4_dec_tree = DecisionTreeRegressor()\n",
        "df4_dec_tree.fit(X_train, y_train)\n",
        "\n",
        "# Evaluating on Test set\n",
        "dt_pred_test1 = df4_dec_tree.predict(X_test)\n",
        "\n",
        "mse_decr = round(mean_squared_error(y_test,dt_pred_test1),3)\n",
        "r2_decr = round(r2_score(y_test,dt_pred_test1),3)\n",
        "print('MSE on test set>',mse_decr)\n",
        "print('R^2 on test set>',r2_decr)"
      ],
      "id": "qxB8M5BTF3Tg"
    },
    {
      "cell_type": "code",
      "execution_count": null,
      "metadata": {
        "id": "ytg0XnHpF3Th",
        "outputId": "b45b4336-7675-49ab-943a-7c1fb06e50af"
      },
      "outputs": [
        {
          "name": "stdout",
          "output_type": "stream",
          "text": [
            "MSE on test set> 1318.199\n",
            "R^2 on test set> 0.119\n"
          ]
        }
      ],
      "source": [
        "# STEP-4:\n",
        "df4_bagg = BaggingRegressor()\n",
        "df4_bagg.fit(X_train, y_train)\n",
        "\n",
        "# Evaluating on Test set\n",
        "dt_pred_test2 = df4_bagg.predict(X_test)\n",
        "\n",
        "mse_bagr = round(mean_squared_error(y_test,dt_pred_test2),3)\n",
        "r2_bagr = round(r2_score(y_test,dt_pred_test2),3)\n",
        "print('MSE on test set>',mse_bagr)\n",
        "print('R^2 on test set>',r2_bagr)"
      ],
      "id": "ytg0XnHpF3Th"
    },
    {
      "cell_type": "code",
      "execution_count": null,
      "metadata": {
        "id": "bYruwPhxF3Th",
        "outputId": "cf486e4f-30c5-442a-d45b-5d6f170f818f"
      },
      "outputs": [
        {
          "name": "stdout",
          "output_type": "stream",
          "text": [
            "MSE on test set> 1275.81\n",
            "R^2 on test set> 0.148\n"
          ]
        }
      ],
      "source": [
        "# STEP-5:\n",
        "df4_rand_for = RandomForestRegressor()\n",
        "df4_rand_for.fit(X_train, y_train)\n",
        "\n",
        "# Evaluating on Test set\n",
        "dt_pred_test3 = df4_rand_for.predict(X_test)\n",
        "\n",
        "mse_rfr = round(mean_squared_error(y_test,dt_pred_test3),3)\n",
        "r2_rfr = round(r2_score(y_test,dt_pred_test3),3)\n",
        "print('MSE on test set>',mse_rfr)\n",
        "print('R^2 on test set>',r2_rfr)"
      ],
      "id": "bYruwPhxF3Th"
    },
    {
      "cell_type": "code",
      "execution_count": null,
      "metadata": {
        "id": "79aIK3-zF3Ti",
        "outputId": "f8c85cb4-5ca1-490b-c747-536b03e9e708"
      },
      "outputs": [
        {
          "data": {
            "text/html": [
              "<div>\n",
              "<style scoped>\n",
              "    .dataframe tbody tr th:only-of-type {\n",
              "        vertical-align: middle;\n",
              "    }\n",
              "\n",
              "    .dataframe tbody tr th {\n",
              "        vertical-align: top;\n",
              "    }\n",
              "\n",
              "    .dataframe thead th {\n",
              "        text-align: right;\n",
              "    }\n",
              "</style>\n",
              "<table border=\"1\" class=\"dataframe\">\n",
              "  <thead>\n",
              "    <tr style=\"text-align: right;\">\n",
              "      <th></th>\n",
              "      <th>MSE</th>\n",
              "      <th>R^2_score</th>\n",
              "    </tr>\n",
              "  </thead>\n",
              "  <tbody>\n",
              "    <tr>\n",
              "      <th>Decision Tree Regressor</th>\n",
              "      <td>1339.255</td>\n",
              "      <td>0.105</td>\n",
              "    </tr>\n",
              "    <tr>\n",
              "      <th>Bagging Regressor</th>\n",
              "      <td>1318.199</td>\n",
              "      <td>0.119</td>\n",
              "    </tr>\n",
              "    <tr>\n",
              "      <th>Random Forest Regressor</th>\n",
              "      <td>1275.810</td>\n",
              "      <td>0.148</td>\n",
              "    </tr>\n",
              "  </tbody>\n",
              "</table>\n",
              "</div>"
            ],
            "text/plain": [
              "                              MSE  R^2_score\n",
              "Decision Tree Regressor  1339.255      0.105\n",
              "Bagging Regressor        1318.199      0.119\n",
              "Random Forest Regressor  1275.810      0.148"
            ]
          },
          "execution_count": 56,
          "metadata": {},
          "output_type": "execute_result"
        }
      ],
      "source": [
        "# STEP-6:\n",
        "# collecting into 1 Dataframe\n",
        "all_mse = [mse_decr,mse_bagr,mse_rfr]\n",
        "all_r2 = [r2_decr,r2_bagr,r2_rfr]\n",
        "#columns:\n",
        "columns = {'MSE': all_mse, 'R^2_score': all_r2}\n",
        "\n",
        "models=['Decision Tree Regressor','Bagging Regressor','Random Forest Regressor']\n",
        "result = pd.DataFrame(data = columns,index = models)\n",
        "result"
      ],
      "id": "79aIK3-zF3Ti"
    },
    {
      "cell_type": "markdown",
      "metadata": {
        "id": "PAzMBIYvF3Ti"
      },
      "source": [
        "### My finding about  above 3 Models:\n",
        "+ As it is regression problem, I decided to use regression Models and Metrics.\n",
        "+ Here, I used 2 metrics such as MSE and R2_score to evaluate all 3 models, and find out which one is better.\n",
        "+ As we know, MSE value is mean_error_square, so it would be better if it is much lower, here is almost huge values-1200-1300.\n",
        "+ And R2_score is too low, because it varies from 0 to 1, it is too close to 0.15. It means that it has poor fit modelling.\n",
        "+ In conclusion, Despite the fact, that all of them has closer values variations,\n",
        "+ I want to say that, RandomForest Regressor model shows better results than others.\n",
        "+ Because, it minimizes overfitting, and it tends to be more accurate."
      ],
      "id": "PAzMBIYvF3Ti"
    },
    {
      "cell_type": "code",
      "execution_count": null,
      "metadata": {
        "id": "VB09vNNMF3Ti",
        "outputId": "ab7b3e45-005f-4549-c4d5-ec3763ec3145"
      },
      "outputs": [
        {
          "name": "stdout",
          "output_type": "stream",
          "text": [
            "{'n_estimators': [20, 65, 110, 155, 200], 'max_features': ['auto', 'sqrt'], 'max_depth': [10, 20, 30, 40, 50, 60, 70, 80, 90, 100, 110, None], 'min_samples_split': [5, 10]}\n"
          ]
        }
      ],
      "source": [
        "# STEP-7:\n",
        "from sklearn.model_selection import RandomizedSearchCV\n",
        "\n",
        "# Number of trees in random forest\n",
        "n_estimators = [int(x) for x in np.linspace(start = 20, stop = 200, num = 5)]\n",
        "# Number of features to consider at every split\n",
        "max_features = ['auto', 'sqrt']\n",
        "# Maximum number of levels in tree\n",
        "max_depth = [int(x) for x in np.linspace(10, 110, num = 11)]\n",
        "max_depth.append(None)\n",
        "# Minimum number of samples required to split a node\n",
        "min_samples_split = [5, 10]\n",
        "# Method of selecting samples for training each tree\n",
        "bootstrap = [True, False]\n",
        "# Creating the random grid\n",
        "random_grid = {'n_estimators': n_estimators,\n",
        "               'max_features': max_features,\n",
        "               'max_depth': max_depth,\n",
        "               'min_samples_split': min_samples_split}\n",
        "print(random_grid)"
      ],
      "id": "VB09vNNMF3Ti"
    },
    {
      "cell_type": "code",
      "execution_count": null,
      "metadata": {
        "id": "r7-L_BWBF3Tj",
        "outputId": "f071985f-9f36-40ad-bfa9-cf2057b74c38"
      },
      "outputs": [
        {
          "name": "stdout",
          "output_type": "stream",
          "text": [
            "Fitting 10 folds for each of 10 candidates, totalling 100 fits\n"
          ]
        },
        {
          "name": "stderr",
          "output_type": "stream",
          "text": [
            "[Parallel(n_jobs=-1)]: Using backend LokyBackend with 8 concurrent workers.\n",
            "[Parallel(n_jobs=-1)]: Done  25 tasks      | elapsed:    2.9s\n",
            "[Parallel(n_jobs=-1)]: Done 100 out of 100 | elapsed:   11.1s finished\n"
          ]
        },
        {
          "data": {
            "text/plain": [
              "RandomizedSearchCV(cv=10, estimator=RandomForestRegressor(), n_jobs=-1,\n",
              "                   param_distributions={'max_depth': [10, 20, 30, 40, 50, 60,\n",
              "                                                      70, 80, 90, 100, 110,\n",
              "                                                      None],\n",
              "                                        'max_features': ['auto', 'sqrt'],\n",
              "                                        'min_samples_split': [5, 10],\n",
              "                                        'n_estimators': [20, 65, 110, 155,\n",
              "                                                         200]},\n",
              "                   random_state=42, scoring='neg_mean_squared_error',\n",
              "                   verbose=2)"
            ]
          },
          "execution_count": 58,
          "metadata": {},
          "output_type": "execute_result"
        }
      ],
      "source": [
        "# Random search of parameters, using cross validation, \n",
        "rf_random = RandomizedSearchCV( estimator=df4_rand_for,param_distributions = random_grid,n_iter = 10,cv = 10,verbose=2,random_state=42,n_jobs = -1,scoring='neg_mean_squared_error')\n",
        "# Fit the random search model\n",
        "rf_random.fit(X_train, y_train)"
      ],
      "id": "r7-L_BWBF3Tj"
    },
    {
      "cell_type": "code",
      "execution_count": null,
      "metadata": {
        "id": "apObtNOJF3Tj",
        "outputId": "c90e00a2-129d-4a78-e412-cd3383a78cad"
      },
      "outputs": [
        {
          "data": {
            "text/plain": [
              "{'n_estimators': 200,\n",
              " 'min_samples_split': 10,\n",
              " 'max_features': 'auto',\n",
              " 'max_depth': 10}"
            ]
          },
          "execution_count": 59,
          "metadata": {},
          "output_type": "execute_result"
        }
      ],
      "source": [
        "# best combination of parameters of random search\n",
        "rf_random.best_params_\n",
        "#rf_random.best_estimator_"
      ],
      "id": "apObtNOJF3Tj"
    },
    {
      "cell_type": "code",
      "execution_count": null,
      "metadata": {
        "id": "_vYaf59_F3Tk",
        "outputId": "da5e254b-9890-4f5b-b83b-37b44b7c1ad5"
      },
      "outputs": [
        {
          "name": "stdout",
          "output_type": "stream",
          "text": [
            "The best model for Train-- MSE 1084.48\n",
            "The best model for Train-- R^2 0.4\n"
          ]
        }
      ],
      "source": [
        "# predicting on \n",
        "random_best= rf_random.best_estimator_.predict(X_train)\n",
        "# MSE:\n",
        "random_mse = round(mean_squared_error(y_train, random_best), 2)\n",
        "print('The best model for Train-- MSE', random_mse)\n",
        "# R2_score:\n",
        "random_r2 = round(r2_score(y_train, random_best), 2)\n",
        "print('The best model for Train-- R^2', random_r2)"
      ],
      "id": "_vYaf59_F3Tk"
    },
    {
      "cell_type": "code",
      "execution_count": null,
      "metadata": {
        "id": "J7D67o3YF3Tk",
        "outputId": "65c02a09-e1a8-4e8d-fdea-c882311145a2"
      },
      "outputs": [
        {
          "name": "stdout",
          "output_type": "stream",
          "text": [
            "The best model for Test-- MSE 1120.12\n",
            "The best model for Test-- R^2 0.25\n"
          ]
        }
      ],
      "source": [
        "# predicting on \n",
        "random_best= rf_random.best_estimator_.predict(X_test)\n",
        "# MSE:\n",
        "random_mse = round(mean_squared_error(y_test, random_best), 2)\n",
        "print('The best model for Test-- MSE', random_mse)\n",
        "# R2_score:\n",
        "random_r2 = round(r2_score(y_test, random_best), 2)\n",
        "print('The best model for Test-- R^2', random_r2)"
      ],
      "id": "J7D67o3YF3Tk"
    },
    {
      "cell_type": "markdown",
      "metadata": {
        "id": "L5eQEOfXF3Tk"
      },
      "source": [
        "+ I used Randomised Seacch CV to find best parameter in order to upgrade the Model's Predicting Scores.\n",
        "+ Used params: {'n_estimators': 200, 'min_samples_split': 10,'max_depth': 10}\n",
        "+ R^2 changed from 0.15 till 0.25, it is same low, but increased a little bit, which is good.\n",
        "+ MSE changed from 1267 till 1120, it is better, it means that errors rate is decreased.\n",
        "+ By the help of tunning parameters, R^2 and MSE scores have changed a little bit for better Results.\n",
        "+ \n",
        "+ In conclusion, it is more convenient, when we can choose preferrabe parameters, and regulate them, as we want, in order to achieve the best results and upgrade our Model."
      ],
      "id": "L5eQEOfXF3Tk"
    },
    {
      "cell_type": "markdown",
      "metadata": {
        "id": "67f29LZ_F3Tl"
      },
      "source": [
        "---\n",
        "\n",
        "### Evaluation\n",
        "\n",
        "| Question | Mark     | Comment   \n",
        "|:-------:|:--------:|:----------------------\n",
        "| 1       |   30/30    |     \n",
        "| 2       |   20/20   | \n",
        "| 3       |   20/20   |     \n",
        "| 4       |   30/30   | \n",
        "|**Total**|**100/100**  | \n"
      ],
      "id": "67f29LZ_F3Tl"
    }
  ],
  "metadata": {
    "kernelspec": {
      "display_name": "Python 3",
      "language": "python",
      "name": "python3"
    },
    "language_info": {
      "codemirror_mode": {
        "name": "ipython",
        "version": 3
      },
      "file_extension": ".py",
      "mimetype": "text/x-python",
      "name": "python",
      "nbconvert_exporter": "python",
      "pygments_lexer": "ipython3",
      "version": "3.8.5"
    },
    "colab": {
      "provenance": []
    }
  },
  "nbformat": 4,
  "nbformat_minor": 5
}