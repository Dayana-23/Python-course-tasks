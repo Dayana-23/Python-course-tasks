{
  "cells": [
    {
      "cell_type": "markdown",
      "metadata": {
        "id": "1VUVEcsgA8as"
      },
      "source": [
        "# PDS: Assignment 2\n",
        "\n",
        "### Deadline: April 27 (until 23:59)\n",
        "\n",
        "\n",
        "**Instructions:** All answers should be filled in the notebook and then submitted to Moodle. For theoretical question you can use markdown and LaTeX. Name of notebook should be in following format:\n",
        " - Name_group_Assignment_1.ipynb (ex. Bill_Gates_1905_Assignment_2.ipynb)\n",
        " - Try to use fewer cells for compilation (for example, you can use print for several answers, instead of printing each answer on a separate cell)\n",
        " - **PLEASE:** submit only one jupyter notebook (no zip or csv files) and with your names as in the instruction. Ohterwise, there will be punishment for 2 points."
      ],
      "id": "1VUVEcsgA8as"
    },
    {
      "cell_type": "markdown",
      "metadata": {
        "id": "9Z8GqmEvA8au"
      },
      "source": [
        "## ✤ *Importing needed libraries:*"
      ],
      "id": "9Z8GqmEvA8au"
    },
    {
      "cell_type": "code",
      "execution_count": null,
      "metadata": {
        "id": "iOeDqauYA8au"
      },
      "outputs": [],
      "source": [
        "import pandas as pd\n",
        "import numpy as np\n",
        "import seaborn as sns\n",
        "\n",
        "from sklearn import preprocessing\n",
        "from sklearn.preprocessing import LabelEncoder\n",
        "from sklearn.model_selection import train_test_split\n",
        "\n",
        "from sklearn.linear_model import LinearRegression \n",
        "from sklearn.feature_selection import RFE\n",
        "from sklearn.ensemble import GradientBoostingRegressor\n",
        "\n",
        "from sklearn import metrics\n",
        "\n",
        "import warnings  # do not show matching warnings\n",
        "warnings.filterwarnings('ignore')"
      ],
      "id": "iOeDqauYA8au"
    },
    {
      "cell_type": "markdown",
      "metadata": {
        "id": "QjY6buLeA8av"
      },
      "source": [
        "## Q1 (2 point)\n",
        "Use Credit.csv datasets and use only parameters Income and Ethnicity to predict Balance. Do the following:\n",
        "1. You are allowed to use sklearn, but not statsmodels.\n",
        "2. Build a model that takes Ethnicity with dummy variables. \n",
        "3. Show that building three separate models for each possible Ethnicity value will result in the same models as in case of using Ethinicity with dummy variables in one model. "
      ],
      "id": "QjY6buLeA8av"
    },
    {
      "cell_type": "code",
      "execution_count": null,
      "metadata": {
        "id": "zMeQPA3bA8av",
        "outputId": "1fa4f682-7144-44da-dca9-a47871ce43ef"
      },
      "outputs": [
        {
          "data": {
            "text/html": [
              "<div>\n",
              "<style scoped>\n",
              "    .dataframe tbody tr th:only-of-type {\n",
              "        vertical-align: middle;\n",
              "    }\n",
              "\n",
              "    .dataframe tbody tr th {\n",
              "        vertical-align: top;\n",
              "    }\n",
              "\n",
              "    .dataframe thead th {\n",
              "        text-align: right;\n",
              "    }\n",
              "</style>\n",
              "<table border=\"1\" class=\"dataframe\">\n",
              "  <thead>\n",
              "    <tr style=\"text-align: right;\">\n",
              "      <th></th>\n",
              "      <th>Income</th>\n",
              "      <th>Ethnicity</th>\n",
              "      <th>Balance</th>\n",
              "    </tr>\n",
              "  </thead>\n",
              "  <tbody>\n",
              "    <tr>\n",
              "      <th>0</th>\n",
              "      <td>14.891</td>\n",
              "      <td>Caucasian</td>\n",
              "      <td>333</td>\n",
              "    </tr>\n",
              "    <tr>\n",
              "      <th>1</th>\n",
              "      <td>106.025</td>\n",
              "      <td>Asian</td>\n",
              "      <td>903</td>\n",
              "    </tr>\n",
              "    <tr>\n",
              "      <th>2</th>\n",
              "      <td>104.593</td>\n",
              "      <td>Asian</td>\n",
              "      <td>580</td>\n",
              "    </tr>\n",
              "    <tr>\n",
              "      <th>3</th>\n",
              "      <td>148.924</td>\n",
              "      <td>Asian</td>\n",
              "      <td>964</td>\n",
              "    </tr>\n",
              "    <tr>\n",
              "      <th>4</th>\n",
              "      <td>55.882</td>\n",
              "      <td>Caucasian</td>\n",
              "      <td>331</td>\n",
              "    </tr>\n",
              "  </tbody>\n",
              "</table>\n",
              "</div>"
            ],
            "text/plain": [
              "    Income  Ethnicity  Balance\n",
              "0   14.891  Caucasian      333\n",
              "1  106.025      Asian      903\n",
              "2  104.593      Asian      580\n",
              "3  148.924      Asian      964\n",
              "4   55.882  Caucasian      331"
            ]
          },
          "execution_count": 2,
          "metadata": {},
          "output_type": "execute_result"
        }
      ],
      "source": [
        "data = pd.read_csv('Credit.csv')\n",
        "\n",
        "data = data[['Income', 'Ethnicity', 'Balance']]\n",
        "\n",
        "data.head()"
      ],
      "id": "zMeQPA3bA8av"
    },
    {
      "cell_type": "code",
      "execution_count": null,
      "metadata": {
        "id": "oYebz8ZbA8aw",
        "outputId": "69c8f74f-5a6f-4859-9aeb-21c75ba0508c"
      },
      "outputs": [
        {
          "name": "stdout",
          "output_type": "stream",
          "text": [
            "<class 'pandas.core.frame.DataFrame'>\n",
            "RangeIndex: 400 entries, 0 to 399\n",
            "Data columns (total 3 columns):\n",
            " #   Column     Non-Null Count  Dtype  \n",
            "---  ------     --------------  -----  \n",
            " 0   Income     400 non-null    float64\n",
            " 1   Ethnicity  400 non-null    object \n",
            " 2   Balance    400 non-null    int64  \n",
            "dtypes: float64(1), int64(1), object(1)\n",
            "memory usage: 9.5+ KB\n"
          ]
        }
      ],
      "source": [
        "data.info()"
      ],
      "id": "oYebz8ZbA8aw"
    },
    {
      "cell_type": "code",
      "execution_count": null,
      "metadata": {
        "id": "5oKOJ8plA8aw",
        "outputId": "e319f6ba-86ba-4222-f01b-79fc2775af7f"
      },
      "outputs": [
        {
          "data": {
            "text/plain": [
              "Caucasian           199\n",
              "Asian               102\n",
              "African American     99\n",
              "Name: Ethnicity, dtype: int64"
            ]
          },
          "execution_count": 4,
          "metadata": {},
          "output_type": "execute_result"
        }
      ],
      "source": [
        "# there are 3 types of Ethnicity:\n",
        "# data['Ethnicity'].unique()\n",
        "data['Ethnicity'].value_counts()"
      ],
      "id": "5oKOJ8plA8aw"
    },
    {
      "cell_type": "markdown",
      "metadata": {
        "id": "5rU_BpWGA8aw"
      },
      "source": [
        "### ✤ In order to find dummy variables of Ethnicity column, for 3 types:"
      ],
      "id": "5rU_BpWGA8aw"
    },
    {
      "cell_type": "code",
      "execution_count": null,
      "metadata": {
        "id": "7LVEANU0A8aw",
        "outputId": "04b09751-9450-4831-c9ca-f5ddb11f1b59"
      },
      "outputs": [
        {
          "data": {
            "text/html": [
              "<div>\n",
              "<style scoped>\n",
              "    .dataframe tbody tr th:only-of-type {\n",
              "        vertical-align: middle;\n",
              "    }\n",
              "\n",
              "    .dataframe tbody tr th {\n",
              "        vertical-align: top;\n",
              "    }\n",
              "\n",
              "    .dataframe thead th {\n",
              "        text-align: right;\n",
              "    }\n",
              "</style>\n",
              "<table border=\"1\" class=\"dataframe\">\n",
              "  <thead>\n",
              "    <tr style=\"text-align: right;\">\n",
              "      <th></th>\n",
              "      <th>Income</th>\n",
              "      <th>Ethnicity</th>\n",
              "      <th>Balance</th>\n",
              "      <th>Ethnicity_African American</th>\n",
              "      <th>Ethnicity_Asian</th>\n",
              "      <th>Ethnicity_Caucasian</th>\n",
              "    </tr>\n",
              "  </thead>\n",
              "  <tbody>\n",
              "    <tr>\n",
              "      <th>0</th>\n",
              "      <td>14.891</td>\n",
              "      <td>Caucasian</td>\n",
              "      <td>333</td>\n",
              "      <td>0</td>\n",
              "      <td>0</td>\n",
              "      <td>1</td>\n",
              "    </tr>\n",
              "    <tr>\n",
              "      <th>1</th>\n",
              "      <td>106.025</td>\n",
              "      <td>Asian</td>\n",
              "      <td>903</td>\n",
              "      <td>0</td>\n",
              "      <td>1</td>\n",
              "      <td>0</td>\n",
              "    </tr>\n",
              "    <tr>\n",
              "      <th>2</th>\n",
              "      <td>104.593</td>\n",
              "      <td>Asian</td>\n",
              "      <td>580</td>\n",
              "      <td>0</td>\n",
              "      <td>1</td>\n",
              "      <td>0</td>\n",
              "    </tr>\n",
              "    <tr>\n",
              "      <th>3</th>\n",
              "      <td>148.924</td>\n",
              "      <td>Asian</td>\n",
              "      <td>964</td>\n",
              "      <td>0</td>\n",
              "      <td>1</td>\n",
              "      <td>0</td>\n",
              "    </tr>\n",
              "    <tr>\n",
              "      <th>4</th>\n",
              "      <td>55.882</td>\n",
              "      <td>Caucasian</td>\n",
              "      <td>331</td>\n",
              "      <td>0</td>\n",
              "      <td>0</td>\n",
              "      <td>1</td>\n",
              "    </tr>\n",
              "  </tbody>\n",
              "</table>\n",
              "</div>"
            ],
            "text/plain": [
              "    Income  Ethnicity  Balance  Ethnicity_African American  Ethnicity_Asian  \\\n",
              "0   14.891  Caucasian      333                           0                0   \n",
              "1  106.025      Asian      903                           0                1   \n",
              "2  104.593      Asian      580                           0                1   \n",
              "3  148.924      Asian      964                           0                1   \n",
              "4   55.882  Caucasian      331                           0                0   \n",
              "\n",
              "   Ethnicity_Caucasian  \n",
              "0                    1  \n",
              "1                    0  \n",
              "2                    0  \n",
              "3                    0  \n",
              "4                    1  "
            ]
          },
          "execution_count": 5,
          "metadata": {},
          "output_type": "execute_result"
        }
      ],
      "source": [
        "# ethnicity = pd.get_dummies(data['Ethnicity'])\n",
        "ethnicity_dummies = pd.get_dummies(data.select_dtypes(include=[object]))\n",
        "\n",
        "new_data = pd.concat([data, ethnicity_dummies], axis=1)\n",
        "new_data.head()"
      ],
      "id": "7LVEANU0A8aw"
    },
    {
      "cell_type": "markdown",
      "metadata": {
        "id": "nS8PL8BIA8ax"
      },
      "source": [
        "### ✤ Also, encoding this categorical Enthnicity column, for future models:"
      ],
      "id": "nS8PL8BIA8ax"
    },
    {
      "cell_type": "code",
      "execution_count": null,
      "metadata": {
        "id": "C1eU9rjGA8ax",
        "outputId": "9fc54e06-45d4-4374-d818-648706e4b123"
      },
      "outputs": [
        {
          "data": {
            "text/html": [
              "<div>\n",
              "<style scoped>\n",
              "    .dataframe tbody tr th:only-of-type {\n",
              "        vertical-align: middle;\n",
              "    }\n",
              "\n",
              "    .dataframe tbody tr th {\n",
              "        vertical-align: top;\n",
              "    }\n",
              "\n",
              "    .dataframe thead th {\n",
              "        text-align: right;\n",
              "    }\n",
              "</style>\n",
              "<table border=\"1\" class=\"dataframe\">\n",
              "  <thead>\n",
              "    <tr style=\"text-align: right;\">\n",
              "      <th></th>\n",
              "      <th>Income</th>\n",
              "      <th>Ethnicity</th>\n",
              "      <th>Balance</th>\n",
              "      <th>Ethnicity_African American</th>\n",
              "      <th>Ethnicity_Asian</th>\n",
              "      <th>Ethnicity_Caucasian</th>\n",
              "    </tr>\n",
              "  </thead>\n",
              "  <tbody>\n",
              "    <tr>\n",
              "      <th>0</th>\n",
              "      <td>14.891</td>\n",
              "      <td>2</td>\n",
              "      <td>333</td>\n",
              "      <td>0</td>\n",
              "      <td>0</td>\n",
              "      <td>1</td>\n",
              "    </tr>\n",
              "    <tr>\n",
              "      <th>1</th>\n",
              "      <td>106.025</td>\n",
              "      <td>1</td>\n",
              "      <td>903</td>\n",
              "      <td>0</td>\n",
              "      <td>1</td>\n",
              "      <td>0</td>\n",
              "    </tr>\n",
              "    <tr>\n",
              "      <th>2</th>\n",
              "      <td>104.593</td>\n",
              "      <td>1</td>\n",
              "      <td>580</td>\n",
              "      <td>0</td>\n",
              "      <td>1</td>\n",
              "      <td>0</td>\n",
              "    </tr>\n",
              "    <tr>\n",
              "      <th>3</th>\n",
              "      <td>148.924</td>\n",
              "      <td>1</td>\n",
              "      <td>964</td>\n",
              "      <td>0</td>\n",
              "      <td>1</td>\n",
              "      <td>0</td>\n",
              "    </tr>\n",
              "    <tr>\n",
              "      <th>4</th>\n",
              "      <td>55.882</td>\n",
              "      <td>2</td>\n",
              "      <td>331</td>\n",
              "      <td>0</td>\n",
              "      <td>0</td>\n",
              "      <td>1</td>\n",
              "    </tr>\n",
              "  </tbody>\n",
              "</table>\n",
              "</div>"
            ],
            "text/plain": [
              "    Income  Ethnicity  Balance  Ethnicity_African American  Ethnicity_Asian  \\\n",
              "0   14.891          2      333                           0                0   \n",
              "1  106.025          1      903                           0                1   \n",
              "2  104.593          1      580                           0                1   \n",
              "3  148.924          1      964                           0                1   \n",
              "4   55.882          2      331                           0                0   \n",
              "\n",
              "   Ethnicity_Caucasian  \n",
              "0                    1  \n",
              "1                    0  \n",
              "2                    0  \n",
              "3                    0  \n",
              "4                    1  "
            ]
          },
          "execution_count": 6,
          "metadata": {},
          "output_type": "execute_result"
        }
      ],
      "source": [
        "label_en = LabelEncoder()\n",
        "\n",
        "new_data['Ethnicity'] = label_en.fit_transform(new_data['Ethnicity'].astype(str))\n",
        "\n",
        "new_data.head()"
      ],
      "id": "C1eU9rjGA8ax"
    },
    {
      "cell_type": "code",
      "execution_count": null,
      "metadata": {
        "id": "rZQuhN75A8ax",
        "outputId": "790fc57d-b381-4aa5-819c-d0c42df8d10e"
      },
      "outputs": [
        {
          "data": {
            "text/html": [
              "<div>\n",
              "<style scoped>\n",
              "    .dataframe tbody tr th:only-of-type {\n",
              "        vertical-align: middle;\n",
              "    }\n",
              "\n",
              "    .dataframe tbody tr th {\n",
              "        vertical-align: top;\n",
              "    }\n",
              "\n",
              "    .dataframe thead th {\n",
              "        text-align: right;\n",
              "    }\n",
              "</style>\n",
              "<table border=\"1\" class=\"dataframe\">\n",
              "  <thead>\n",
              "    <tr style=\"text-align: right;\">\n",
              "      <th></th>\n",
              "      <th>Income</th>\n",
              "      <th>Ethnicity</th>\n",
              "      <th>Balance</th>\n",
              "      <th>Ethnicity_African American</th>\n",
              "      <th>Ethnicity_Asian</th>\n",
              "      <th>Ethnicity_Caucasian</th>\n",
              "    </tr>\n",
              "  </thead>\n",
              "  <tbody>\n",
              "    <tr>\n",
              "      <th>Income</th>\n",
              "      <td>1.000000</td>\n",
              "      <td>-0.032888</td>\n",
              "      <td>0.463656</td>\n",
              "      <td>0.040132</td>\n",
              "      <td>-0.017137</td>\n",
              "      <td>-0.019701</td>\n",
              "    </tr>\n",
              "    <tr>\n",
              "      <th>Ethnicity</th>\n",
              "      <td>-0.032888</td>\n",
              "      <td>1.000000</td>\n",
              "      <td>-0.009157</td>\n",
              "      <td>-0.867747</td>\n",
              "      <td>-0.177044</td>\n",
              "      <td>0.903313</td>\n",
              "    </tr>\n",
              "    <tr>\n",
              "      <th>Balance</th>\n",
              "      <td>0.463656</td>\n",
              "      <td>-0.009157</td>\n",
              "      <td>1.000000</td>\n",
              "      <td>0.013720</td>\n",
              "      <td>-0.009812</td>\n",
              "      <td>-0.003288</td>\n",
              "    </tr>\n",
              "    <tr>\n",
              "      <th>Ethnicity_African American</th>\n",
              "      <td>0.040132</td>\n",
              "      <td>-0.867747</td>\n",
              "      <td>0.013720</td>\n",
              "      <td>1.000000</td>\n",
              "      <td>-0.335526</td>\n",
              "      <td>-0.570641</td>\n",
              "    </tr>\n",
              "    <tr>\n",
              "      <th>Ethnicity_Asian</th>\n",
              "      <td>-0.017137</td>\n",
              "      <td>-0.177044</td>\n",
              "      <td>-0.009812</td>\n",
              "      <td>-0.335526</td>\n",
              "      <td>1.000000</td>\n",
              "      <td>-0.582131</td>\n",
              "    </tr>\n",
              "    <tr>\n",
              "      <th>Ethnicity_Caucasian</th>\n",
              "      <td>-0.019701</td>\n",
              "      <td>0.903313</td>\n",
              "      <td>-0.003288</td>\n",
              "      <td>-0.570641</td>\n",
              "      <td>-0.582131</td>\n",
              "      <td>1.000000</td>\n",
              "    </tr>\n",
              "  </tbody>\n",
              "</table>\n",
              "</div>"
            ],
            "text/plain": [
              "                              Income  Ethnicity   Balance  \\\n",
              "Income                      1.000000  -0.032888  0.463656   \n",
              "Ethnicity                  -0.032888   1.000000 -0.009157   \n",
              "Balance                     0.463656  -0.009157  1.000000   \n",
              "Ethnicity_African American  0.040132  -0.867747  0.013720   \n",
              "Ethnicity_Asian            -0.017137  -0.177044 -0.009812   \n",
              "Ethnicity_Caucasian        -0.019701   0.903313 -0.003288   \n",
              "\n",
              "                            Ethnicity_African American  Ethnicity_Asian  \\\n",
              "Income                                        0.040132        -0.017137   \n",
              "Ethnicity                                    -0.867747        -0.177044   \n",
              "Balance                                       0.013720        -0.009812   \n",
              "Ethnicity_African American                    1.000000        -0.335526   \n",
              "Ethnicity_Asian                              -0.335526         1.000000   \n",
              "Ethnicity_Caucasian                          -0.570641        -0.582131   \n",
              "\n",
              "                            Ethnicity_Caucasian  \n",
              "Income                                -0.019701  \n",
              "Ethnicity                              0.903313  \n",
              "Balance                               -0.003288  \n",
              "Ethnicity_African American            -0.570641  \n",
              "Ethnicity_Asian                       -0.582131  \n",
              "Ethnicity_Caucasian                    1.000000  "
            ]
          },
          "execution_count": 7,
          "metadata": {},
          "output_type": "execute_result"
        }
      ],
      "source": [
        "# correlation in a form of plot or in dataframe:\n",
        "# cols = ['Income', 'Ethnicity', 'Balance']\n",
        "# hm = sns.heatmap(data[cols].corr(), cbar=True,annot=True)\n",
        "new_data.corr()"
      ],
      "id": "rZQuhN75A8ax"
    },
    {
      "cell_type": "markdown",
      "metadata": {
        "id": "XFomIQ3YA8ax"
      },
      "source": [
        "### ✤ All models were created by using Linear Regression library in 1st task ✤\n",
        "+ **✤Let's predict by using above funciton, check all metrics, such as MAE,MSE,MAX,R2:**"
      ],
      "id": "XFomIQ3YA8ax"
    },
    {
      "cell_type": "code",
      "execution_count": null,
      "metadata": {
        "id": "b8mgl57vA8ay"
      },
      "outputs": [],
      "source": [
        "# let's create a function for all metrics at the same time:\n",
        "\n",
        "def showMetricsEval(true, predicted):  \n",
        "    r2_square = metrics.r2_score(true, predicted)\n",
        "    mse = metrics.mean_squared_error(true, predicted)\n",
        "    rmse = np.sqrt(metrics.mean_squared_error(true, predicted))\n",
        "    mae = metrics.mean_absolute_error(true, predicted)\n",
        "    maxx = metrics.max_error(true, predicted)\n",
        "    \n",
        "    print('R-squared', np.round(r2_square,3))\n",
        "    print('MSE:', mse)\n",
        "    print('RMSE:', rmse)\n",
        "    print('MAE:', mae)\n",
        "    print('MAX:', maxx)"
      ],
      "id": "b8mgl57vA8ay"
    },
    {
      "cell_type": "markdown",
      "metadata": {
        "id": "BoMePN42A8ay"
      },
      "source": [
        "### ✤  First model with general Ethnicity column:"
      ],
      "id": "BoMePN42A8ay"
    },
    {
      "cell_type": "code",
      "execution_count": null,
      "metadata": {
        "id": "O_JzaeoTA8ay",
        "outputId": "3b8a4125-ccd4-467c-d4fc-d52e412b8af9"
      },
      "outputs": [
        {
          "name": "stdout",
          "output_type": "stream",
          "text": [
            "R-squared 0.215\n",
            "MSE: 165514.0292938048\n",
            "RMSE: 406.83415453204617\n",
            "MAE: 348.9566328801873\n",
            "MAX: 1097.7349141598215\n",
            "\n",
            "Accuracy model for train: 0.22\n",
            "Intercept is:  242.16\n",
            "Coefficients are:  [6.05097953 3.38937433]\n"
          ]
        }
      ],
      "source": [
        "X_train = new_data[['Income','Ethnicity']]\n",
        "y_train = new_data['Balance']\n",
        "\n",
        "# X_train, X_test, y_train, y_test = train_test_split(X, y, test_size=0.3)\n",
        "\n",
        "model = LinearRegression()\n",
        "model.fit(X_train, y_train)\n",
        "\n",
        "train_pred_1 = model.predict(X_train)\n",
        "showMetricsEval(y_train, train_pred_1)\n",
        "\n",
        "print('\\nAccuracy model for train:',round(model.score(X_train, y_train),2))\n",
        "print('Intercept is: ', round(model.intercept_, 2))\n",
        "print('Coefficients are: ', model.coef_)"
      ],
      "id": "O_JzaeoTA8ay"
    },
    {
      "cell_type": "code",
      "execution_count": null,
      "metadata": {
        "id": "mSgdHfhQA8ay"
      },
      "outputs": [],
      "source": [
        "from scipy import stats # to find p-values\n",
        "\n",
        "def findStat():\n",
        "    params = np.append(model.intercept_,model.coef_)\n",
        "    predictions = model.predict(X_train)\n",
        "\n",
        "    newX = pd.DataFrame({\"Constant\":np.ones(len(X_train))}).join(pd.DataFrame(X_train))\n",
        "    MSE = (sum((y_train-predictions)**2))/(len(newX)-len(newX.columns))\n",
        "\n",
        "    var_b = MSE*(np.linalg.inv(np.dot(newX.T,newX)).diagonal())\n",
        "    sd_b = np.sqrt(var_b)\n",
        "    ts_b = params/ sd_b\n",
        "\n",
        "    p_values =[2*(1-stats.t.cdf(np.abs(i),(len(newX)-1))) for i in ts_b]\n",
        "    p_values = np.round(p_values,3)\n",
        "\n",
        "    # cols = ['Balance','Income','Ethnicity']\n",
        "    params = np.round(params,4)\n",
        "    sd_b = np.round(sd_b,3)\n",
        "    ts_b = np.round(ts_b,3)\n",
        "\n",
        "    StatDF = pd.DataFrame()\n",
        "    StatDF[\"Coefficients\"],StatDF[\"Standard Errors\"],StatDF[\"T-values\"],StatDF[\"P-values\"]= [params,sd_b,ts_b,p_values]\n",
        "    return StatDF"
      ],
      "id": "mSgdHfhQA8ay"
    },
    {
      "cell_type": "code",
      "execution_count": null,
      "metadata": {
        "id": "H8buzobtA8ay",
        "outputId": "00e61a35-2b84-4d7e-f8d1-7b76486a0c74"
      },
      "outputs": [
        {
          "data": {
            "text/html": [
              "<div>\n",
              "<style scoped>\n",
              "    .dataframe tbody tr th:only-of-type {\n",
              "        vertical-align: middle;\n",
              "    }\n",
              "\n",
              "    .dataframe tbody tr th {\n",
              "        vertical-align: top;\n",
              "    }\n",
              "\n",
              "    .dataframe thead th {\n",
              "        text-align: right;\n",
              "    }\n",
              "</style>\n",
              "<table border=\"1\" class=\"dataframe\">\n",
              "  <thead>\n",
              "    <tr style=\"text-align: right;\">\n",
              "      <th></th>\n",
              "      <th>Coefficients</th>\n",
              "      <th>Standard Errors</th>\n",
              "      <th>T-values</th>\n",
              "      <th>P-values</th>\n",
              "    </tr>\n",
              "  </thead>\n",
              "  <tbody>\n",
              "    <tr>\n",
              "      <th>0</th>\n",
              "      <td>242.1597</td>\n",
              "      <td>45.984</td>\n",
              "      <td>5.266</td>\n",
              "      <td>0.000</td>\n",
              "    </tr>\n",
              "    <tr>\n",
              "      <th>1</th>\n",
              "      <td>6.0510</td>\n",
              "      <td>0.580</td>\n",
              "      <td>10.426</td>\n",
              "      <td>0.000</td>\n",
              "    </tr>\n",
              "    <tr>\n",
              "      <th>2</th>\n",
              "      <td>3.3894</td>\n",
              "      <td>24.729</td>\n",
              "      <td>0.137</td>\n",
              "      <td>0.891</td>\n",
              "    </tr>\n",
              "  </tbody>\n",
              "</table>\n",
              "</div>"
            ],
            "text/plain": [
              "   Coefficients  Standard Errors  T-values  P-values\n",
              "0      242.1597           45.984     5.266     0.000\n",
              "1        6.0510            0.580    10.426     0.000\n",
              "2        3.3894           24.729     0.137     0.891"
            ]
          },
          "execution_count": 17,
          "metadata": {},
          "output_type": "execute_result"
        }
      ],
      "source": [
        "findStat()"
      ],
      "id": "H8buzobtA8ay"
    },
    {
      "cell_type": "markdown",
      "metadata": {
        "id": "zTbzPM5YA8az"
      },
      "source": [
        "+ The above table, I have created using numpy, to see statistical data of our model, as in statmodel we have done on lectures,similarly.\n",
        "+ There are 3 columns, statistic details for Balance and Income are quite good for our model.\n",
        "+ But the Ethnicity column, there are t-test is low and p-value a little bit higher than others compared."
      ],
      "id": "zTbzPM5YA8az"
    },
    {
      "cell_type": "markdown",
      "metadata": {
        "id": "bcIhI6GZA8az"
      },
      "source": [
        "### ✤ Second model with all 3 dummies:"
      ],
      "id": "bcIhI6GZA8az"
    },
    {
      "cell_type": "code",
      "execution_count": null,
      "metadata": {
        "id": "wRdH6XouA8az",
        "outputId": "308ed94d-2b74-4673-8888-145f675965fc"
      },
      "outputs": [
        {
          "name": "stdout",
          "output_type": "stream",
          "text": [
            "R-squared 0.215\n",
            "MSE: 165513.89554684315\n",
            "RMSE: 406.83399015672614\n",
            "MAE: 348.9468596386069\n",
            "MAX: 1097.574595883287\n",
            "\n",
            "Accuracy model for train: 0.22\n",
            "Intercept is:  245.51\n",
            "Coefficients are:  [ 6.05073683 -3.02512703 -0.56850741  3.59363444]\n"
          ]
        }
      ],
      "source": [
        "X_train = new_data[['Income','Ethnicity_African American','Ethnicity_Asian','Ethnicity_Caucasian']]\n",
        "y_train = new_data['Balance']\n",
        "\n",
        "#X_train, X_test, y_train, y_test = train_test_split(X, y, test_size=0.3)\n",
        "\n",
        "model = LinearRegression()\n",
        "model.fit(X_train, y_train)\n",
        "\n",
        "train_pred_2 = model.predict(X_train)\n",
        "showMetricsEval(y_train, train_pred_2)\n",
        "\n",
        "print('\\nAccuracy model for train:',round(model.score(X_train, y_train),2))\n",
        "print('Intercept is: ', round(model.intercept_, 2))\n",
        "print('Coefficients are: ', model.coef_)"
      ],
      "id": "wRdH6XouA8az"
    },
    {
      "cell_type": "code",
      "execution_count": null,
      "metadata": {
        "id": "e_0CQtXwA8az",
        "outputId": "5ebeb585-56d7-4504-b1e8-774da0bf4406"
      },
      "outputs": [
        {
          "data": {
            "text/html": [
              "<div>\n",
              "<style scoped>\n",
              "    .dataframe tbody tr th:only-of-type {\n",
              "        vertical-align: middle;\n",
              "    }\n",
              "\n",
              "    .dataframe tbody tr th {\n",
              "        vertical-align: top;\n",
              "    }\n",
              "\n",
              "    .dataframe thead th {\n",
              "        text-align: right;\n",
              "    }\n",
              "</style>\n",
              "<table border=\"1\" class=\"dataframe\">\n",
              "  <thead>\n",
              "    <tr style=\"text-align: right;\">\n",
              "      <th></th>\n",
              "      <th>Coefficient</th>\n",
              "    </tr>\n",
              "  </thead>\n",
              "  <tbody>\n",
              "    <tr>\n",
              "      <th>Income</th>\n",
              "      <td>6.050737</td>\n",
              "    </tr>\n",
              "    <tr>\n",
              "      <th>Ethnicity_African American</th>\n",
              "      <td>-3.025127</td>\n",
              "    </tr>\n",
              "    <tr>\n",
              "      <th>Ethnicity_Asian</th>\n",
              "      <td>-0.568507</td>\n",
              "    </tr>\n",
              "    <tr>\n",
              "      <th>Ethnicity_Caucasian</th>\n",
              "      <td>3.593634</td>\n",
              "    </tr>\n",
              "  </tbody>\n",
              "</table>\n",
              "</div>"
            ],
            "text/plain": [
              "                            Coefficient\n",
              "Income                         6.050737\n",
              "Ethnicity_African American    -3.025127\n",
              "Ethnicity_Asian               -0.568507\n",
              "Ethnicity_Caucasian            3.593634"
            ]
          },
          "execution_count": 19,
          "metadata": {},
          "output_type": "execute_result"
        }
      ],
      "source": [
        "coef_df = pd.DataFrame(model.coef_, X_train.columns, columns=['Coefficient'])\n",
        "coef_df"
      ],
      "id": "e_0CQtXwA8az"
    },
    {
      "cell_type": "markdown",
      "metadata": {
        "id": "jSh8QvzZA8az"
      },
      "source": [
        "+ **As I remember, we can make interpretation like that:**\n",
        "\n",
        "+ Holding all other features fixed, a 1 unit increase in:\n",
        "+ **Income** is associated with an increase of 6.05, on average.\n",
        "+ **African_American** is associated with an decrease of -3.025, on average.\n",
        "+ **Asian** is associated with an decrease of 0.569, on average;\n",
        "+ **Caucasian** is associated with an increase of 3.594, on average;"
      ],
      "id": "jSh8QvzZA8az"
    },
    {
      "cell_type": "markdown",
      "metadata": {
        "id": "Hn-eAINpA8az"
      },
      "source": [
        "## I was experimenting on different targets in X column)\n",
        "### ✤ Third, there are 3 separate models for each type of Ethnicity:\n",
        "+ 'Ethnicity_African American'\n",
        "+ 'Ethnicity_Asian'\n",
        "+ 'Ethnicity_Caucasian'"
      ],
      "id": "Hn-eAINpA8az"
    },
    {
      "cell_type": "code",
      "execution_count": null,
      "metadata": {
        "id": "U9bfeZchA8az",
        "outputId": "dac84c98-da88-4e39-9ff8-216ac8e7534e"
      },
      "outputs": [
        {
          "name": "stdout",
          "output_type": "stream",
          "text": [
            "R-squared 0.215\n",
            "MSE: 165516.81602464267\n",
            "RMSE: 406.8375794154747\n",
            "MAE: 349.018265908979\n",
            "MAX: 1098.9871020029461\n",
            "\n",
            "Accuracy model for train: 0.22\n",
            "Intercept is:  247.69\n",
            "Coefficients are:  [ 6.05092635 -5.20895502]\n"
          ]
        }
      ],
      "source": [
        "X_train = new_data[['Income','Ethnicity_African American']]\n",
        "y_train = new_data['Balance']\n",
        "\n",
        "model = LinearRegression()\n",
        "model.fit(X_train, y_train)\n",
        "\n",
        "train_pred_3_1 = model.predict(X_train)\n",
        "showMetricsEval(y_train, train_pred_3_1)\n",
        "\n",
        "print('\\nAccuracy model for train:',round(model.score(X_train, y_train),2))\n",
        "print('Intercept is: ', round(model.intercept_, 2))\n",
        "print('Coefficients are: ', model.coef_)"
      ],
      "id": "U9bfeZchA8az"
    },
    {
      "cell_type": "code",
      "execution_count": null,
      "metadata": {
        "id": "z1Y_A8zCA8a0",
        "outputId": "299c9916-7990-4c62-b37b-1e5f20f61b28"
      },
      "outputs": [
        {
          "data": {
            "text/html": [
              "<div>\n",
              "<style scoped>\n",
              "    .dataframe tbody tr th:only-of-type {\n",
              "        vertical-align: middle;\n",
              "    }\n",
              "\n",
              "    .dataframe tbody tr th {\n",
              "        vertical-align: top;\n",
              "    }\n",
              "\n",
              "    .dataframe thead th {\n",
              "        text-align: right;\n",
              "    }\n",
              "</style>\n",
              "<table border=\"1\" class=\"dataframe\">\n",
              "  <thead>\n",
              "    <tr style=\"text-align: right;\">\n",
              "      <th></th>\n",
              "      <th>Coefficients</th>\n",
              "      <th>Standard Errors</th>\n",
              "      <th>T-values</th>\n",
              "      <th>P-values</th>\n",
              "    </tr>\n",
              "  </thead>\n",
              "  <tbody>\n",
              "    <tr>\n",
              "      <th>0</th>\n",
              "      <td>247.6881</td>\n",
              "      <td>34.910</td>\n",
              "      <td>7.095</td>\n",
              "      <td>0.000</td>\n",
              "    </tr>\n",
              "    <tr>\n",
              "      <th>1</th>\n",
              "      <td>6.0509</td>\n",
              "      <td>0.581</td>\n",
              "      <td>10.423</td>\n",
              "      <td>0.000</td>\n",
              "    </tr>\n",
              "    <tr>\n",
              "      <th>2</th>\n",
              "      <td>-5.2090</td>\n",
              "      <td>47.352</td>\n",
              "      <td>-0.110</td>\n",
              "      <td>0.912</td>\n",
              "    </tr>\n",
              "  </tbody>\n",
              "</table>\n",
              "</div>"
            ],
            "text/plain": [
              "   Coefficients  Standard Errors  T-values  P-values\n",
              "0      247.6881           34.910     7.095     0.000\n",
              "1        6.0509            0.581    10.423     0.000\n",
              "2       -5.2090           47.352    -0.110     0.912"
            ]
          },
          "execution_count": 21,
          "metadata": {},
          "output_type": "execute_result"
        }
      ],
      "source": [
        "# By using my  preivously created Function :\n",
        "findStat()"
      ],
      "id": "z1Y_A8zCA8a0"
    },
    {
      "cell_type": "code",
      "execution_count": null,
      "metadata": {
        "id": "2zLz4MxNA8a0",
        "outputId": "824578af-7d7b-421d-9652-6e5ab4ae223e"
      },
      "outputs": [
        {
          "name": "stdout",
          "output_type": "stream",
          "text": [
            "R-squared 0.215\n",
            "MSE: 165521.12634758317\n",
            "RMSE: 406.842876732017\n",
            "MAE: 349.0330592936825\n",
            "MAX: 1099.7395799073315\n",
            "\n",
            "Accuracy model for train: 0.21\n",
            "Intercept is:  247.04\n",
            "Coefficients are:  [ 6.04794599 -1.96715398]\n"
          ]
        }
      ],
      "source": [
        "X_train = new_data[['Income','Ethnicity_Asian']]\n",
        "y_train = new_data['Balance']\n",
        "\n",
        "model = LinearRegression()\n",
        "model.fit(X_train, y_train)\n",
        "\n",
        "train_pred_3_2 = model.predict(X_train)\n",
        "showMetricsEval(y_train, train_pred_3_2)\n",
        "\n",
        "print('\\nAccuracy model for train:',round(model.score(X_train, y_train),2))\n",
        "print('Intercept is: ', round(model.intercept_, 2))\n",
        "print('Coefficients are: ', model.coef_)"
      ],
      "id": "2zLz4MxNA8a0"
    },
    {
      "cell_type": "code",
      "execution_count": null,
      "metadata": {
        "id": "dZdGdu6IA8a0",
        "outputId": "3a601103-6d2a-413c-e9b4-9f1804c97ab0"
      },
      "outputs": [
        {
          "data": {
            "text/html": [
              "<div>\n",
              "<style scoped>\n",
              "    .dataframe tbody tr th:only-of-type {\n",
              "        vertical-align: middle;\n",
              "    }\n",
              "\n",
              "    .dataframe tbody tr th {\n",
              "        vertical-align: top;\n",
              "    }\n",
              "\n",
              "    .dataframe thead th {\n",
              "        text-align: right;\n",
              "    }\n",
              "</style>\n",
              "<table border=\"1\" class=\"dataframe\">\n",
              "  <thead>\n",
              "    <tr style=\"text-align: right;\">\n",
              "      <th></th>\n",
              "      <th>Coefficients</th>\n",
              "      <th>Standard Errors</th>\n",
              "      <th>T-values</th>\n",
              "      <th>P-values</th>\n",
              "    </tr>\n",
              "  </thead>\n",
              "  <tbody>\n",
              "    <tr>\n",
              "      <th>0</th>\n",
              "      <td>247.0352</td>\n",
              "      <td>35.478</td>\n",
              "      <td>6.963</td>\n",
              "      <td>0.000</td>\n",
              "    </tr>\n",
              "    <tr>\n",
              "      <th>1</th>\n",
              "      <td>6.0479</td>\n",
              "      <td>0.580</td>\n",
              "      <td>10.425</td>\n",
              "      <td>0.000</td>\n",
              "    </tr>\n",
              "    <tr>\n",
              "      <th>2</th>\n",
              "      <td>-1.9672</td>\n",
              "      <td>46.854</td>\n",
              "      <td>-0.042</td>\n",
              "      <td>0.967</td>\n",
              "    </tr>\n",
              "  </tbody>\n",
              "</table>\n",
              "</div>"
            ],
            "text/plain": [
              "   Coefficients  Standard Errors  T-values  P-values\n",
              "0      247.0352           35.478     6.963     0.000\n",
              "1        6.0479            0.580    10.425     0.000\n",
              "2       -1.9672           46.854    -0.042     0.967"
            ]
          },
          "execution_count": 23,
          "metadata": {},
          "output_type": "execute_result"
        }
      ],
      "source": [
        "# By using my  preivously created Function :\n",
        "findStat()"
      ],
      "id": "dZdGdu6IA8a0"
    },
    {
      "cell_type": "code",
      "execution_count": null,
      "metadata": {
        "id": "MMRmp0hMA8a0",
        "outputId": "167ce994-3772-423c-e570-ab242e9190e9"
      },
      "outputs": [
        {
          "name": "stdout",
          "output_type": "stream",
          "text": [
            "R-squared 0.215\n",
            "MSE: 165514.65258383207\n",
            "RMSE: 406.834920556031\n",
            "MAE: 348.9398145052079\n",
            "MAX: 1097.5649468122601\n",
            "\n",
            "Accuracy model for train: 0.22\n",
            "Intercept is:  243.77\n",
            "Coefficients are:  [6.04986637 5.37091139]\n"
          ]
        }
      ],
      "source": [
        "X_train = new_data[['Income','Ethnicity_Caucasian']]\n",
        "y_train = new_data['Balance']\n",
        "\n",
        "model = LinearRegression()\n",
        "model.fit(X_train, y_train)\n",
        "\n",
        "train_pred_3_3 = model.predict(X_train)\n",
        "showMetricsEval(y_train, train_pred_3_3)\n",
        "\n",
        "print('\\nAccuracy model for train:',round(model.score(X_train, y_train),2))\n",
        "print('Intercept is: ', round(model.intercept_, 2))\n",
        "print('Coefficients are: ', model.coef_)"
      ],
      "id": "MMRmp0hMA8a0"
    },
    {
      "cell_type": "code",
      "execution_count": null,
      "metadata": {
        "id": "fxD-D8-PA8a0",
        "outputId": "36ad448b-4e60-4d80-db67-fc41d6f76b8a"
      },
      "outputs": [
        {
          "data": {
            "text/html": [
              "<div>\n",
              "<style scoped>\n",
              "    .dataframe tbody tr th:only-of-type {\n",
              "        vertical-align: middle;\n",
              "    }\n",
              "\n",
              "    .dataframe tbody tr th {\n",
              "        vertical-align: top;\n",
              "    }\n",
              "\n",
              "    .dataframe thead th {\n",
              "        text-align: right;\n",
              "    }\n",
              "</style>\n",
              "<table border=\"1\" class=\"dataframe\">\n",
              "  <thead>\n",
              "    <tr style=\"text-align: right;\">\n",
              "      <th></th>\n",
              "      <th>Coefficients</th>\n",
              "      <th>Standard Errors</th>\n",
              "      <th>T-values</th>\n",
              "      <th>P-values</th>\n",
              "    </tr>\n",
              "  </thead>\n",
              "  <tbody>\n",
              "    <tr>\n",
              "      <th>0</th>\n",
              "      <td>243.7748</td>\n",
              "      <td>39.232</td>\n",
              "      <td>6.214</td>\n",
              "      <td>0.000</td>\n",
              "    </tr>\n",
              "    <tr>\n",
              "      <th>1</th>\n",
              "      <td>6.0499</td>\n",
              "      <td>0.580</td>\n",
              "      <td>10.428</td>\n",
              "      <td>0.000</td>\n",
              "    </tr>\n",
              "    <tr>\n",
              "      <th>2</th>\n",
              "      <td>5.3709</td>\n",
              "      <td>40.845</td>\n",
              "      <td>0.131</td>\n",
              "      <td>0.895</td>\n",
              "    </tr>\n",
              "  </tbody>\n",
              "</table>\n",
              "</div>"
            ],
            "text/plain": [
              "   Coefficients  Standard Errors  T-values  P-values\n",
              "0      243.7748           39.232     6.214     0.000\n",
              "1        6.0499            0.580    10.428     0.000\n",
              "2        5.3709           40.845     0.131     0.895"
            ]
          },
          "execution_count": 25,
          "metadata": {},
          "output_type": "execute_result"
        }
      ],
      "source": [
        "# By using my  preivously created Function :\n",
        "findStat()"
      ],
      "id": "fxD-D8-PA8a0"
    },
    {
      "cell_type": "markdown",
      "metadata": {
        "id": "r87nTBRgA8a1"
      },
      "source": [
        "## ✤ Explanation of My findings:\n",
        "\n",
        "+ The main things that has not changed in all Models is R-squared (0.215) and Accuracy score(0.21 or 0.22).\n",
        "+ It means that with dummies and without them, the model will show the same result in Score.\n",
        "+ Other important Evaluation Metrics such as MSE,MAE rmse.\n",
        "+ Also, as the data was too small, I didn't split to train and test data,but I was thinking about it.\n",
        "+ As an example,\n",
        "+ To conclude, I want to say that with Dummy variables or without, there are almost none/small changes in Statistical scores."
      ],
      "id": "r87nTBRgA8a1"
    },
    {
      "cell_type": "markdown",
      "metadata": {
        "id": "eMXqUJQnA8a1"
      },
      "source": [
        "## Q2 (3 points)\n",
        "Build your best model to predict Balance. Do the following steps:\n",
        "1. Use 10% of data for testing set with random seed = 2021, i.e. you will get 40 observations for testing. \n",
        "2. You can use any available parameters, also you can do feature engineering. \n",
        "3. Evaluate performance of your model/models on test set and use MSE and R-squared as evaluation metrics.\n",
        "4. Describe every step you do and show obtained results at the end.\n",
        "\n",
        "*Note: if you apply (correctly) more techniques, you will get higher mark.*"
      ],
      "id": "eMXqUJQnA8a1"
    },
    {
      "cell_type": "markdown",
      "metadata": {
        "id": "hqBWKUYSA8a1"
      },
      "source": [
        "### ✤ I decided to make 3 models:\n",
        "+ 1. With all columns\n",
        "+ 2. With higly correlated columns\n",
        "+ 3. With Feature Selection"
      ],
      "id": "hqBWKUYSA8a1"
    },
    {
      "cell_type": "code",
      "execution_count": null,
      "metadata": {
        "id": "tlvIXa49A8a1",
        "outputId": "9ca00f08-e37f-4bb4-99bc-9540ca6b1b15"
      },
      "outputs": [
        {
          "data": {
            "text/html": [
              "<div>\n",
              "<style scoped>\n",
              "    .dataframe tbody tr th:only-of-type {\n",
              "        vertical-align: middle;\n",
              "    }\n",
              "\n",
              "    .dataframe tbody tr th {\n",
              "        vertical-align: top;\n",
              "    }\n",
              "\n",
              "    .dataframe thead th {\n",
              "        text-align: right;\n",
              "    }\n",
              "</style>\n",
              "<table border=\"1\" class=\"dataframe\">\n",
              "  <thead>\n",
              "    <tr style=\"text-align: right;\">\n",
              "      <th></th>\n",
              "      <th>Income</th>\n",
              "      <th>Limit</th>\n",
              "      <th>Rating</th>\n",
              "      <th>Cards</th>\n",
              "      <th>Age</th>\n",
              "      <th>Education</th>\n",
              "      <th>Gender</th>\n",
              "      <th>Student</th>\n",
              "      <th>Married</th>\n",
              "      <th>Ethnicity</th>\n",
              "      <th>Balance</th>\n",
              "    </tr>\n",
              "  </thead>\n",
              "  <tbody>\n",
              "    <tr>\n",
              "      <th>0</th>\n",
              "      <td>14.891</td>\n",
              "      <td>3606</td>\n",
              "      <td>283</td>\n",
              "      <td>2</td>\n",
              "      <td>34</td>\n",
              "      <td>11</td>\n",
              "      <td>Male</td>\n",
              "      <td>No</td>\n",
              "      <td>Yes</td>\n",
              "      <td>Caucasian</td>\n",
              "      <td>333</td>\n",
              "    </tr>\n",
              "    <tr>\n",
              "      <th>1</th>\n",
              "      <td>106.025</td>\n",
              "      <td>6645</td>\n",
              "      <td>483</td>\n",
              "      <td>3</td>\n",
              "      <td>82</td>\n",
              "      <td>15</td>\n",
              "      <td>Female</td>\n",
              "      <td>Yes</td>\n",
              "      <td>Yes</td>\n",
              "      <td>Asian</td>\n",
              "      <td>903</td>\n",
              "    </tr>\n",
              "    <tr>\n",
              "      <th>2</th>\n",
              "      <td>104.593</td>\n",
              "      <td>7075</td>\n",
              "      <td>514</td>\n",
              "      <td>4</td>\n",
              "      <td>71</td>\n",
              "      <td>11</td>\n",
              "      <td>Male</td>\n",
              "      <td>No</td>\n",
              "      <td>No</td>\n",
              "      <td>Asian</td>\n",
              "      <td>580</td>\n",
              "    </tr>\n",
              "    <tr>\n",
              "      <th>3</th>\n",
              "      <td>148.924</td>\n",
              "      <td>9504</td>\n",
              "      <td>681</td>\n",
              "      <td>3</td>\n",
              "      <td>36</td>\n",
              "      <td>11</td>\n",
              "      <td>Female</td>\n",
              "      <td>No</td>\n",
              "      <td>No</td>\n",
              "      <td>Asian</td>\n",
              "      <td>964</td>\n",
              "    </tr>\n",
              "    <tr>\n",
              "      <th>4</th>\n",
              "      <td>55.882</td>\n",
              "      <td>4897</td>\n",
              "      <td>357</td>\n",
              "      <td>2</td>\n",
              "      <td>68</td>\n",
              "      <td>16</td>\n",
              "      <td>Male</td>\n",
              "      <td>No</td>\n",
              "      <td>Yes</td>\n",
              "      <td>Caucasian</td>\n",
              "      <td>331</td>\n",
              "    </tr>\n",
              "  </tbody>\n",
              "</table>\n",
              "</div>"
            ],
            "text/plain": [
              "    Income  Limit  Rating  Cards  Age  Education  Gender Student Married  \\\n",
              "0   14.891   3606     283      2   34         11    Male      No     Yes   \n",
              "1  106.025   6645     483      3   82         15  Female     Yes     Yes   \n",
              "2  104.593   7075     514      4   71         11    Male      No      No   \n",
              "3  148.924   9504     681      3   36         11  Female      No      No   \n",
              "4   55.882   4897     357      2   68         16    Male      No     Yes   \n",
              "\n",
              "   Ethnicity  Balance  \n",
              "0  Caucasian      333  \n",
              "1      Asian      903  \n",
              "2      Asian      580  \n",
              "3      Asian      964  \n",
              "4  Caucasian      331  "
            ]
          },
          "execution_count": 26,
          "metadata": {},
          "output_type": "execute_result"
        }
      ],
      "source": [
        "data = pd.read_csv('Credit.csv')\n",
        "\n",
        "data.head()"
      ],
      "id": "tlvIXa49A8a1"
    },
    {
      "cell_type": "markdown",
      "metadata": {
        "id": "wrn5Jj5uA8a1"
      },
      "source": [
        "### ✤ Data preparation:\n",
        "+ As we can see that there are some Categorical columns, we should encode them into numeric:"
      ],
      "id": "wrn5Jj5uA8a1"
    },
    {
      "cell_type": "code",
      "execution_count": null,
      "metadata": {
        "id": "gw4HyX9tA8a1",
        "outputId": "55ca757b-4f7f-43cc-ae2d-dae2e15a6f8d"
      },
      "outputs": [
        {
          "data": {
            "text/html": [
              "<div>\n",
              "<style scoped>\n",
              "    .dataframe tbody tr th:only-of-type {\n",
              "        vertical-align: middle;\n",
              "    }\n",
              "\n",
              "    .dataframe tbody tr th {\n",
              "        vertical-align: top;\n",
              "    }\n",
              "\n",
              "    .dataframe thead th {\n",
              "        text-align: right;\n",
              "    }\n",
              "</style>\n",
              "<table border=\"1\" class=\"dataframe\">\n",
              "  <thead>\n",
              "    <tr style=\"text-align: right;\">\n",
              "      <th></th>\n",
              "      <th>Income</th>\n",
              "      <th>Limit</th>\n",
              "      <th>Rating</th>\n",
              "      <th>Cards</th>\n",
              "      <th>Age</th>\n",
              "      <th>Education</th>\n",
              "      <th>Gender</th>\n",
              "      <th>Student</th>\n",
              "      <th>Married</th>\n",
              "      <th>Ethnicity</th>\n",
              "      <th>Balance</th>\n",
              "    </tr>\n",
              "  </thead>\n",
              "  <tbody>\n",
              "    <tr>\n",
              "      <th>0</th>\n",
              "      <td>14.891</td>\n",
              "      <td>3606</td>\n",
              "      <td>283</td>\n",
              "      <td>2</td>\n",
              "      <td>34</td>\n",
              "      <td>11</td>\n",
              "      <td>0</td>\n",
              "      <td>0</td>\n",
              "      <td>1</td>\n",
              "      <td>2</td>\n",
              "      <td>333</td>\n",
              "    </tr>\n",
              "    <tr>\n",
              "      <th>1</th>\n",
              "      <td>106.025</td>\n",
              "      <td>6645</td>\n",
              "      <td>483</td>\n",
              "      <td>3</td>\n",
              "      <td>82</td>\n",
              "      <td>15</td>\n",
              "      <td>1</td>\n",
              "      <td>1</td>\n",
              "      <td>1</td>\n",
              "      <td>1</td>\n",
              "      <td>903</td>\n",
              "    </tr>\n",
              "    <tr>\n",
              "      <th>2</th>\n",
              "      <td>104.593</td>\n",
              "      <td>7075</td>\n",
              "      <td>514</td>\n",
              "      <td>4</td>\n",
              "      <td>71</td>\n",
              "      <td>11</td>\n",
              "      <td>0</td>\n",
              "      <td>0</td>\n",
              "      <td>0</td>\n",
              "      <td>1</td>\n",
              "      <td>580</td>\n",
              "    </tr>\n",
              "    <tr>\n",
              "      <th>3</th>\n",
              "      <td>148.924</td>\n",
              "      <td>9504</td>\n",
              "      <td>681</td>\n",
              "      <td>3</td>\n",
              "      <td>36</td>\n",
              "      <td>11</td>\n",
              "      <td>1</td>\n",
              "      <td>0</td>\n",
              "      <td>0</td>\n",
              "      <td>1</td>\n",
              "      <td>964</td>\n",
              "    </tr>\n",
              "    <tr>\n",
              "      <th>4</th>\n",
              "      <td>55.882</td>\n",
              "      <td>4897</td>\n",
              "      <td>357</td>\n",
              "      <td>2</td>\n",
              "      <td>68</td>\n",
              "      <td>16</td>\n",
              "      <td>0</td>\n",
              "      <td>0</td>\n",
              "      <td>1</td>\n",
              "      <td>2</td>\n",
              "      <td>331</td>\n",
              "    </tr>\n",
              "  </tbody>\n",
              "</table>\n",
              "</div>"
            ],
            "text/plain": [
              "    Income  Limit  Rating  Cards  Age  Education  Gender  Student  Married  \\\n",
              "0   14.891   3606     283      2   34         11       0        0        1   \n",
              "1  106.025   6645     483      3   82         15       1        1        1   \n",
              "2  104.593   7075     514      4   71         11       0        0        0   \n",
              "3  148.924   9504     681      3   36         11       1        0        0   \n",
              "4   55.882   4897     357      2   68         16       0        0        1   \n",
              "\n",
              "   Ethnicity  Balance  \n",
              "0          2      333  \n",
              "1          1      903  \n",
              "2          1      580  \n",
              "3          1      964  \n",
              "4          2      331  "
            ]
          },
          "execution_count": 27,
          "metadata": {},
          "output_type": "execute_result"
        }
      ],
      "source": [
        "label_en = LabelEncoder()\n",
        "\n",
        "data['Gender'] = label_en.fit_transform(data['Gender'].astype(str))\n",
        "data['Student'] = label_en.fit_transform(data['Student'].astype(str))\n",
        "data['Married'] = label_en.fit_transform(data['Married'].astype(str))\n",
        "data['Ethnicity'] = label_en.fit_transform(data['Ethnicity'].astype(str))\n",
        "\n",
        "data.head()"
      ],
      "id": "gw4HyX9tA8a1"
    },
    {
      "cell_type": "code",
      "execution_count": null,
      "metadata": {
        "id": "bx08cM_nA8a1"
      },
      "outputs": [],
      "source": [
        "# In case if need to Normalize the dataset:\n",
        "# from sklearn.preprocessing import StandardScaler\n",
        "\n",
        "# scaler = StandardScaler().fit(data)\n",
        "# standardizedData = scaler.transform(data)\n",
        "# standardizedData = pd.DataFrame(standardizedData, index = data.index, columns = data.columns)\n",
        "# standardizedData"
      ],
      "id": "bx08cM_nA8a1"
    },
    {
      "cell_type": "code",
      "execution_count": null,
      "metadata": {
        "id": "2z06naDYA8a1",
        "outputId": "05e812c2-7243-495c-9399-fdeaa7b78e90"
      },
      "outputs": [
        {
          "data": {
            "text/html": [
              "<div>\n",
              "<style scoped>\n",
              "    .dataframe tbody tr th:only-of-type {\n",
              "        vertical-align: middle;\n",
              "    }\n",
              "\n",
              "    .dataframe tbody tr th {\n",
              "        vertical-align: top;\n",
              "    }\n",
              "\n",
              "    .dataframe thead th {\n",
              "        text-align: right;\n",
              "    }\n",
              "</style>\n",
              "<table border=\"1\" class=\"dataframe\">\n",
              "  <thead>\n",
              "    <tr style=\"text-align: right;\">\n",
              "      <th></th>\n",
              "      <th>Income</th>\n",
              "      <th>Limit</th>\n",
              "      <th>Rating</th>\n",
              "      <th>Cards</th>\n",
              "      <th>Age</th>\n",
              "      <th>Education</th>\n",
              "      <th>Gender</th>\n",
              "      <th>Student</th>\n",
              "      <th>Married</th>\n",
              "      <th>Ethnicity</th>\n",
              "      <th>Balance</th>\n",
              "    </tr>\n",
              "  </thead>\n",
              "  <tbody>\n",
              "    <tr>\n",
              "      <th>Income</th>\n",
              "      <td>1.000000</td>\n",
              "      <td>0.792088</td>\n",
              "      <td>0.791378</td>\n",
              "      <td>-0.018273</td>\n",
              "      <td>0.175338</td>\n",
              "      <td>-0.027692</td>\n",
              "      <td>-0.010738</td>\n",
              "      <td>0.019632</td>\n",
              "      <td>0.035652</td>\n",
              "      <td>-0.032888</td>\n",
              "      <td>0.463656</td>\n",
              "    </tr>\n",
              "    <tr>\n",
              "      <th>Limit</th>\n",
              "      <td>0.792088</td>\n",
              "      <td>1.000000</td>\n",
              "      <td>0.996880</td>\n",
              "      <td>0.010231</td>\n",
              "      <td>0.100888</td>\n",
              "      <td>-0.023549</td>\n",
              "      <td>0.009397</td>\n",
              "      <td>-0.006015</td>\n",
              "      <td>0.031155</td>\n",
              "      <td>-0.020837</td>\n",
              "      <td>0.861697</td>\n",
              "    </tr>\n",
              "    <tr>\n",
              "      <th>Rating</th>\n",
              "      <td>0.791378</td>\n",
              "      <td>0.996880</td>\n",
              "      <td>1.000000</td>\n",
              "      <td>0.053239</td>\n",
              "      <td>0.103165</td>\n",
              "      <td>-0.030136</td>\n",
              "      <td>0.008885</td>\n",
              "      <td>-0.002028</td>\n",
              "      <td>0.036751</td>\n",
              "      <td>-0.020288</td>\n",
              "      <td>0.863625</td>\n",
              "    </tr>\n",
              "    <tr>\n",
              "      <th>Cards</th>\n",
              "      <td>-0.018273</td>\n",
              "      <td>0.010231</td>\n",
              "      <td>0.053239</td>\n",
              "      <td>1.000000</td>\n",
              "      <td>0.042948</td>\n",
              "      <td>-0.051084</td>\n",
              "      <td>-0.022658</td>\n",
              "      <td>-0.026164</td>\n",
              "      <td>-0.009695</td>\n",
              "      <td>-0.003867</td>\n",
              "      <td>0.086456</td>\n",
              "    </tr>\n",
              "    <tr>\n",
              "      <th>Age</th>\n",
              "      <td>0.175338</td>\n",
              "      <td>0.100888</td>\n",
              "      <td>0.103165</td>\n",
              "      <td>0.042948</td>\n",
              "      <td>1.000000</td>\n",
              "      <td>0.003619</td>\n",
              "      <td>0.004015</td>\n",
              "      <td>-0.029844</td>\n",
              "      <td>-0.073136</td>\n",
              "      <td>-0.032451</td>\n",
              "      <td>0.001835</td>\n",
              "    </tr>\n",
              "    <tr>\n",
              "      <th>Education</th>\n",
              "      <td>-0.027692</td>\n",
              "      <td>-0.023549</td>\n",
              "      <td>-0.030136</td>\n",
              "      <td>-0.051084</td>\n",
              "      <td>0.003619</td>\n",
              "      <td>1.000000</td>\n",
              "      <td>-0.005049</td>\n",
              "      <td>0.072085</td>\n",
              "      <td>0.048911</td>\n",
              "      <td>-0.030055</td>\n",
              "      <td>-0.008062</td>\n",
              "    </tr>\n",
              "    <tr>\n",
              "      <th>Gender</th>\n",
              "      <td>-0.010738</td>\n",
              "      <td>0.009397</td>\n",
              "      <td>0.008885</td>\n",
              "      <td>-0.022658</td>\n",
              "      <td>0.004015</td>\n",
              "      <td>-0.005049</td>\n",
              "      <td>1.000000</td>\n",
              "      <td>0.055034</td>\n",
              "      <td>0.012452</td>\n",
              "      <td>0.001514</td>\n",
              "      <td>0.021474</td>\n",
              "    </tr>\n",
              "    <tr>\n",
              "      <th>Student</th>\n",
              "      <td>0.019632</td>\n",
              "      <td>-0.006015</td>\n",
              "      <td>-0.002028</td>\n",
              "      <td>-0.026164</td>\n",
              "      <td>-0.029844</td>\n",
              "      <td>0.072085</td>\n",
              "      <td>0.055034</td>\n",
              "      <td>1.000000</td>\n",
              "      <td>-0.076974</td>\n",
              "      <td>-0.030261</td>\n",
              "      <td>0.259018</td>\n",
              "    </tr>\n",
              "    <tr>\n",
              "      <th>Married</th>\n",
              "      <td>0.035652</td>\n",
              "      <td>0.031155</td>\n",
              "      <td>0.036751</td>\n",
              "      <td>-0.009695</td>\n",
              "      <td>-0.073136</td>\n",
              "      <td>0.048911</td>\n",
              "      <td>0.012452</td>\n",
              "      <td>-0.076974</td>\n",
              "      <td>1.000000</td>\n",
              "      <td>0.060563</td>\n",
              "      <td>-0.005673</td>\n",
              "    </tr>\n",
              "    <tr>\n",
              "      <th>Ethnicity</th>\n",
              "      <td>-0.032888</td>\n",
              "      <td>-0.020837</td>\n",
              "      <td>-0.020288</td>\n",
              "      <td>-0.003867</td>\n",
              "      <td>-0.032451</td>\n",
              "      <td>-0.030055</td>\n",
              "      <td>0.001514</td>\n",
              "      <td>-0.030261</td>\n",
              "      <td>0.060563</td>\n",
              "      <td>1.000000</td>\n",
              "      <td>-0.009157</td>\n",
              "    </tr>\n",
              "    <tr>\n",
              "      <th>Balance</th>\n",
              "      <td>0.463656</td>\n",
              "      <td>0.861697</td>\n",
              "      <td>0.863625</td>\n",
              "      <td>0.086456</td>\n",
              "      <td>0.001835</td>\n",
              "      <td>-0.008062</td>\n",
              "      <td>0.021474</td>\n",
              "      <td>0.259018</td>\n",
              "      <td>-0.005673</td>\n",
              "      <td>-0.009157</td>\n",
              "      <td>1.000000</td>\n",
              "    </tr>\n",
              "  </tbody>\n",
              "</table>\n",
              "</div>"
            ],
            "text/plain": [
              "             Income     Limit    Rating     Cards       Age  Education  \\\n",
              "Income     1.000000  0.792088  0.791378 -0.018273  0.175338  -0.027692   \n",
              "Limit      0.792088  1.000000  0.996880  0.010231  0.100888  -0.023549   \n",
              "Rating     0.791378  0.996880  1.000000  0.053239  0.103165  -0.030136   \n",
              "Cards     -0.018273  0.010231  0.053239  1.000000  0.042948  -0.051084   \n",
              "Age        0.175338  0.100888  0.103165  0.042948  1.000000   0.003619   \n",
              "Education -0.027692 -0.023549 -0.030136 -0.051084  0.003619   1.000000   \n",
              "Gender    -0.010738  0.009397  0.008885 -0.022658  0.004015  -0.005049   \n",
              "Student    0.019632 -0.006015 -0.002028 -0.026164 -0.029844   0.072085   \n",
              "Married    0.035652  0.031155  0.036751 -0.009695 -0.073136   0.048911   \n",
              "Ethnicity -0.032888 -0.020837 -0.020288 -0.003867 -0.032451  -0.030055   \n",
              "Balance    0.463656  0.861697  0.863625  0.086456  0.001835  -0.008062   \n",
              "\n",
              "             Gender   Student   Married  Ethnicity   Balance  \n",
              "Income    -0.010738  0.019632  0.035652  -0.032888  0.463656  \n",
              "Limit      0.009397 -0.006015  0.031155  -0.020837  0.861697  \n",
              "Rating     0.008885 -0.002028  0.036751  -0.020288  0.863625  \n",
              "Cards     -0.022658 -0.026164 -0.009695  -0.003867  0.086456  \n",
              "Age        0.004015 -0.029844 -0.073136  -0.032451  0.001835  \n",
              "Education -0.005049  0.072085  0.048911  -0.030055 -0.008062  \n",
              "Gender     1.000000  0.055034  0.012452   0.001514  0.021474  \n",
              "Student    0.055034  1.000000 -0.076974  -0.030261  0.259018  \n",
              "Married    0.012452 -0.076974  1.000000   0.060563 -0.005673  \n",
              "Ethnicity  0.001514 -0.030261  0.060563   1.000000 -0.009157  \n",
              "Balance    0.021474  0.259018 -0.005673  -0.009157  1.000000  "
            ]
          },
          "execution_count": 29,
          "metadata": {},
          "output_type": "execute_result"
        }
      ],
      "source": [
        "# See a Correlation Matrix in a form of plot or in dataframe:\n",
        "data.corr() \n",
        "# Not easy to Find out which columns have strong Correlation:"
      ],
      "id": "2z06naDYA8a1"
    },
    {
      "cell_type": "markdown",
      "metadata": {
        "id": "M8Wh63SFA8a2"
      },
      "source": [
        "### ✤ In order to check and see, which columns have higher Correlation value with Our Target column:"
      ],
      "id": "M8Wh63SFA8a2"
    },
    {
      "cell_type": "code",
      "execution_count": null,
      "metadata": {
        "id": "malydo7XA8a2",
        "outputId": "2c5ec3db-d7b8-4616-90e3-b5b9715a9bcb"
      },
      "outputs": [
        {
          "data": {
            "text/html": [
              "<div>\n",
              "<style scoped>\n",
              "    .dataframe tbody tr th:only-of-type {\n",
              "        vertical-align: middle;\n",
              "    }\n",
              "\n",
              "    .dataframe tbody tr th {\n",
              "        vertical-align: top;\n",
              "    }\n",
              "\n",
              "    .dataframe thead th {\n",
              "        text-align: right;\n",
              "    }\n",
              "</style>\n",
              "<table border=\"1\" class=\"dataframe\">\n",
              "  <thead>\n",
              "    <tr style=\"text-align: right;\">\n",
              "      <th></th>\n",
              "      <th>Correlation</th>\n",
              "    </tr>\n",
              "  </thead>\n",
              "  <tbody>\n",
              "    <tr>\n",
              "      <th>Balance</th>\n",
              "      <td>1.000000</td>\n",
              "    </tr>\n",
              "    <tr>\n",
              "      <th>Rating</th>\n",
              "      <td>0.863625</td>\n",
              "    </tr>\n",
              "    <tr>\n",
              "      <th>Limit</th>\n",
              "      <td>0.861697</td>\n",
              "    </tr>\n",
              "    <tr>\n",
              "      <th>Income</th>\n",
              "      <td>0.463656</td>\n",
              "    </tr>\n",
              "    <tr>\n",
              "      <th>Student</th>\n",
              "      <td>0.259018</td>\n",
              "    </tr>\n",
              "    <tr>\n",
              "      <th>Cards</th>\n",
              "      <td>0.086456</td>\n",
              "    </tr>\n",
              "    <tr>\n",
              "      <th>Gender</th>\n",
              "      <td>0.021474</td>\n",
              "    </tr>\n",
              "    <tr>\n",
              "      <th>Age</th>\n",
              "      <td>0.001835</td>\n",
              "    </tr>\n",
              "    <tr>\n",
              "      <th>Married</th>\n",
              "      <td>-0.005673</td>\n",
              "    </tr>\n",
              "    <tr>\n",
              "      <th>Education</th>\n",
              "      <td>-0.008062</td>\n",
              "    </tr>\n",
              "    <tr>\n",
              "      <th>Ethnicity</th>\n",
              "      <td>-0.009157</td>\n",
              "    </tr>\n",
              "  </tbody>\n",
              "</table>\n",
              "</div>"
            ],
            "text/plain": [
              "           Correlation\n",
              "Balance       1.000000\n",
              "Rating        0.863625\n",
              "Limit         0.861697\n",
              "Income        0.463656\n",
              "Student       0.259018\n",
              "Cards         0.086456\n",
              "Gender        0.021474\n",
              "Age           0.001835\n",
              "Married      -0.005673\n",
              "Education    -0.008062\n",
              "Ethnicity    -0.009157"
            ]
          },
          "execution_count": 30,
          "metadata": {},
          "output_type": "execute_result"
        }
      ],
      "source": [
        "# convert series to dataframe so it can be sorted\n",
        "correlation = data.corr()['Balance']\n",
        "correlation_df = pd.DataFrame(correlation)\n",
        "# correct column label from Balance to correlation\n",
        "correlation_df.columns = [\"Correlation\"]\n",
        "# sort correlation\n",
        "corr_sorted = correlation_df.sort_values(by=['Correlation'], ascending=False)\n",
        "corr_sorted"
      ],
      "id": "malydo7XA8a2"
    },
    {
      "cell_type": "markdown",
      "metadata": {
        "id": "jNITyxBcA8a2"
      },
      "source": [
        "## ✤ First Model- Linear Regression, created with all columns:"
      ],
      "id": "jNITyxBcA8a2"
    },
    {
      "cell_type": "code",
      "execution_count": null,
      "metadata": {
        "id": "bPcSqCI6A8a2",
        "outputId": "3f0cdd2a-1e7e-416c-cd08-6e35c053427b"
      },
      "outputs": [
        {
          "name": "stdout",
          "output_type": "stream",
          "text": [
            "(360, 10)\n",
            "(40, 10)\n",
            "(360,)\n",
            "(40,)\n"
          ]
        }
      ],
      "source": [
        "# STEP-1:\n",
        "X = data.drop(\"Balance\", axis = 1) # All columns except this column.\n",
        "y = data[\"Balance\"] # Only this column\n",
        "\n",
        "X_train, X_test, y_train, y_test = train_test_split(X, y, test_size=0.1, random_state=2021)\n",
        "\n",
        "print(X_train.shape)\n",
        "print(X_test.shape)\n",
        "print(y_train.shape)\n",
        "print(y_test.shape)"
      ],
      "id": "bPcSqCI6A8a2"
    },
    {
      "cell_type": "code",
      "execution_count": null,
      "metadata": {
        "id": "W8FtBZSXA8a2",
        "outputId": "7ab2ab53-35a8-470a-b436-56becdb6a90b"
      },
      "outputs": [
        {
          "name": "stdout",
          "output_type": "stream",
          "text": [
            "Intercept of the model: -468.64334\n"
          ]
        }
      ],
      "source": [
        "model_lin_reg = LinearRegression().fit(X_train,y_train)\n",
        "print('Intercept of the model:', np.round(model_lin_reg.intercept_,5))"
      ],
      "id": "W8FtBZSXA8a2"
    },
    {
      "cell_type": "code",
      "execution_count": null,
      "metadata": {
        "id": "UAAh1S_FA8a2",
        "outputId": "7a582f25-c165-4ba6-d2ab-473b1a61a8f6"
      },
      "outputs": [
        {
          "data": {
            "text/html": [
              "<div>\n",
              "<style scoped>\n",
              "    .dataframe tbody tr th:only-of-type {\n",
              "        vertical-align: middle;\n",
              "    }\n",
              "\n",
              "    .dataframe tbody tr th {\n",
              "        vertical-align: top;\n",
              "    }\n",
              "\n",
              "    .dataframe thead th {\n",
              "        text-align: right;\n",
              "    }\n",
              "</style>\n",
              "<table border=\"1\" class=\"dataframe\">\n",
              "  <thead>\n",
              "    <tr style=\"text-align: right;\">\n",
              "      <th></th>\n",
              "      <th>Coefficient</th>\n",
              "    </tr>\n",
              "  </thead>\n",
              "  <tbody>\n",
              "    <tr>\n",
              "      <th>Income</th>\n",
              "      <td>-7.786658</td>\n",
              "    </tr>\n",
              "    <tr>\n",
              "      <th>Limit</th>\n",
              "      <td>0.183377</td>\n",
              "    </tr>\n",
              "    <tr>\n",
              "      <th>Rating</th>\n",
              "      <td>1.234905</td>\n",
              "    </tr>\n",
              "    <tr>\n",
              "      <th>Cards</th>\n",
              "      <td>16.845494</td>\n",
              "    </tr>\n",
              "    <tr>\n",
              "      <th>Age</th>\n",
              "      <td>-0.610406</td>\n",
              "    </tr>\n",
              "    <tr>\n",
              "      <th>Education</th>\n",
              "      <td>-1.130660</td>\n",
              "    </tr>\n",
              "    <tr>\n",
              "      <th>Gender</th>\n",
              "      <td>-15.193500</td>\n",
              "    </tr>\n",
              "    <tr>\n",
              "      <th>Student</th>\n",
              "      <td>428.150079</td>\n",
              "    </tr>\n",
              "    <tr>\n",
              "      <th>Married</th>\n",
              "      <td>-6.843849</td>\n",
              "    </tr>\n",
              "    <tr>\n",
              "      <th>Ethnicity</th>\n",
              "      <td>3.291397</td>\n",
              "    </tr>\n",
              "  </tbody>\n",
              "</table>\n",
              "</div>"
            ],
            "text/plain": [
              "           Coefficient\n",
              "Income       -7.786658\n",
              "Limit         0.183377\n",
              "Rating        1.234905\n",
              "Cards        16.845494\n",
              "Age          -0.610406\n",
              "Education    -1.130660\n",
              "Gender      -15.193500\n",
              "Student     428.150079\n",
              "Married      -6.843849\n",
              "Ethnicity     3.291397"
            ]
          },
          "execution_count": 33,
          "metadata": {},
          "output_type": "execute_result"
        }
      ],
      "source": [
        "coef_df = pd.DataFrame(model_lin_reg.coef_, X.columns, columns=['Coefficient'])\n",
        "coef_df"
      ],
      "id": "UAAh1S_FA8a2"
    },
    {
      "cell_type": "code",
      "execution_count": null,
      "metadata": {
        "id": "XfOHAQlXA8a3",
        "outputId": "7348f381-85e3-4ff3-b7aa-fa16e67fe18b"
      },
      "outputs": [
        {
          "name": "stdout",
          "output_type": "stream",
          "text": [
            "R-squared: 0.961\n",
            "MSE: 87.141\n"
          ]
        }
      ],
      "source": [
        "test_pred = model_lin_reg.predict(X_test)\n",
        "print('R-squared:', round(metrics.r2_score(y_test, test_pred), 3))\n",
        "print('MSE:', round(metrics.mean_squared_error(y_test, test_pred, squared=False), 3))"
      ],
      "id": "XfOHAQlXA8a3"
    },
    {
      "cell_type": "markdown",
      "metadata": {
        "id": "8NNBS_quA8a3"
      },
      "source": [
        "+ According to evaluation of R-squared of model in testing data, I can say that 96.1% of variation in the Balance can be explained by the explanatory variables used in the model, which is very high. I suppose that it is the best model:)"
      ],
      "id": "8NNBS_quA8a3"
    },
    {
      "cell_type": "markdown",
      "metadata": {
        "id": "ngsKJC4dA8a3"
      },
      "source": [
        "## ✤Second Model-Linear Regression,created with highly correlated columns with Balance\n",
        "+ As I have find them before, they are : Rating, Limit, Income, Student.\n",
        "+ other columns were relatively low correlated with Balance."
      ],
      "id": "ngsKJC4dA8a3"
    },
    {
      "cell_type": "code",
      "execution_count": null,
      "metadata": {
        "id": "Z-6wwpfZA8a3",
        "outputId": "6d00f4c2-a7b4-4a66-a571-c0535d4afa5c"
      },
      "outputs": [
        {
          "name": "stdout",
          "output_type": "stream",
          "text": [
            "(360, 4)\n",
            "(40, 4)\n",
            "(360,)\n",
            "(40,)\n"
          ]
        }
      ],
      "source": [
        "# STEP-1:\n",
        "X = data[['Rating','Limit','Income','Student']] \n",
        "y = data[\"Balance\"] # Only this column\n",
        "\n",
        "X_train, X_test, y_train, y_test = train_test_split(X, y, test_size=0.1, random_state=2021)\n",
        "\n",
        "print(X_train.shape)\n",
        "print(X_test.shape)\n",
        "print(y_train.shape)\n",
        "print(y_test.shape)"
      ],
      "id": "Z-6wwpfZA8a3"
    },
    {
      "cell_type": "code",
      "execution_count": null,
      "metadata": {
        "id": "lUAvvaG1A8a3",
        "outputId": "1a0f4b7a-c1e5-4c90-a7dc-9c7088c120a9"
      },
      "outputs": [
        {
          "name": "stdout",
          "output_type": "stream",
          "text": [
            "Intercept of the model: -515.67547\n"
          ]
        }
      ],
      "source": [
        "model_lin_reg = LinearRegression().fit(X_train,y_train)\n",
        "print('Intercept of the model:', np.round(model_lin_reg.intercept_,5))"
      ],
      "id": "lUAvvaG1A8a3"
    },
    {
      "cell_type": "code",
      "execution_count": null,
      "metadata": {
        "id": "wZwJXEG8A8a3",
        "outputId": "7bac251e-9f2a-40f4-f867-e4469ab11a16"
      },
      "outputs": [
        {
          "name": "stdout",
          "output_type": "stream",
          "text": [
            "R-squared: 0.958\n",
            "MSE: 90.853\n"
          ]
        }
      ],
      "source": [
        "test_pred = model_lin_reg.predict(X_test)\n",
        "print('R-squared:', round(metrics.r2_score(y_test, test_pred), 3))\n",
        "print('MSE:', round(metrics.mean_squared_error(y_test, test_pred, squared=False), 3))"
      ],
      "id": "wZwJXEG8A8a3"
    },
    {
      "cell_type": "markdown",
      "metadata": {
        "id": "EluFuksXA8a3"
      },
      "source": [
        "+ According to evaluation of R-squared of model in testing data, I can say that 95.8% of variation in the Balance can be explained by the explanatory variables used in the model, which is very high.\n",
        "+ Evaluation metrics a little bit differs from previous model."
      ],
      "id": "EluFuksXA8a3"
    },
    {
      "cell_type": "markdown",
      "metadata": {
        "id": "efs3gD-HA8a4"
      },
      "source": [
        "### ✤ Third Model with Feature Selection of choosing best columns:\n",
        "+  with Recursive Feature Elimination"
      ],
      "id": "efs3gD-HA8a4"
    },
    {
      "cell_type": "code",
      "execution_count": null,
      "metadata": {
        "id": "pVKYCpmXA8a4"
      },
      "outputs": [],
      "source": [
        "X = data.drop(\"Balance\", axis = 1) # All columns except this column.\n",
        "y = data[\"Balance\"] # Only this column\n",
        "\n",
        "X_train, X_test, y_train, y_test = train_test_split(X, y, test_size=0.1, random_state=2021)\n",
        "\n",
        "rfe_gb = RFE(estimator=GradientBoostingRegressor())\n",
        "\n",
        "rfe_gb.fit(X_train, y_train)\n",
        "# transform train input data\n",
        "X_train_grb = rfe_gb.transform(X_train)\n",
        "# transform test input data\n",
        "X_test_grb = rfe_gb.transform(X_test)"
      ],
      "id": "pVKYCpmXA8a4"
    },
    {
      "cell_type": "code",
      "execution_count": null,
      "metadata": {
        "id": "3etSOSmJA8a4",
        "outputId": "3d98aac9-a868-463a-b839-83e8803a206f"
      },
      "outputs": [
        {
          "name": "stdout",
          "output_type": "stream",
          "text": [
            "Num Features: 5\n",
            "Selected Features: [ True  True  True False  True False False  True False False]\n",
            "Feature Ranking: [1 1 1 2 1 4 5 1 3 6]\n"
          ]
        }
      ],
      "source": [
        "print(\"Num Features: %d\" % rfe_gb.n_features_)\n",
        "print(\"Selected Features: %s\" % rfe_gb.support_)\n",
        "print(\"Feature Ranking: %s\" % rfe_gb.ranking_)"
      ],
      "id": "3etSOSmJA8a4"
    },
    {
      "cell_type": "code",
      "execution_count": null,
      "metadata": {
        "id": "qKYcm99xA8a4",
        "outputId": "3be46bde-08f7-475f-8db4-b83abace7f47"
      },
      "outputs": [
        {
          "name": "stdout",
          "output_type": "stream",
          "text": [
            "With Feature Selection -Score is =>  0.9722647092243117\n"
          ]
        }
      ],
      "source": [
        "#  Model with SELECTION:\n",
        "model_recfel3 = GradientBoostingRegressor().fit(X_train_grb, y_train)\n",
        "# evaluate the model\n",
        "print('With Feature Selection -Score is => ', model_recfel3.score(X_test_grb, y_test))"
      ],
      "id": "qKYcm99xA8a4"
    },
    {
      "cell_type": "code",
      "execution_count": null,
      "metadata": {
        "id": "KTvD7cjCA8a4",
        "outputId": "f5f577d1-f794-4c1e-bf21-331a90934b2c"
      },
      "outputs": [
        {
          "name": "stdout",
          "output_type": "stream",
          "text": [
            "R-squared 0.972\n",
            "MSE: 5432.329027362661\n",
            "RMSE: 73.70433520060175\n",
            "MAE: 59.72073438008815\n",
            "MAX: 226.80147710837844\n"
          ]
        }
      ],
      "source": [
        "# WITH feature selection evaluation:\n",
        "test_pred_3 = model_recfel3.predict(X_test_grb)\n",
        "# showing metrics by using my preivous function:\n",
        "showMetricsEval(y_test, test_pred_3)"
      ],
      "id": "KTvD7cjCA8a4"
    },
    {
      "cell_type": "markdown",
      "metadata": {
        "id": "9oU31otLA8a4"
      },
      "source": [
        "| **Summary Evaluation Metrics of 3 Models** |\n",
        "\n",
        "|         | Model_1 | Model_2  | Model_3   \n",
        "|:-------:|:-------:|:--------:|:----------------------\n",
        "|R-squared| 0.961   |   0.958  |      0.972\n",
        "|:-------:|:-------:|:--------:|:----------------------\n",
        "|MSE      | 87.141  |  90.853  |   5421.02  \n"
      ],
      "id": "9oU31otLA8a4"
    },
    {
      "cell_type": "markdown",
      "metadata": {
        "id": "fjUr1GaxA8a4"
      },
      "source": [
        "### ✤ Conclusion\n",
        "\n",
        "+ To conclude, we usually use MSE and R-Squared, because they are used metrics to evaluate the prediction error rates and model performance in Regression analysis.\n",
        "\n",
        "\n",
        "+ All 3 Models have the highest R-square score for the testing data.More than 95 % percentage.\n",
        "+ As I know, the R-squared is a statistic that only applies to linear regression.\n",
        "+ According to the R^2 metric provides an indication of the goodness of fit of a set of predictions of 3 models.\n",
        "\n",
        "\n",
        "+ It means that higher R-squared values represent smaller differences between the predicted and actual data values.\n",
        "+ It is not so good, because there can be  all  variation in the response variable around its mean.\n",
        "+ Finally, the higher R^2 metric, the more and better my regression model fits the observations.\n",
        "+ I suppose that, there is an Overfitting of the Models, because it shows deceptively high R-squared values and a decreased capability for precise predictions.\n",
        "\n",
        "\n",
        "+ About, MSE metric,Mean squared error, is mean or average of the squared differences between predicted and expected target values.\n",
        "+ As we can see from above table, in Model-1 and 2,scores for MSE are quite close,both of them were found by Linear Regression.\n",
        "+ But in Model_3, the MSE, is too large. It is not good.\n",
        "+ In general,in perfect way, the MSE metric should be around 0, which means that all predictions matched with expected values exactly. \n",
        "+  But in my case, MSE is relatively good in both Models 1 and 2."
      ],
      "id": "fjUr1GaxA8a4"
    },
    {
      "cell_type": "markdown",
      "metadata": {
        "id": "6n2I1Mv8A8a4"
      },
      "source": [
        "---\n",
        "\n",
        "### Evaluation\n",
        "\n",
        "| Question | Mark     | Comment   \n",
        "|:-------:|:--------:|:----------------------\n",
        "| 1       |   1.5/2    |     \n",
        "| 2       |   3/3    | \n",
        "|**Total**|**4.5/5**  | \n"
      ],
      "id": "6n2I1Mv8A8a4"
    }
  ],
  "metadata": {
    "kernelspec": {
      "display_name": "Python 3",
      "language": "python",
      "name": "python3"
    },
    "language_info": {
      "codemirror_mode": {
        "name": "ipython",
        "version": 3
      },
      "file_extension": ".py",
      "mimetype": "text/x-python",
      "name": "python",
      "nbconvert_exporter": "python",
      "pygments_lexer": "ipython3",
      "version": "3.8.5"
    },
    "colab": {
      "provenance": []
    }
  },
  "nbformat": 4,
  "nbformat_minor": 5
}