{
  "cells": [
    {
      "cell_type": "markdown",
      "metadata": {
        "id": "8XCbsf2JHWjv"
      },
      "source": [
        "# PDS2: Midterm \n",
        "\n",
        "### Date: April 30\n",
        "\n",
        "### Time: 15:00 - 17:00\n",
        "\n",
        "\n",
        "**Instructions:** \n",
        "* All answers should be filled in the notebook and then submitted to Moodle;\n",
        "* For theoretical question you can use markdown and LaTeX;\n",
        "* Save number of cells used for compilation;\n",
        "* In order to get max scores, please write explanations and comments for each step. In addition, try to comment your code pieces.\n",
        "* **Plagiarism will result in FAIL. For example, two students having identical code for solution, then both will get 0 mark for the exam.**\n",
        "\n",
        "\n",
        "GOOD LUCK!"
      ],
      "id": "8XCbsf2JHWjv"
    },
    {
      "cell_type": "markdown",
      "metadata": {
        "id": "8s4ztxkQHWjy"
      },
      "source": [
        "# Task 1 (30%)\n",
        "Build regression model of your choice (linear or knn) which should predict count of bike rentals (__bike_rentals.xlsx__). Train your model from dataset in 'train' sheet, and evaluate in 'test' sheet. \n",
        "\n",
        "Hints:\n",
        "* *some of the columns are not valid features, but just random numbers*\n",
        "* *some of the columns are in fact categorical columns, so it's appropriate use them as categorical features*\n",
        "\n",
        "Columns description:\n",
        "- instant: record index\n",
        "- dteday : date\n",
        "- season : season (1:spring, 2:summer, 3:fall, 4:winter)\n",
        "- yr : year (0: 2011, 1:2012)\n",
        "- mnth : month ( 1 to 12)\n",
        "- hr : hour (0 to 23)\n",
        "- holiday : weather day is holiday or not (extracted from http://dchr.dc.gov/page/holiday-schedule)\n",
        "- weekday : day of the week\n",
        "- workingday : if day is neither weekend nor holiday is 1, otherwise is 0.\n",
        "+ weathersit : \n",
        "    - 1: Clear, Few clouds, Partly cloudy, Partly cloudy\n",
        "    - 2: Mist + Cloudy, Mist + Broken clouds, Mist + Few clouds, Mist\n",
        "    - 3: Light Snow, Light Rain + Thunderstorm + Scattered clouds, Light Rain + Scattered clouds\n",
        "    - 4: Heavy Rain + Ice Pallets + Thunderstorm + Mist, Snow + Fog\n",
        "- temp : Normalized temperature in Celsius. The values are divided to 41 (max)\n",
        "- atemp: Normalized feeling temperature in Celsius. The values are divided to 50 (max)\n",
        "- hum: Normalized humidity. The values are divided to 100 (max)\n",
        "- windspeed: Normalized wind speed. The values are divided to 67 (max)\n",
        "- cnt: count of total rental bikes including both casual and registered\n",
        "\n",
        "***P.S. Top 3 students in each group, with the smallest MSE in test dataset will get additional bonus points.***"
      ],
      "id": "8s4ztxkQHWjy"
    },
    {
      "cell_type": "code",
      "execution_count": null,
      "metadata": {
        "id": "52GH1LI0HWj0"
      },
      "outputs": [],
      "source": [
        "import pandas as pd\n",
        "import numpy as np\n",
        "import seaborn as sns\n",
        "\n",
        "from sklearn import preprocessing\n",
        "from sklearn.preprocessing import LabelEncoder\n",
        "from sklearn.model_selection import train_test_split\n",
        "\n",
        "from sklearn.linear_model import LinearRegression \n",
        "from sklearn import metrics\n",
        "\n",
        "from sklearn import linear_model\n",
        "from sklearn.metrics import r2_score\n",
        "from sklearn.preprocessing import StandardScaler\n",
        "import matplotlib.pyplot as plt\n",
        "\n",
        "\n",
        "import warnings  # do not show matching warnings\n",
        "warnings.filterwarnings('ignore')"
      ],
      "id": "52GH1LI0HWj0"
    },
    {
      "cell_type": "code",
      "execution_count": null,
      "metadata": {
        "id": "3g_j1l-GHWj1",
        "outputId": "3f5ae9c6-76f5-4e73-be19-7d2d7aba04fd"
      },
      "outputs": [
        {
          "data": {
            "text/html": [
              "<div>\n",
              "<style scoped>\n",
              "    .dataframe tbody tr th:only-of-type {\n",
              "        vertical-align: middle;\n",
              "    }\n",
              "\n",
              "    .dataframe tbody tr th {\n",
              "        vertical-align: top;\n",
              "    }\n",
              "\n",
              "    .dataframe thead th {\n",
              "        text-align: right;\n",
              "    }\n",
              "</style>\n",
              "<table border=\"1\" class=\"dataframe\">\n",
              "  <thead>\n",
              "    <tr style=\"text-align: right;\">\n",
              "      <th></th>\n",
              "      <th>instant</th>\n",
              "      <th>dteday</th>\n",
              "      <th>season</th>\n",
              "      <th>yr</th>\n",
              "      <th>mnth</th>\n",
              "      <th>holiday</th>\n",
              "      <th>weekday</th>\n",
              "      <th>workingday</th>\n",
              "      <th>weathersit</th>\n",
              "      <th>temp</th>\n",
              "      <th>atemp</th>\n",
              "      <th>hum</th>\n",
              "      <th>windspeed</th>\n",
              "      <th>cnt</th>\n",
              "    </tr>\n",
              "  </thead>\n",
              "  <tbody>\n",
              "    <tr>\n",
              "      <th>0</th>\n",
              "      <td>349</td>\n",
              "      <td>2011-12-15</td>\n",
              "      <td>4</td>\n",
              "      <td>0</td>\n",
              "      <td>12</td>\n",
              "      <td>0</td>\n",
              "      <td>4</td>\n",
              "      <td>1</td>\n",
              "      <td>2</td>\n",
              "      <td>0.422500</td>\n",
              "      <td>0.412237</td>\n",
              "      <td>0.634167</td>\n",
              "      <td>0.268042</td>\n",
              "      <td>3709</td>\n",
              "    </tr>\n",
              "    <tr>\n",
              "      <th>1</th>\n",
              "      <td>163</td>\n",
              "      <td>2011-06-12</td>\n",
              "      <td>2</td>\n",
              "      <td>0</td>\n",
              "      <td>6</td>\n",
              "      <td>0</td>\n",
              "      <td>0</td>\n",
              "      <td>0</td>\n",
              "      <td>1</td>\n",
              "      <td>0.692500</td>\n",
              "      <td>0.643325</td>\n",
              "      <td>0.747917</td>\n",
              "      <td>0.163567</td>\n",
              "      <td>4460</td>\n",
              "    </tr>\n",
              "    <tr>\n",
              "      <th>2</th>\n",
              "      <td>358</td>\n",
              "      <td>2011-12-24</td>\n",
              "      <td>1</td>\n",
              "      <td>0</td>\n",
              "      <td>12</td>\n",
              "      <td>0</td>\n",
              "      <td>6</td>\n",
              "      <td>0</td>\n",
              "      <td>1</td>\n",
              "      <td>0.302500</td>\n",
              "      <td>0.299242</td>\n",
              "      <td>0.542500</td>\n",
              "      <td>0.190304</td>\n",
              "      <td>1011</td>\n",
              "    </tr>\n",
              "    <tr>\n",
              "      <th>3</th>\n",
              "      <td>419</td>\n",
              "      <td>2012-02-23</td>\n",
              "      <td>1</td>\n",
              "      <td>1</td>\n",
              "      <td>2</td>\n",
              "      <td>0</td>\n",
              "      <td>4</td>\n",
              "      <td>1</td>\n",
              "      <td>1</td>\n",
              "      <td>0.454167</td>\n",
              "      <td>0.444446</td>\n",
              "      <td>0.554583</td>\n",
              "      <td>0.190913</td>\n",
              "      <td>5062</td>\n",
              "    </tr>\n",
              "    <tr>\n",
              "      <th>4</th>\n",
              "      <td>282</td>\n",
              "      <td>2011-10-09</td>\n",
              "      <td>4</td>\n",
              "      <td>0</td>\n",
              "      <td>10</td>\n",
              "      <td>0</td>\n",
              "      <td>0</td>\n",
              "      <td>0</td>\n",
              "      <td>1</td>\n",
              "      <td>0.540833</td>\n",
              "      <td>0.523983</td>\n",
              "      <td>0.727500</td>\n",
              "      <td>0.063450</td>\n",
              "      <td>5511</td>\n",
              "    </tr>\n",
              "  </tbody>\n",
              "</table>\n",
              "</div>"
            ],
            "text/plain": [
              "   instant     dteday  season  yr  mnth  holiday  weekday  workingday  \\\n",
              "0      349 2011-12-15       4   0    12        0        4           1   \n",
              "1      163 2011-06-12       2   0     6        0        0           0   \n",
              "2      358 2011-12-24       1   0    12        0        6           0   \n",
              "3      419 2012-02-23       1   1     2        0        4           1   \n",
              "4      282 2011-10-09       4   0    10        0        0           0   \n",
              "\n",
              "   weathersit      temp     atemp       hum  windspeed   cnt  \n",
              "0           2  0.422500  0.412237  0.634167   0.268042  3709  \n",
              "1           1  0.692500  0.643325  0.747917   0.163567  4460  \n",
              "2           1  0.302500  0.299242  0.542500   0.190304  1011  \n",
              "3           1  0.454167  0.444446  0.554583   0.190913  5062  \n",
              "4           1  0.540833  0.523983  0.727500   0.063450  5511  "
            ]
          },
          "execution_count": 114,
          "metadata": {},
          "output_type": "execute_result"
        }
      ],
      "source": [
        "# reading the excel file\n",
        "# data = pd.read_excel('bike_rentals.xlsx')\n",
        "\n",
        "data1 = pd.read_excel(open('bike_rentals.xlsx', 'rb'),sheet_name='train')\n",
        "\n",
        "data2 = pd.read_excel(open('bike_rentals.xlsx', 'rb'),sheet_name='test')\n",
        "\n",
        "data1.head()"
      ],
      "id": "3g_j1l-GHWj1"
    },
    {
      "cell_type": "code",
      "execution_count": null,
      "metadata": {
        "id": "tWJVQcCnHWj2",
        "outputId": "0b20d835-476d-49c9-c5c8-0f3ecc2bb230"
      },
      "outputs": [
        {
          "name": "stdout",
          "output_type": "stream",
          "text": [
            "(499, 14)\n",
            "(232, 14)\n"
          ]
        }
      ],
      "source": [
        "print(data1.shape)\n",
        "print(data2.shape)"
      ],
      "id": "tWJVQcCnHWj2"
    },
    {
      "cell_type": "code",
      "execution_count": null,
      "metadata": {
        "id": "BmePgl2oHWj3",
        "outputId": "12d46781-b6a7-4694-9887-2cda219e98d1"
      },
      "outputs": [
        {
          "name": "stdout",
          "output_type": "stream",
          "text": [
            "<class 'pandas.core.frame.DataFrame'>\n",
            "RangeIndex: 499 entries, 0 to 498\n",
            "Data columns (total 14 columns):\n",
            " #   Column      Non-Null Count  Dtype         \n",
            "---  ------      --------------  -----         \n",
            " 0   instant     499 non-null    int64         \n",
            " 1   dteday      499 non-null    datetime64[ns]\n",
            " 2   season      499 non-null    int64         \n",
            " 3   yr          499 non-null    int64         \n",
            " 4   mnth        499 non-null    int64         \n",
            " 5   holiday     499 non-null    int64         \n",
            " 6   weekday     499 non-null    int64         \n",
            " 7   workingday  499 non-null    int64         \n",
            " 8   weathersit  499 non-null    int64         \n",
            " 9   temp        499 non-null    float64       \n",
            " 10  atemp       499 non-null    float64       \n",
            " 11  hum         499 non-null    float64       \n",
            " 12  windspeed   499 non-null    float64       \n",
            " 13  cnt         499 non-null    int64         \n",
            "dtypes: datetime64[ns](1), float64(4), int64(9)\n",
            "memory usage: 54.7 KB\n"
          ]
        }
      ],
      "source": [
        "data1.info()"
      ],
      "id": "BmePgl2oHWj3"
    },
    {
      "cell_type": "markdown",
      "metadata": {
        "id": "YuRbj3lZHWj4"
      },
      "source": [
        "### ✤ In order to check and see, which columns have higher Correlation value with Our Target column:"
      ],
      "id": "YuRbj3lZHWj4"
    },
    {
      "cell_type": "code",
      "execution_count": null,
      "metadata": {
        "id": "gZY61THNHWj4",
        "outputId": "a7a66608-3243-4506-968d-2c0dcad4430a"
      },
      "outputs": [
        {
          "data": {
            "text/html": [
              "<div>\n",
              "<style scoped>\n",
              "    .dataframe tbody tr th:only-of-type {\n",
              "        vertical-align: middle;\n",
              "    }\n",
              "\n",
              "    .dataframe tbody tr th {\n",
              "        vertical-align: top;\n",
              "    }\n",
              "\n",
              "    .dataframe thead th {\n",
              "        text-align: right;\n",
              "    }\n",
              "</style>\n",
              "<table border=\"1\" class=\"dataframe\">\n",
              "  <thead>\n",
              "    <tr style=\"text-align: right;\">\n",
              "      <th></th>\n",
              "      <th>Correlation</th>\n",
              "    </tr>\n",
              "  </thead>\n",
              "  <tbody>\n",
              "    <tr>\n",
              "      <th>cnt</th>\n",
              "      <td>1.000000</td>\n",
              "    </tr>\n",
              "    <tr>\n",
              "      <th>atemp</th>\n",
              "      <td>0.631042</td>\n",
              "    </tr>\n",
              "    <tr>\n",
              "      <th>temp</th>\n",
              "      <td>0.622049</td>\n",
              "    </tr>\n",
              "    <tr>\n",
              "      <th>instant</th>\n",
              "      <td>0.616212</td>\n",
              "    </tr>\n",
              "    <tr>\n",
              "      <th>yr</th>\n",
              "      <td>0.562019</td>\n",
              "    </tr>\n",
              "    <tr>\n",
              "      <th>season</th>\n",
              "      <td>0.438542</td>\n",
              "    </tr>\n",
              "    <tr>\n",
              "      <th>mnth</th>\n",
              "      <td>0.289171</td>\n",
              "    </tr>\n",
              "    <tr>\n",
              "      <th>weekday</th>\n",
              "      <td>0.074826</td>\n",
              "    </tr>\n",
              "    <tr>\n",
              "      <th>workingday</th>\n",
              "      <td>0.057179</td>\n",
              "    </tr>\n",
              "    <tr>\n",
              "      <th>holiday</th>\n",
              "      <td>-0.032781</td>\n",
              "    </tr>\n",
              "    <tr>\n",
              "      <th>hum</th>\n",
              "      <td>-0.087081</td>\n",
              "    </tr>\n",
              "    <tr>\n",
              "      <th>windspeed</th>\n",
              "      <td>-0.265230</td>\n",
              "    </tr>\n",
              "    <tr>\n",
              "      <th>weathersit</th>\n",
              "      <td>-0.272451</td>\n",
              "    </tr>\n",
              "  </tbody>\n",
              "</table>\n",
              "</div>"
            ],
            "text/plain": [
              "            Correlation\n",
              "cnt            1.000000\n",
              "atemp          0.631042\n",
              "temp           0.622049\n",
              "instant        0.616212\n",
              "yr             0.562019\n",
              "season         0.438542\n",
              "mnth           0.289171\n",
              "weekday        0.074826\n",
              "workingday     0.057179\n",
              "holiday       -0.032781\n",
              "hum           -0.087081\n",
              "windspeed     -0.265230\n",
              "weathersit    -0.272451"
            ]
          },
          "execution_count": 117,
          "metadata": {},
          "output_type": "execute_result"
        }
      ],
      "source": [
        "# convert series to dataframe so it can be sorted\n",
        "correlation = data1.corr()['cnt']\n",
        "correlation_df = pd.DataFrame(correlation)\n",
        "# correct column label from COUNT to correlation\n",
        "correlation_df.columns = [\"Correlation\"]\n",
        "# sort correlation\n",
        "corr_sorted = correlation_df.sort_values(by=['Correlation'], ascending=False)\n",
        "corr_sorted"
      ],
      "id": "gZY61THNHWj4"
    },
    {
      "cell_type": "code",
      "execution_count": null,
      "metadata": {
        "id": "2sGtgq7gHWj5",
        "outputId": "856275b4-a870-4978-b2b1-5f466480766e"
      },
      "outputs": [
        {
          "name": "stdout",
          "output_type": "stream",
          "text": [
            "(499, 12)\n",
            "(232,)\n"
          ]
        }
      ],
      "source": [
        "# STEPs:\n",
        "\n",
        "X_train = data1.drop(['cnt', 'dteday'],axis=1)\n",
        "y_train = data1[\"cnt\"] \n",
        "\n",
        "X_test = data2.drop(['cnt','dteday'],axis=1)\n",
        "y_test = data2[\"cnt\"] \n",
        "# X_train, X_test, y_train, y_test = train_test_split(X, y, test_size=0.3, random_state=2021)\n",
        "\n",
        "print(X_train.shape)\n",
        "print(y_test.shape)"
      ],
      "id": "2sGtgq7gHWj5"
    },
    {
      "cell_type": "code",
      "execution_count": null,
      "metadata": {
        "id": "2ziC0VpvHWj5",
        "outputId": "a90cff87-6115-4f77-d6fd-b93d0a4b697a"
      },
      "outputs": [
        {
          "name": "stdout",
          "output_type": "stream",
          "text": [
            "Intercept of the model: 1413.41381\n"
          ]
        }
      ],
      "source": [
        "model_lin_reg = LinearRegression().fit(X_train,y_train)\n",
        "print('Intercept of the model:', np.round(model_lin_reg.intercept_,5))"
      ],
      "id": "2ziC0VpvHWj5"
    },
    {
      "cell_type": "code",
      "execution_count": null,
      "metadata": {
        "id": "58AV7J5mHWj6",
        "outputId": "d5690cef-a502-4b1d-cb86-df4a0a0d5988"
      },
      "outputs": [
        {
          "name": "stdout",
          "output_type": "stream",
          "text": [
            "R-squared: 0.799\n",
            "MSE: 816.03\n"
          ]
        }
      ],
      "source": [
        "test_pred = model_lin_reg.predict(X_test)\n",
        "print('R-squared:', round(metrics.r2_score(y_test, test_pred), 3))\n",
        "print('MSE:', round(metrics.mean_squared_error(y_test, test_pred, squared=False), 3))"
      ],
      "id": "58AV7J5mHWj6"
    },
    {
      "cell_type": "code",
      "execution_count": null,
      "metadata": {
        "id": "XAY2T4vdHWj8",
        "outputId": "b4522ca1-8c7b-4d47-bae5-6a17745a077e"
      },
      "outputs": [
        {
          "name": "stdout",
          "output_type": "stream",
          "text": [
            "0.7468929549922174\n",
            "0.7668817404609853\n"
          ]
        }
      ],
      "source": [
        "pred_train = model_lin_reg.predict(X_train)\n",
        "pred_test = model_lin_reg.predict(X_test)\n",
        "\n",
        "print(r2_score(pred_train, y_train))\n",
        "print(r2_score(pred_test, y_test))"
      ],
      "id": "XAY2T4vdHWj8"
    },
    {
      "cell_type": "markdown",
      "metadata": {
        "id": "NSzzGgMMHWj9"
      },
      "source": [
        "\n",
        "### My findings about MODEL:\n",
        "+ According to evaluation of R-squared of model in testing data, I can say that 79.9% ~ 80% of variation in the COUNT can be explained by the explanatory variables used in the model, which is very high.\n",
        "\n",
        "+ Evaluation metrics - I suppose that MSE is large,816.\n",
        "+ There can be other methods to find much lower MSE.it would be about 200 maybe."
      ],
      "id": "NSzzGgMMHWj9"
    },
    {
      "cell_type": "markdown",
      "metadata": {
        "id": "UE0qmlFtHWj9"
      },
      "source": [
        "# Task 2 (40%)\n",
        "Create classification model of your choice (logistic regression, SVM, Naive Bayes, KNN), which predicts probability of customer churning. Use predefined split below for train/test datasets. \n",
        "\n",
        "Hints:\n",
        "* *some of the columns are not valid features, but just random numbers or client IDs*\n",
        "* *some of the columns are in fact categorical columns, so it's appropriate use them as categorical features*\n",
        "* *try to do some normalization of your data*\n",
        "\n",
        "***P.S. Top 3 students in each group, with the highest roc_auc_score in test dataset will get additional bonus points.***"
      ],
      "id": "UE0qmlFtHWj9"
    },
    {
      "cell_type": "code",
      "execution_count": null,
      "metadata": {
        "id": "-XJms1ARHWj9",
        "outputId": "b47ceeac-53b6-486c-8634-5e53930fb72a"
      },
      "outputs": [
        {
          "data": {
            "text/html": [
              "<div>\n",
              "<style scoped>\n",
              "    .dataframe tbody tr th:only-of-type {\n",
              "        vertical-align: middle;\n",
              "    }\n",
              "\n",
              "    .dataframe tbody tr th {\n",
              "        vertical-align: top;\n",
              "    }\n",
              "\n",
              "    .dataframe thead th {\n",
              "        text-align: right;\n",
              "    }\n",
              "</style>\n",
              "<table border=\"1\" class=\"dataframe\">\n",
              "  <thead>\n",
              "    <tr style=\"text-align: right;\">\n",
              "      <th></th>\n",
              "      <th>customerID</th>\n",
              "      <th>gender</th>\n",
              "      <th>SeniorCitizen</th>\n",
              "      <th>Partner</th>\n",
              "      <th>Dependents</th>\n",
              "      <th>tenure</th>\n",
              "      <th>PhoneService</th>\n",
              "      <th>MultipleLines</th>\n",
              "      <th>InternetService</th>\n",
              "      <th>OnlineSecurity</th>\n",
              "      <th>...</th>\n",
              "      <th>DeviceProtection</th>\n",
              "      <th>TechSupport</th>\n",
              "      <th>StreamingTV</th>\n",
              "      <th>StreamingMovies</th>\n",
              "      <th>Contract</th>\n",
              "      <th>PaperlessBilling</th>\n",
              "      <th>PaymentMethod</th>\n",
              "      <th>MonthlyCharges</th>\n",
              "      <th>TotalCharges</th>\n",
              "      <th>Churn</th>\n",
              "    </tr>\n",
              "  </thead>\n",
              "  <tbody>\n",
              "    <tr>\n",
              "      <th>0</th>\n",
              "      <td>7590-VHVEG</td>\n",
              "      <td>Female</td>\n",
              "      <td>0</td>\n",
              "      <td>Yes</td>\n",
              "      <td>No</td>\n",
              "      <td>1</td>\n",
              "      <td>No</td>\n",
              "      <td>No phone service</td>\n",
              "      <td>DSL</td>\n",
              "      <td>No</td>\n",
              "      <td>...</td>\n",
              "      <td>No</td>\n",
              "      <td>No</td>\n",
              "      <td>No</td>\n",
              "      <td>No</td>\n",
              "      <td>Month-to-month</td>\n",
              "      <td>Yes</td>\n",
              "      <td>Electronic check</td>\n",
              "      <td>29.85</td>\n",
              "      <td>29.85</td>\n",
              "      <td>No</td>\n",
              "    </tr>\n",
              "    <tr>\n",
              "      <th>1</th>\n",
              "      <td>5575-GNVDE</td>\n",
              "      <td>Male</td>\n",
              "      <td>0</td>\n",
              "      <td>No</td>\n",
              "      <td>No</td>\n",
              "      <td>34</td>\n",
              "      <td>Yes</td>\n",
              "      <td>No</td>\n",
              "      <td>DSL</td>\n",
              "      <td>Yes</td>\n",
              "      <td>...</td>\n",
              "      <td>Yes</td>\n",
              "      <td>No</td>\n",
              "      <td>No</td>\n",
              "      <td>No</td>\n",
              "      <td>One year</td>\n",
              "      <td>No</td>\n",
              "      <td>Mailed check</td>\n",
              "      <td>56.95</td>\n",
              "      <td>1889.5</td>\n",
              "      <td>No</td>\n",
              "    </tr>\n",
              "    <tr>\n",
              "      <th>2</th>\n",
              "      <td>3668-QPYBK</td>\n",
              "      <td>Male</td>\n",
              "      <td>0</td>\n",
              "      <td>No</td>\n",
              "      <td>No</td>\n",
              "      <td>2</td>\n",
              "      <td>Yes</td>\n",
              "      <td>No</td>\n",
              "      <td>DSL</td>\n",
              "      <td>Yes</td>\n",
              "      <td>...</td>\n",
              "      <td>No</td>\n",
              "      <td>No</td>\n",
              "      <td>No</td>\n",
              "      <td>No</td>\n",
              "      <td>Month-to-month</td>\n",
              "      <td>Yes</td>\n",
              "      <td>Mailed check</td>\n",
              "      <td>53.85</td>\n",
              "      <td>108.15</td>\n",
              "      <td>Yes</td>\n",
              "    </tr>\n",
              "    <tr>\n",
              "      <th>3</th>\n",
              "      <td>7795-CFOCW</td>\n",
              "      <td>Male</td>\n",
              "      <td>0</td>\n",
              "      <td>No</td>\n",
              "      <td>No</td>\n",
              "      <td>45</td>\n",
              "      <td>No</td>\n",
              "      <td>No phone service</td>\n",
              "      <td>DSL</td>\n",
              "      <td>Yes</td>\n",
              "      <td>...</td>\n",
              "      <td>Yes</td>\n",
              "      <td>Yes</td>\n",
              "      <td>No</td>\n",
              "      <td>No</td>\n",
              "      <td>One year</td>\n",
              "      <td>No</td>\n",
              "      <td>Bank transfer (automatic)</td>\n",
              "      <td>42.30</td>\n",
              "      <td>1840.75</td>\n",
              "      <td>No</td>\n",
              "    </tr>\n",
              "    <tr>\n",
              "      <th>4</th>\n",
              "      <td>9237-HQITU</td>\n",
              "      <td>Female</td>\n",
              "      <td>0</td>\n",
              "      <td>No</td>\n",
              "      <td>No</td>\n",
              "      <td>2</td>\n",
              "      <td>Yes</td>\n",
              "      <td>No</td>\n",
              "      <td>Fiber optic</td>\n",
              "      <td>No</td>\n",
              "      <td>...</td>\n",
              "      <td>No</td>\n",
              "      <td>No</td>\n",
              "      <td>No</td>\n",
              "      <td>No</td>\n",
              "      <td>Month-to-month</td>\n",
              "      <td>Yes</td>\n",
              "      <td>Electronic check</td>\n",
              "      <td>70.70</td>\n",
              "      <td>151.65</td>\n",
              "      <td>Yes</td>\n",
              "    </tr>\n",
              "  </tbody>\n",
              "</table>\n",
              "<p>5 rows × 21 columns</p>\n",
              "</div>"
            ],
            "text/plain": [
              "   customerID  gender  SeniorCitizen Partner Dependents  tenure PhoneService  \\\n",
              "0  7590-VHVEG  Female              0     Yes         No       1           No   \n",
              "1  5575-GNVDE    Male              0      No         No      34          Yes   \n",
              "2  3668-QPYBK    Male              0      No         No       2          Yes   \n",
              "3  7795-CFOCW    Male              0      No         No      45           No   \n",
              "4  9237-HQITU  Female              0      No         No       2          Yes   \n",
              "\n",
              "      MultipleLines InternetService OnlineSecurity  ... DeviceProtection  \\\n",
              "0  No phone service             DSL             No  ...               No   \n",
              "1                No             DSL            Yes  ...              Yes   \n",
              "2                No             DSL            Yes  ...               No   \n",
              "3  No phone service             DSL            Yes  ...              Yes   \n",
              "4                No     Fiber optic             No  ...               No   \n",
              "\n",
              "  TechSupport StreamingTV StreamingMovies        Contract PaperlessBilling  \\\n",
              "0          No          No              No  Month-to-month              Yes   \n",
              "1          No          No              No        One year               No   \n",
              "2          No          No              No  Month-to-month              Yes   \n",
              "3         Yes          No              No        One year               No   \n",
              "4          No          No              No  Month-to-month              Yes   \n",
              "\n",
              "               PaymentMethod MonthlyCharges  TotalCharges Churn  \n",
              "0           Electronic check          29.85         29.85    No  \n",
              "1               Mailed check          56.95        1889.5    No  \n",
              "2               Mailed check          53.85        108.15   Yes  \n",
              "3  Bank transfer (automatic)          42.30       1840.75    No  \n",
              "4           Electronic check          70.70        151.65   Yes  \n",
              "\n",
              "[5 rows x 21 columns]"
            ]
          },
          "execution_count": 122,
          "metadata": {},
          "output_type": "execute_result"
        }
      ],
      "source": [
        "df = pd.read_csv('WA_Fn-UseC_-Telco-Customer-Churn.csv')\n",
        "df.head()"
      ],
      "id": "-XJms1ARHWj9"
    },
    {
      "cell_type": "code",
      "execution_count": null,
      "metadata": {
        "id": "DEztGc8OHWj-",
        "outputId": "07660534-8286-4ba7-865e-4ea6dccae804"
      },
      "outputs": [
        {
          "data": {
            "text/plain": [
              "(7043, 21)"
            ]
          },
          "execution_count": 123,
          "metadata": {},
          "output_type": "execute_result"
        }
      ],
      "source": [
        "df.shape"
      ],
      "id": "DEztGc8OHWj-"
    },
    {
      "cell_type": "code",
      "execution_count": null,
      "metadata": {
        "id": "U3dExVpTHWj-",
        "outputId": "5507eca7-dbad-4eed-a46c-cce8b14a12d8"
      },
      "outputs": [
        {
          "data": {
            "text/plain": [
              "No     5174\n",
              "Yes    1869\n",
              "Name: Churn, dtype: int64"
            ]
          },
          "execution_count": 124,
          "metadata": {},
          "output_type": "execute_result"
        }
      ],
      "source": [
        "df.Churn.value_counts()"
      ],
      "id": "U3dExVpTHWj-"
    },
    {
      "cell_type": "code",
      "execution_count": null,
      "metadata": {
        "id": "40w1SQWtHWj_"
      },
      "outputs": [],
      "source": [
        "df = df.drop('customerID', axis = 1) # dropping unnecessary column"
      ],
      "id": "40w1SQWtHWj_"
    },
    {
      "cell_type": "code",
      "execution_count": null,
      "metadata": {
        "id": "j2A6oT4LHWj_"
      },
      "outputs": [],
      "source": [
        "df['MultipleLines'] = df['MultipleLines'].replace('No phone service','No')"
      ],
      "id": "j2A6oT4LHWj_"
    },
    {
      "cell_type": "code",
      "execution_count": null,
      "metadata": {
        "id": "KqT5ejY9HWj_",
        "outputId": "905fbb9a-bcad-4b99-9e72-756cfcdfb461"
      },
      "outputs": [
        {
          "data": {
            "text/html": [
              "<div>\n",
              "<style scoped>\n",
              "    .dataframe tbody tr th:only-of-type {\n",
              "        vertical-align: middle;\n",
              "    }\n",
              "\n",
              "    .dataframe tbody tr th {\n",
              "        vertical-align: top;\n",
              "    }\n",
              "\n",
              "    .dataframe thead th {\n",
              "        text-align: right;\n",
              "    }\n",
              "</style>\n",
              "<table border=\"1\" class=\"dataframe\">\n",
              "  <thead>\n",
              "    <tr style=\"text-align: right;\">\n",
              "      <th></th>\n",
              "      <th>gender</th>\n",
              "      <th>SeniorCitizen</th>\n",
              "      <th>Partner</th>\n",
              "      <th>Dependents</th>\n",
              "      <th>tenure</th>\n",
              "      <th>PhoneService</th>\n",
              "      <th>MultipleLines</th>\n",
              "      <th>InternetService</th>\n",
              "      <th>OnlineSecurity</th>\n",
              "      <th>OnlineBackup</th>\n",
              "      <th>DeviceProtection</th>\n",
              "      <th>TechSupport</th>\n",
              "      <th>StreamingTV</th>\n",
              "      <th>StreamingMovies</th>\n",
              "      <th>Contract</th>\n",
              "      <th>PaperlessBilling</th>\n",
              "      <th>PaymentMethod</th>\n",
              "      <th>MonthlyCharges</th>\n",
              "      <th>TotalCharges</th>\n",
              "      <th>Churn</th>\n",
              "    </tr>\n",
              "  </thead>\n",
              "  <tbody>\n",
              "    <tr>\n",
              "      <th>count</th>\n",
              "      <td>7043</td>\n",
              "      <td>7043.000000</td>\n",
              "      <td>7043</td>\n",
              "      <td>7043</td>\n",
              "      <td>7043.000000</td>\n",
              "      <td>7043</td>\n",
              "      <td>7043</td>\n",
              "      <td>7043</td>\n",
              "      <td>7043</td>\n",
              "      <td>7043</td>\n",
              "      <td>7043</td>\n",
              "      <td>7043</td>\n",
              "      <td>7043</td>\n",
              "      <td>7043</td>\n",
              "      <td>7043</td>\n",
              "      <td>7043</td>\n",
              "      <td>7043</td>\n",
              "      <td>7043.000000</td>\n",
              "      <td>7043</td>\n",
              "      <td>7043</td>\n",
              "    </tr>\n",
              "    <tr>\n",
              "      <th>unique</th>\n",
              "      <td>2</td>\n",
              "      <td>NaN</td>\n",
              "      <td>2</td>\n",
              "      <td>2</td>\n",
              "      <td>NaN</td>\n",
              "      <td>2</td>\n",
              "      <td>2</td>\n",
              "      <td>3</td>\n",
              "      <td>3</td>\n",
              "      <td>3</td>\n",
              "      <td>3</td>\n",
              "      <td>3</td>\n",
              "      <td>3</td>\n",
              "      <td>3</td>\n",
              "      <td>3</td>\n",
              "      <td>2</td>\n",
              "      <td>4</td>\n",
              "      <td>NaN</td>\n",
              "      <td>6531</td>\n",
              "      <td>2</td>\n",
              "    </tr>\n",
              "    <tr>\n",
              "      <th>top</th>\n",
              "      <td>Male</td>\n",
              "      <td>NaN</td>\n",
              "      <td>No</td>\n",
              "      <td>No</td>\n",
              "      <td>NaN</td>\n",
              "      <td>Yes</td>\n",
              "      <td>No</td>\n",
              "      <td>Fiber optic</td>\n",
              "      <td>No</td>\n",
              "      <td>No</td>\n",
              "      <td>No</td>\n",
              "      <td>No</td>\n",
              "      <td>No</td>\n",
              "      <td>No</td>\n",
              "      <td>Month-to-month</td>\n",
              "      <td>Yes</td>\n",
              "      <td>Electronic check</td>\n",
              "      <td>NaN</td>\n",
              "      <td>20.2</td>\n",
              "      <td>No</td>\n",
              "    </tr>\n",
              "    <tr>\n",
              "      <th>freq</th>\n",
              "      <td>3555</td>\n",
              "      <td>NaN</td>\n",
              "      <td>3641</td>\n",
              "      <td>4933</td>\n",
              "      <td>NaN</td>\n",
              "      <td>6361</td>\n",
              "      <td>4072</td>\n",
              "      <td>3096</td>\n",
              "      <td>3498</td>\n",
              "      <td>3088</td>\n",
              "      <td>3095</td>\n",
              "      <td>3473</td>\n",
              "      <td>2810</td>\n",
              "      <td>2785</td>\n",
              "      <td>3875</td>\n",
              "      <td>4171</td>\n",
              "      <td>2365</td>\n",
              "      <td>NaN</td>\n",
              "      <td>11</td>\n",
              "      <td>5174</td>\n",
              "    </tr>\n",
              "    <tr>\n",
              "      <th>mean</th>\n",
              "      <td>NaN</td>\n",
              "      <td>0.162147</td>\n",
              "      <td>NaN</td>\n",
              "      <td>NaN</td>\n",
              "      <td>32.371149</td>\n",
              "      <td>NaN</td>\n",
              "      <td>NaN</td>\n",
              "      <td>NaN</td>\n",
              "      <td>NaN</td>\n",
              "      <td>NaN</td>\n",
              "      <td>NaN</td>\n",
              "      <td>NaN</td>\n",
              "      <td>NaN</td>\n",
              "      <td>NaN</td>\n",
              "      <td>NaN</td>\n",
              "      <td>NaN</td>\n",
              "      <td>NaN</td>\n",
              "      <td>64.761692</td>\n",
              "      <td>NaN</td>\n",
              "      <td>NaN</td>\n",
              "    </tr>\n",
              "    <tr>\n",
              "      <th>std</th>\n",
              "      <td>NaN</td>\n",
              "      <td>0.368612</td>\n",
              "      <td>NaN</td>\n",
              "      <td>NaN</td>\n",
              "      <td>24.559481</td>\n",
              "      <td>NaN</td>\n",
              "      <td>NaN</td>\n",
              "      <td>NaN</td>\n",
              "      <td>NaN</td>\n",
              "      <td>NaN</td>\n",
              "      <td>NaN</td>\n",
              "      <td>NaN</td>\n",
              "      <td>NaN</td>\n",
              "      <td>NaN</td>\n",
              "      <td>NaN</td>\n",
              "      <td>NaN</td>\n",
              "      <td>NaN</td>\n",
              "      <td>30.090047</td>\n",
              "      <td>NaN</td>\n",
              "      <td>NaN</td>\n",
              "    </tr>\n",
              "    <tr>\n",
              "      <th>min</th>\n",
              "      <td>NaN</td>\n",
              "      <td>0.000000</td>\n",
              "      <td>NaN</td>\n",
              "      <td>NaN</td>\n",
              "      <td>0.000000</td>\n",
              "      <td>NaN</td>\n",
              "      <td>NaN</td>\n",
              "      <td>NaN</td>\n",
              "      <td>NaN</td>\n",
              "      <td>NaN</td>\n",
              "      <td>NaN</td>\n",
              "      <td>NaN</td>\n",
              "      <td>NaN</td>\n",
              "      <td>NaN</td>\n",
              "      <td>NaN</td>\n",
              "      <td>NaN</td>\n",
              "      <td>NaN</td>\n",
              "      <td>18.250000</td>\n",
              "      <td>NaN</td>\n",
              "      <td>NaN</td>\n",
              "    </tr>\n",
              "    <tr>\n",
              "      <th>25%</th>\n",
              "      <td>NaN</td>\n",
              "      <td>0.000000</td>\n",
              "      <td>NaN</td>\n",
              "      <td>NaN</td>\n",
              "      <td>9.000000</td>\n",
              "      <td>NaN</td>\n",
              "      <td>NaN</td>\n",
              "      <td>NaN</td>\n",
              "      <td>NaN</td>\n",
              "      <td>NaN</td>\n",
              "      <td>NaN</td>\n",
              "      <td>NaN</td>\n",
              "      <td>NaN</td>\n",
              "      <td>NaN</td>\n",
              "      <td>NaN</td>\n",
              "      <td>NaN</td>\n",
              "      <td>NaN</td>\n",
              "      <td>35.500000</td>\n",
              "      <td>NaN</td>\n",
              "      <td>NaN</td>\n",
              "    </tr>\n",
              "    <tr>\n",
              "      <th>50%</th>\n",
              "      <td>NaN</td>\n",
              "      <td>0.000000</td>\n",
              "      <td>NaN</td>\n",
              "      <td>NaN</td>\n",
              "      <td>29.000000</td>\n",
              "      <td>NaN</td>\n",
              "      <td>NaN</td>\n",
              "      <td>NaN</td>\n",
              "      <td>NaN</td>\n",
              "      <td>NaN</td>\n",
              "      <td>NaN</td>\n",
              "      <td>NaN</td>\n",
              "      <td>NaN</td>\n",
              "      <td>NaN</td>\n",
              "      <td>NaN</td>\n",
              "      <td>NaN</td>\n",
              "      <td>NaN</td>\n",
              "      <td>70.350000</td>\n",
              "      <td>NaN</td>\n",
              "      <td>NaN</td>\n",
              "    </tr>\n",
              "    <tr>\n",
              "      <th>75%</th>\n",
              "      <td>NaN</td>\n",
              "      <td>0.000000</td>\n",
              "      <td>NaN</td>\n",
              "      <td>NaN</td>\n",
              "      <td>55.000000</td>\n",
              "      <td>NaN</td>\n",
              "      <td>NaN</td>\n",
              "      <td>NaN</td>\n",
              "      <td>NaN</td>\n",
              "      <td>NaN</td>\n",
              "      <td>NaN</td>\n",
              "      <td>NaN</td>\n",
              "      <td>NaN</td>\n",
              "      <td>NaN</td>\n",
              "      <td>NaN</td>\n",
              "      <td>NaN</td>\n",
              "      <td>NaN</td>\n",
              "      <td>89.850000</td>\n",
              "      <td>NaN</td>\n",
              "      <td>NaN</td>\n",
              "    </tr>\n",
              "    <tr>\n",
              "      <th>max</th>\n",
              "      <td>NaN</td>\n",
              "      <td>1.000000</td>\n",
              "      <td>NaN</td>\n",
              "      <td>NaN</td>\n",
              "      <td>72.000000</td>\n",
              "      <td>NaN</td>\n",
              "      <td>NaN</td>\n",
              "      <td>NaN</td>\n",
              "      <td>NaN</td>\n",
              "      <td>NaN</td>\n",
              "      <td>NaN</td>\n",
              "      <td>NaN</td>\n",
              "      <td>NaN</td>\n",
              "      <td>NaN</td>\n",
              "      <td>NaN</td>\n",
              "      <td>NaN</td>\n",
              "      <td>NaN</td>\n",
              "      <td>118.750000</td>\n",
              "      <td>NaN</td>\n",
              "      <td>NaN</td>\n",
              "    </tr>\n",
              "  </tbody>\n",
              "</table>\n",
              "</div>"
            ],
            "text/plain": [
              "       gender  SeniorCitizen Partner Dependents       tenure PhoneService  \\\n",
              "count    7043    7043.000000    7043       7043  7043.000000         7043   \n",
              "unique      2            NaN       2          2          NaN            2   \n",
              "top      Male            NaN      No         No          NaN          Yes   \n",
              "freq     3555            NaN    3641       4933          NaN         6361   \n",
              "mean      NaN       0.162147     NaN        NaN    32.371149          NaN   \n",
              "std       NaN       0.368612     NaN        NaN    24.559481          NaN   \n",
              "min       NaN       0.000000     NaN        NaN     0.000000          NaN   \n",
              "25%       NaN       0.000000     NaN        NaN     9.000000          NaN   \n",
              "50%       NaN       0.000000     NaN        NaN    29.000000          NaN   \n",
              "75%       NaN       0.000000     NaN        NaN    55.000000          NaN   \n",
              "max       NaN       1.000000     NaN        NaN    72.000000          NaN   \n",
              "\n",
              "       MultipleLines InternetService OnlineSecurity OnlineBackup  \\\n",
              "count           7043            7043           7043         7043   \n",
              "unique             2               3              3            3   \n",
              "top               No     Fiber optic             No           No   \n",
              "freq            4072            3096           3498         3088   \n",
              "mean             NaN             NaN            NaN          NaN   \n",
              "std              NaN             NaN            NaN          NaN   \n",
              "min              NaN             NaN            NaN          NaN   \n",
              "25%              NaN             NaN            NaN          NaN   \n",
              "50%              NaN             NaN            NaN          NaN   \n",
              "75%              NaN             NaN            NaN          NaN   \n",
              "max              NaN             NaN            NaN          NaN   \n",
              "\n",
              "       DeviceProtection TechSupport StreamingTV StreamingMovies  \\\n",
              "count              7043        7043        7043            7043   \n",
              "unique                3           3           3               3   \n",
              "top                  No          No          No              No   \n",
              "freq               3095        3473        2810            2785   \n",
              "mean                NaN         NaN         NaN             NaN   \n",
              "std                 NaN         NaN         NaN             NaN   \n",
              "min                 NaN         NaN         NaN             NaN   \n",
              "25%                 NaN         NaN         NaN             NaN   \n",
              "50%                 NaN         NaN         NaN             NaN   \n",
              "75%                 NaN         NaN         NaN             NaN   \n",
              "max                 NaN         NaN         NaN             NaN   \n",
              "\n",
              "              Contract PaperlessBilling     PaymentMethod  MonthlyCharges  \\\n",
              "count             7043             7043              7043     7043.000000   \n",
              "unique               3                2                 4             NaN   \n",
              "top     Month-to-month              Yes  Electronic check             NaN   \n",
              "freq              3875             4171              2365             NaN   \n",
              "mean               NaN              NaN               NaN       64.761692   \n",
              "std                NaN              NaN               NaN       30.090047   \n",
              "min                NaN              NaN               NaN       18.250000   \n",
              "25%                NaN              NaN               NaN       35.500000   \n",
              "50%                NaN              NaN               NaN       70.350000   \n",
              "75%                NaN              NaN               NaN       89.850000   \n",
              "max                NaN              NaN               NaN      118.750000   \n",
              "\n",
              "       TotalCharges Churn  \n",
              "count          7043  7043  \n",
              "unique         6531     2  \n",
              "top            20.2    No  \n",
              "freq             11  5174  \n",
              "mean            NaN   NaN  \n",
              "std             NaN   NaN  \n",
              "min             NaN   NaN  \n",
              "25%             NaN   NaN  \n",
              "50%             NaN   NaN  \n",
              "75%             NaN   NaN  \n",
              "max             NaN   NaN  "
            ]
          },
          "execution_count": 127,
          "metadata": {},
          "output_type": "execute_result"
        }
      ],
      "source": [
        "df.describe(include = 'all')"
      ],
      "id": "KqT5ejY9HWj_"
    },
    {
      "cell_type": "markdown",
      "metadata": {
        "id": "pXb8ydUeHWkA"
      },
      "source": [
        "### Encoding categorical columns with LabelEncoder:"
      ],
      "id": "pXb8ydUeHWkA"
    },
    {
      "cell_type": "code",
      "execution_count": null,
      "metadata": {
        "id": "iDUqf90WHWkA",
        "outputId": "607306f9-7896-4b47-e2b7-0b2c07dbf833"
      },
      "outputs": [
        {
          "data": {
            "text/html": [
              "<div>\n",
              "<style scoped>\n",
              "    .dataframe tbody tr th:only-of-type {\n",
              "        vertical-align: middle;\n",
              "    }\n",
              "\n",
              "    .dataframe tbody tr th {\n",
              "        vertical-align: top;\n",
              "    }\n",
              "\n",
              "    .dataframe thead th {\n",
              "        text-align: right;\n",
              "    }\n",
              "</style>\n",
              "<table border=\"1\" class=\"dataframe\">\n",
              "  <thead>\n",
              "    <tr style=\"text-align: right;\">\n",
              "      <th></th>\n",
              "      <th>gender</th>\n",
              "      <th>SeniorCitizen</th>\n",
              "      <th>Partner</th>\n",
              "      <th>Dependents</th>\n",
              "      <th>tenure</th>\n",
              "      <th>PhoneService</th>\n",
              "      <th>MultipleLines</th>\n",
              "      <th>InternetService</th>\n",
              "      <th>OnlineSecurity</th>\n",
              "      <th>OnlineBackup</th>\n",
              "      <th>DeviceProtection</th>\n",
              "      <th>TechSupport</th>\n",
              "      <th>StreamingTV</th>\n",
              "      <th>StreamingMovies</th>\n",
              "      <th>Contract</th>\n",
              "      <th>PaperlessBilling</th>\n",
              "      <th>PaymentMethod</th>\n",
              "      <th>MonthlyCharges</th>\n",
              "      <th>TotalCharges</th>\n",
              "      <th>Churn</th>\n",
              "    </tr>\n",
              "  </thead>\n",
              "  <tbody>\n",
              "    <tr>\n",
              "      <th>0</th>\n",
              "      <td>0</td>\n",
              "      <td>0</td>\n",
              "      <td>1</td>\n",
              "      <td>0</td>\n",
              "      <td>1</td>\n",
              "      <td>0</td>\n",
              "      <td>0</td>\n",
              "      <td>0</td>\n",
              "      <td>0</td>\n",
              "      <td>2</td>\n",
              "      <td>0</td>\n",
              "      <td>0</td>\n",
              "      <td>0</td>\n",
              "      <td>0</td>\n",
              "      <td>0</td>\n",
              "      <td>1</td>\n",
              "      <td>2</td>\n",
              "      <td>29.85</td>\n",
              "      <td>29.85</td>\n",
              "      <td>0</td>\n",
              "    </tr>\n",
              "    <tr>\n",
              "      <th>1</th>\n",
              "      <td>1</td>\n",
              "      <td>0</td>\n",
              "      <td>0</td>\n",
              "      <td>0</td>\n",
              "      <td>34</td>\n",
              "      <td>1</td>\n",
              "      <td>0</td>\n",
              "      <td>2</td>\n",
              "      <td>2</td>\n",
              "      <td>0</td>\n",
              "      <td>2</td>\n",
              "      <td>0</td>\n",
              "      <td>0</td>\n",
              "      <td>0</td>\n",
              "      <td>1</td>\n",
              "      <td>0</td>\n",
              "      <td>3</td>\n",
              "      <td>56.95</td>\n",
              "      <td>1889.5</td>\n",
              "      <td>0</td>\n",
              "    </tr>\n",
              "    <tr>\n",
              "      <th>2</th>\n",
              "      <td>1</td>\n",
              "      <td>0</td>\n",
              "      <td>0</td>\n",
              "      <td>0</td>\n",
              "      <td>2</td>\n",
              "      <td>1</td>\n",
              "      <td>0</td>\n",
              "      <td>2</td>\n",
              "      <td>2</td>\n",
              "      <td>2</td>\n",
              "      <td>0</td>\n",
              "      <td>0</td>\n",
              "      <td>0</td>\n",
              "      <td>0</td>\n",
              "      <td>0</td>\n",
              "      <td>1</td>\n",
              "      <td>3</td>\n",
              "      <td>53.85</td>\n",
              "      <td>108.15</td>\n",
              "      <td>1</td>\n",
              "    </tr>\n",
              "    <tr>\n",
              "      <th>3</th>\n",
              "      <td>1</td>\n",
              "      <td>0</td>\n",
              "      <td>0</td>\n",
              "      <td>0</td>\n",
              "      <td>45</td>\n",
              "      <td>0</td>\n",
              "      <td>0</td>\n",
              "      <td>2</td>\n",
              "      <td>2</td>\n",
              "      <td>0</td>\n",
              "      <td>2</td>\n",
              "      <td>2</td>\n",
              "      <td>0</td>\n",
              "      <td>0</td>\n",
              "      <td>1</td>\n",
              "      <td>0</td>\n",
              "      <td>0</td>\n",
              "      <td>42.30</td>\n",
              "      <td>1840.75</td>\n",
              "      <td>0</td>\n",
              "    </tr>\n",
              "    <tr>\n",
              "      <th>4</th>\n",
              "      <td>0</td>\n",
              "      <td>0</td>\n",
              "      <td>0</td>\n",
              "      <td>0</td>\n",
              "      <td>2</td>\n",
              "      <td>1</td>\n",
              "      <td>0</td>\n",
              "      <td>0</td>\n",
              "      <td>0</td>\n",
              "      <td>0</td>\n",
              "      <td>0</td>\n",
              "      <td>0</td>\n",
              "      <td>0</td>\n",
              "      <td>0</td>\n",
              "      <td>0</td>\n",
              "      <td>1</td>\n",
              "      <td>2</td>\n",
              "      <td>70.70</td>\n",
              "      <td>151.65</td>\n",
              "      <td>1</td>\n",
              "    </tr>\n",
              "  </tbody>\n",
              "</table>\n",
              "</div>"
            ],
            "text/plain": [
              "   gender  SeniorCitizen  Partner  Dependents  tenure  PhoneService  \\\n",
              "0       0              0        1           0       1             0   \n",
              "1       1              0        0           0      34             1   \n",
              "2       1              0        0           0       2             1   \n",
              "3       1              0        0           0      45             0   \n",
              "4       0              0        0           0       2             1   \n",
              "\n",
              "   MultipleLines  InternetService  OnlineSecurity  OnlineBackup  \\\n",
              "0              0                0               0             2   \n",
              "1              0                2               2             0   \n",
              "2              0                2               2             2   \n",
              "3              0                2               2             0   \n",
              "4              0                0               0             0   \n",
              "\n",
              "   DeviceProtection  TechSupport  StreamingTV  StreamingMovies  Contract  \\\n",
              "0                 0            0            0                0         0   \n",
              "1                 2            0            0                0         1   \n",
              "2                 0            0            0                0         0   \n",
              "3                 2            2            0                0         1   \n",
              "4                 0            0            0                0         0   \n",
              "\n",
              "   PaperlessBilling  PaymentMethod  MonthlyCharges TotalCharges  Churn  \n",
              "0                 1              2           29.85        29.85      0  \n",
              "1                 0              3           56.95       1889.5      0  \n",
              "2                 1              3           53.85       108.15      1  \n",
              "3                 0              0           42.30      1840.75      0  \n",
              "4                 1              2           70.70       151.65      1  "
            ]
          },
          "execution_count": 128,
          "metadata": {},
          "output_type": "execute_result"
        }
      ],
      "source": [
        "from sklearn.preprocessing import LabelEncoder\n",
        "\n",
        "label_en = LabelEncoder()\n",
        "\n",
        "df['gender'] = label_en.fit_transform(df['gender'].astype(str))\n",
        "df['Partner'] = label_en.fit_transform(df['Partner'].astype(str))\n",
        "df['Dependents'] = label_en.fit_transform(df['Dependents'].astype(str))\n",
        "df['PhoneService'] = label_en.fit_transform(df['PhoneService'].astype(str))\n",
        "df['MultipleLines'] = label_en.fit_transform(df['MultipleLines'].astype(str))\n",
        "df['InternetService'] = label_en.fit_transform(df['OnlineSecurity'].astype(str))\n",
        "\n",
        "df['OnlineSecurity'] = label_en.fit_transform(df['OnlineSecurity'].astype(str))\n",
        "df['OnlineBackup'] = label_en.fit_transform(df['OnlineBackup'].astype(str))\n",
        "df['DeviceProtection'] = label_en.fit_transform(df['DeviceProtection'].astype(str))\n",
        "df['TechSupport'] = label_en.fit_transform(df['TechSupport'].astype(str))\n",
        "df['StreamingTV'] = label_en.fit_transform(df['StreamingTV'].astype(str))\n",
        "\n",
        "df['StreamingMovies'] = label_en.fit_transform(df['StreamingMovies'].astype(str))\n",
        "df['Contract'] = label_en.fit_transform(df['Contract'].astype(str))\n",
        "df['PaperlessBilling'] = label_en.fit_transform(df['PaperlessBilling'].astype(str))\n",
        "df['PaymentMethod'] = label_en.fit_transform(df['PaymentMethod'].astype(str))\n",
        "\n",
        "df['Churn'] = label_en.fit_transform(df['Churn'].astype(str))\n",
        "\n",
        "\n",
        "df.head()"
      ],
      "id": "iDUqf90WHWkA"
    },
    {
      "cell_type": "code",
      "execution_count": null,
      "metadata": {
        "id": "zx2uI7fOHWkB"
      },
      "outputs": [],
      "source": [
        "df = df.drop(['MonthlyCharges','TotalCharges'], axis = 1) # dropping floating column\n",
        "# because cannot normalise"
      ],
      "id": "zx2uI7fOHWkB"
    },
    {
      "cell_type": "code",
      "execution_count": null,
      "metadata": {
        "id": "9g3KetuoHWkB",
        "outputId": "9b40b55c-0f88-449a-ec18-2b1875db5539"
      },
      "outputs": [
        {
          "data": {
            "text/plain": [
              "Index(['gender', 'SeniorCitizen', 'Partner', 'Dependents', 'tenure',\n",
              "       'PhoneService', 'MultipleLines', 'InternetService', 'OnlineSecurity',\n",
              "       'OnlineBackup', 'DeviceProtection', 'TechSupport', 'StreamingTV',\n",
              "       'StreamingMovies', 'Contract', 'PaperlessBilling', 'PaymentMethod',\n",
              "       'Churn'],\n",
              "      dtype='object')"
            ]
          },
          "execution_count": 130,
          "metadata": {},
          "output_type": "execute_result"
        }
      ],
      "source": [
        "df.columns"
      ],
      "id": "9g3KetuoHWkB"
    },
    {
      "cell_type": "code",
      "execution_count": null,
      "metadata": {
        "id": "UdtaO7I7HWkB"
      },
      "outputs": [],
      "source": [
        "# splitting data into training and test data\n",
        "# 75% training and 25% test\n",
        "X_train, X_test, y_train, y_test = train_test_split(df.drop('Churn', axis = 1),df['Churn'], \n",
        "                                                    test_size = 0.25,random_state = 42)"
      ],
      "id": "UdtaO7I7HWkB"
    },
    {
      "cell_type": "markdown",
      "metadata": {
        "id": "XiLZ9bmYHWkC"
      },
      "source": [
        "### Now, let's normalize my DATA and create KNN model:"
      ],
      "id": "XiLZ9bmYHWkC"
    },
    {
      "cell_type": "code",
      "execution_count": null,
      "metadata": {
        "id": "3xOLVkmGHWkC"
      },
      "outputs": [],
      "source": [
        "# Normalising with StandardScaler:\n",
        "from sklearn.preprocessing import StandardScaler\n",
        "\n",
        "ss = StandardScaler()\n",
        "df = ss.fit_transform(df)"
      ],
      "id": "3xOLVkmGHWkC"
    },
    {
      "cell_type": "code",
      "execution_count": null,
      "metadata": {
        "id": "aadnG_ylHWkC",
        "outputId": "54ec846e-8d0f-4c2d-a6bf-f29f4d26f56e"
      },
      "outputs": [
        {
          "name": "stdout",
          "output_type": "stream",
          "text": [
            "0.7126632595116411\n"
          ]
        }
      ],
      "source": [
        "knn = KNeighborsClassifier(n_neighbors=1)\n",
        "knn.fit(X_train, y_train)\n",
        "y_pred = knn.predict(X_test)\n",
        "print(metrics.accuracy_score(y_test, y_pred))"
      ],
      "id": "aadnG_ylHWkC"
    },
    {
      "cell_type": "code",
      "execution_count": null,
      "metadata": {
        "id": "QHoYf3GmHWkD",
        "outputId": "576916dc-e527-4468-bbbe-137a04021434"
      },
      "outputs": [
        {
          "data": {
            "text/plain": [
              "array([[1192,   90],\n",
              "       [ 297,  182]], dtype=int64)"
            ]
          },
          "execution_count": 134,
          "metadata": {},
          "output_type": "execute_result"
        }
      ],
      "source": [
        "from sklearn.metrics import classification_report, confusion_matrix\n",
        "\n",
        "confusion_matrix(y_test,pred)"
      ],
      "id": "QHoYf3GmHWkD"
    },
    {
      "cell_type": "code",
      "execution_count": null,
      "metadata": {
        "id": "NHSwQKeEHWkD",
        "outputId": "35ccf805-4fdd-4d6a-c308-faf8b37d9c5b"
      },
      "outputs": [
        {
          "name": "stdout",
          "output_type": "stream",
          "text": [
            "              precision    recall  f1-score   support\n",
            "\n",
            "           0       0.80      0.93      0.86      1282\n",
            "           1       0.67      0.38      0.48       479\n",
            "\n",
            "    accuracy                           0.78      1761\n",
            "   macro avg       0.73      0.65      0.67      1761\n",
            "weighted avg       0.76      0.78      0.76      1761\n",
            "\n"
          ]
        }
      ],
      "source": [
        "print(classification_report(y_test, pred))"
      ],
      "id": "NHSwQKeEHWkD"
    },
    {
      "cell_type": "code",
      "execution_count": null,
      "metadata": {
        "id": "7OIwBEPSHWkE",
        "outputId": "241a0517-4c55-4c6c-8feb-518a6a80f1f0"
      },
      "outputs": [
        {
          "data": {
            "text/plain": [
              "Text(0, 0.5, 'Error_Rate')"
            ]
          },
          "execution_count": 136,
          "metadata": {},
          "output_type": "execute_result"
        },
        {
          "data": {
            "image/png": "[encoded data removed]",
            "text/plain": [
              "<Figure size 648x360 with 1 Axes>"
            ]
          },
          "metadata": {
            "needs_background": "light"
          },
          "output_type": "display_data"
        }
      ],
      "source": [
        "from sklearn.neighbors import KNeighborsClassifier\n",
        "\n",
        "error = []\n",
        "\n",
        "for i in range(1,50):\n",
        "    knn_model = KNeighborsClassifier(n_neighbors = i)\n",
        "    knn_model.fit(X_train, y_train)\n",
        "    pred = knn_model.predict(X_test)\n",
        "    error.append(np.mean(pred != y_test))\n",
        "            \n",
        "plt.figure(figsize=(9,5))\n",
        "plt.plot(range(1, 50), error, color='blue', linestyle='dashed', marker='o', markerfacecolor='red', markersize=10)\n",
        "plt.title('Error_Rate vs. K - Value')\n",
        "plt.xlabel('K')\n",
        "plt.ylabel('Error_Rate')"
      ],
      "id": "7OIwBEPSHWkE"
    },
    {
      "cell_type": "code",
      "execution_count": null,
      "metadata": {
        "id": "62xA2v-_HWkE"
      },
      "outputs": [],
      "source": [
        "train_score = []\n",
        "test_score = []\n",
        "k_vals = []\n",
        "\n",
        "for k in range(1, 11):\n",
        "    k_vals.append(k)\n",
        "    knn = KNeighborsClassifier(n_neighbors = k)\n",
        "    knn.fit(X_train, y_train)\n",
        "    \n",
        "    tr_score = knn.score(X_train, y_train)\n",
        "    train_score.append(tr_score)\n",
        "    \n",
        "    te_score = knn.score(X_test, y_test)\n",
        "    test_score.append(te_score)"
      ],
      "id": "62xA2v-_HWkE"
    },
    {
      "cell_type": "code",
      "execution_count": null,
      "metadata": {
        "id": "0YX253guHWkF",
        "outputId": "598ba5ed-561e-473c-aa67-aafe99924a7e"
      },
      "outputs": [
        {
          "data": {
            "image/png": "[encoded data removed]",
            "text/plain": [
              "<Figure size 720x360 with 1 Axes>"
            ]
          },
          "metadata": {
            "needs_background": "light"
          },
          "output_type": "display_data"
        }
      ],
      "source": [
        "plt.figure(figsize=(10,5))\n",
        "plt.xlabel('~~~Different Values of K')\n",
        "plt.ylabel('~~~Model score')\n",
        "\n",
        "plt.plot(k_vals, train_score, color ='fuchsia', label = \"training score\")\n",
        "plt.plot(k_vals, test_score, color = 'green', label = 'test score')\n",
        "plt.legend(bbox_to_anchor=(1, 1),bbox_transform=plt.gcf().transFigure)\n",
        "plt.show()"
      ],
      "id": "0YX253guHWkF"
    },
    {
      "cell_type": "markdown",
      "metadata": {
        "id": "Q4Lqg8AsHWkG"
      },
      "source": [
        "### AUC is 81 % when k=10 in KNN model:"
      ],
      "id": "Q4Lqg8AsHWkG"
    },
    {
      "cell_type": "code",
      "execution_count": null,
      "metadata": {
        "id": "__McIfUlHWkG",
        "outputId": "4f6ac73d-a3ce-49c4-a78f-ebb99a885799"
      },
      "outputs": [
        {
          "data": {
            "image/png": "[encoded data removed]",
            "text/plain": [
              "<Figure size 432x288 with 1 Axes>"
            ]
          },
          "metadata": {
            "needs_background": "light"
          },
          "output_type": "display_data"
        }
      ],
      "source": [
        "# here I was tryna to use auc metrics\n",
        "\n",
        "from sklearn.neighbors import KNeighborsClassifier\n",
        "from sklearn.metrics import roc_curve\n",
        "from sklearn.metrics import auc\n",
        "\n",
        "knn = KNeighborsClassifier(n_neighbors = 10)\n",
        "knn.fit(X_train,y_train)\n",
        "\n",
        "y_scores = knn.predict_proba(X_test)\n",
        "fpr, tpr, threshold = roc_curve(y_test, y_scores[:, 1])\n",
        "roc_auc = auc(fpr, tpr)\n",
        "\n",
        "plt.title('Receiver Operating Characteristic')\n",
        "plt.plot(fpr, tpr, 'b', label = 'AUC = %0.2f' % roc_auc)\n",
        "plt.legend(loc = 'lower right')\n",
        "plt.plot([0, 1], [0, 1],'r--')\n",
        "plt.xlim([0, 1])\n",
        "plt.ylim([0, 1])\n",
        "plt.ylabel('True Positive Rate')\n",
        "plt.xlabel('False Positive Rate')\n",
        "plt.title('ROC Curve of kNN')\n",
        "plt.show()"
      ],
      "id": "__McIfUlHWkG"
    },
    {
      "cell_type": "markdown",
      "metadata": {
        "id": "wmQZhbKtHWkK"
      },
      "source": [
        "### here, AUC is 83 % when k=50 in KNN model:"
      ],
      "id": "wmQZhbKtHWkK"
    },
    {
      "cell_type": "code",
      "execution_count": null,
      "metadata": {
        "id": "ScHuR5z4HWkL",
        "outputId": "7f72bdd0-3663-44ab-f5e6-fa9e2d398fd9"
      },
      "outputs": [
        {
          "data": {
            "image/png": "[encoded data removed]",
            "text/plain": [
              "<Figure size 432x288 with 1 Axes>"
            ]
          },
          "metadata": {
            "needs_background": "light"
          },
          "output_type": "display_data"
        }
      ],
      "source": [
        "# here I was tryna to use auc metrics\n",
        "\n",
        "from sklearn.neighbors import KNeighborsClassifier\n",
        "from sklearn.metrics import roc_curve\n",
        "from sklearn.metrics import auc\n",
        "\n",
        "knn = KNeighborsClassifier(n_neighbors = 50)\n",
        "knn.fit(X_train,y_train)\n",
        "\n",
        "y_scores = knn.predict_proba(X_test)\n",
        "fpr, tpr, threshold = roc_curve(y_test, y_scores[:, 1])\n",
        "roc_auc = auc(fpr, tpr)\n",
        "\n",
        "plt.title('Receiver Operating Characteristic')\n",
        "plt.plot(fpr, tpr, 'b', label = 'AUC = %0.2f' % roc_auc)\n",
        "plt.legend(loc = 'lower right')\n",
        "plt.plot([0, 1], [0, 1],'r--')\n",
        "plt.xlim([0, 1])\n",
        "plt.ylim([0, 1])\n",
        "plt.ylabel('True Positive Rate')\n",
        "plt.xlabel('False Positive Rate')\n",
        "plt.title('ROC Curve of kNN')\n",
        "plt.show()"
      ],
      "id": "ScHuR5z4HWkL"
    },
    {
      "cell_type": "markdown",
      "metadata": {
        "id": "OohoATWrHWkM"
      },
      "source": [
        "# Task 3 (30%)\n",
        "For dataset from Task 2, create KNN model with k-neighbors from 1 to 101 with step size 2 (1, 3, 5, ..., 99, 101). Then crate bias-variance tradeoff plot (for train and test), in order to choose the best K."
      ],
      "id": "OohoATWrHWkM"
    },
    {
      "cell_type": "code",
      "execution_count": null,
      "metadata": {
        "id": "9uOFizKAHWkN"
      },
      "outputs": [],
      "source": [
        "# put your code here:\n",
        "from sklearn.neighbors import KNeighborsClassifier\n",
        "from sklearn.metrics import accuracy_score\n",
        "\n",
        "k = np.arange(1, 101, 2)\n",
        "accuracy_train, accuracy_test = [], []\n",
        "\n",
        "for i in k:\n",
        "    knn = KNeighborsClassifier(n_neighbors=i)\n",
        "    knn.fit(X_train, y_train)\n",
        "    pred_train = knn.predict(X_train)\n",
        "    pred_test = knn.predict(X_test)\n",
        "    accuracy_train.append(accuracy_score(y_train, pred_train))\n",
        "    accuracy_test.append(accuracy_score(y_test, pred_test))\n",
        "    \n",
        "acc_df = pd.DataFrame({'k':k, 'train_acc':accuracy_train, 'test_acc':accuracy_test})"
      ],
      "id": "9uOFizKAHWkN"
    },
    {
      "cell_type": "code",
      "execution_count": null,
      "metadata": {
        "id": "a1TcyqwBHWkj"
      },
      "outputs": [],
      "source": [
        "acc_df = acc_df.melt(id_vars = 'k', var_name = 'train/test', value_name = 'accuracy')"
      ],
      "id": "a1TcyqwBHWkj"
    },
    {
      "cell_type": "code",
      "execution_count": null,
      "metadata": {
        "id": "UuUBpsZJHWkj",
        "outputId": "cabbb0bb-210a-4903-e2bd-f5436a1a7c1c"
      },
      "outputs": [
        {
          "data": {
            "text/html": [
              "<div>\n",
              "<style scoped>\n",
              "    .dataframe tbody tr th:only-of-type {\n",
              "        vertical-align: middle;\n",
              "    }\n",
              "\n",
              "    .dataframe tbody tr th {\n",
              "        vertical-align: top;\n",
              "    }\n",
              "\n",
              "    .dataframe thead th {\n",
              "        text-align: right;\n",
              "    }\n",
              "</style>\n",
              "<table border=\"1\" class=\"dataframe\">\n",
              "  <thead>\n",
              "    <tr style=\"text-align: right;\">\n",
              "      <th></th>\n",
              "      <th>k</th>\n",
              "      <th>train/test</th>\n",
              "      <th>accuracy</th>\n",
              "    </tr>\n",
              "  </thead>\n",
              "  <tbody>\n",
              "    <tr>\n",
              "      <th>0</th>\n",
              "      <td>1</td>\n",
              "      <td>train_acc</td>\n",
              "      <td>0.971791</td>\n",
              "    </tr>\n",
              "    <tr>\n",
              "      <th>1</th>\n",
              "      <td>3</td>\n",
              "      <td>train_acc</td>\n",
              "      <td>0.857819</td>\n",
              "    </tr>\n",
              "    <tr>\n",
              "      <th>2</th>\n",
              "      <td>5</td>\n",
              "      <td>train_acc</td>\n",
              "      <td>0.830935</td>\n",
              "    </tr>\n",
              "    <tr>\n",
              "      <th>3</th>\n",
              "      <td>7</td>\n",
              "      <td>train_acc</td>\n",
              "      <td>0.816925</td>\n",
              "    </tr>\n",
              "    <tr>\n",
              "      <th>4</th>\n",
              "      <td>9</td>\n",
              "      <td>train_acc</td>\n",
              "      <td>0.816357</td>\n",
              "    </tr>\n",
              "    <tr>\n",
              "      <th>...</th>\n",
              "      <td>...</td>\n",
              "      <td>...</td>\n",
              "      <td>...</td>\n",
              "    </tr>\n",
              "    <tr>\n",
              "      <th>95</th>\n",
              "      <td>91</td>\n",
              "      <td>test_acc</td>\n",
              "      <td>0.780806</td>\n",
              "    </tr>\n",
              "    <tr>\n",
              "      <th>96</th>\n",
              "      <td>93</td>\n",
              "      <td>test_acc</td>\n",
              "      <td>0.781942</td>\n",
              "    </tr>\n",
              "    <tr>\n",
              "      <th>97</th>\n",
              "      <td>95</td>\n",
              "      <td>test_acc</td>\n",
              "      <td>0.781374</td>\n",
              "    </tr>\n",
              "    <tr>\n",
              "      <th>98</th>\n",
              "      <td>97</td>\n",
              "      <td>test_acc</td>\n",
              "      <td>0.782510</td>\n",
              "    </tr>\n",
              "    <tr>\n",
              "      <th>99</th>\n",
              "      <td>99</td>\n",
              "      <td>test_acc</td>\n",
              "      <td>0.780239</td>\n",
              "    </tr>\n",
              "  </tbody>\n",
              "</table>\n",
              "<p>100 rows × 3 columns</p>\n",
              "</div>"
            ],
            "text/plain": [
              "     k train/test  accuracy\n",
              "0    1  train_acc  0.971791\n",
              "1    3  train_acc  0.857819\n",
              "2    5  train_acc  0.830935\n",
              "3    7  train_acc  0.816925\n",
              "4    9  train_acc  0.816357\n",
              "..  ..        ...       ...\n",
              "95  91   test_acc  0.780806\n",
              "96  93   test_acc  0.781942\n",
              "97  95   test_acc  0.781374\n",
              "98  97   test_acc  0.782510\n",
              "99  99   test_acc  0.780239\n",
              "\n",
              "[100 rows x 3 columns]"
            ]
          },
          "execution_count": 144,
          "metadata": {},
          "output_type": "execute_result"
        }
      ],
      "source": [
        "acc_df"
      ],
      "id": "UuUBpsZJHWkj"
    },
    {
      "cell_type": "code",
      "execution_count": null,
      "metadata": {
        "id": "wCzcyyXeHWkk",
        "outputId": "2b3f75d7-a8cc-4d2d-bd32-dde3a5aad8ae"
      },
      "outputs": [
        {
          "data": {
            "text/plain": [
              "<AxesSubplot:xlabel='k', ylabel='accuracy'>"
            ]
          },
          "execution_count": 145,
          "metadata": {},
          "output_type": "execute_result"
        },
        {
          "data": {
            "image/png": "[encoded data removed]",
            "text/plain": [
              "<Figure size 432x288 with 1 Axes>"
            ]
          },
          "metadata": {
            "needs_background": "light"
          },
          "output_type": "display_data"
        }
      ],
      "source": [
        "# PLOTTING THE GRAPH OF BIAS VARIANCE TRADE OFF:\n",
        "sns.lineplot(data = acc_df, x = 'k', y = 'accuracy', hue = 'train/test')"
      ],
      "id": "wCzcyyXeHWkk"
    },
    {
      "cell_type": "markdown",
      "metadata": {
        "id": "n-omDU9IHWkk"
      },
      "source": [
        "### Here is the plot- and we can see when k equals  from 0 till 20- then in becames stable till the end.\n",
        "### it is good."
      ],
      "id": "n-omDU9IHWkk"
    },
    {
      "cell_type": "markdown",
      "metadata": {
        "id": "iFvc_DikHWkl"
      },
      "source": [
        "---\n",
        "\n",
        "### Evaluation form (Keep it!)\n",
        "\n",
        "| Question | Mark     | Comment   \n",
        "|:-------:|:--------:|:----------------------\n",
        "| 1       |   27/30    | Calculated RMSE instead of MSE.\n",
        "| 2       |   40/40    | \n",
        "| 3       |   30/30    | \n",
        "|**Total**|**97/100**  | \n"
      ],
      "id": "iFvc_DikHWkl"
    }
  ],
  "metadata": {
    "kernelspec": {
      "display_name": "Python 3",
      "language": "python",
      "name": "python3"
    },
    "language_info": {
      "codemirror_mode": {
        "name": "ipython",
        "version": 3
      },
      "file_extension": ".py",
      "mimetype": "text/x-python",
      "name": "python",
      "nbconvert_exporter": "python",
      "pygments_lexer": "ipython3",
      "version": "3.8.5"
    },
    "colab": {
      "provenance": []
    }
  },
  "nbformat": 4,
  "nbformat_minor": 5
}